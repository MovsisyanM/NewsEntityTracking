{
 "cells": [
  {
   "cell_type": "markdown",
   "metadata": {},
   "source": [
    "# Storing scraped articles"
   ]
  },
  {
   "cell_type": "code",
   "execution_count": 1,
   "metadata": {},
   "outputs": [],
   "source": [
    "import numpy as np\n",
    "import pandas as pd\n",
    "import requests\n",
    "import re\n",
    "import sqlite3\n",
    "import time\n",
    "import json\n",
    "import openai\n",
    "import redis"
   ]
  },
  {
   "cell_type": "code",
   "execution_count": 2,
   "metadata": {},
   "outputs": [],
   "source": [
    "r = redis.Redis(\"localhost\", 5211, decode_responses=True)"
   ]
  },
  {
   "cell_type": "code",
   "execution_count": 3,
   "metadata": {},
   "outputs": [],
   "source": [
    "db = sqlite3.connect(\"scraping.db\")"
   ]
  },
  {
   "cell_type": "code",
   "execution_count": 4,
   "metadata": {},
   "outputs": [
    {
     "name": "stdout",
     "output_type": "stream",
     "text": [
      "(84380,)\n"
     ]
    }
   ],
   "source": [
    "cur = db.execute(\"select count(*) from article where content is null\")\n",
    "db.commit()\n",
    "for row in cur:\n",
    "    print(row)"
   ]
  },
  {
   "cell_type": "code",
   "execution_count": 7,
   "metadata": {},
   "outputs": [
    {
     "name": "stdout",
     "output_type": "stream",
     "text": [
      "15771 Nothing to store, idling...\r"
     ]
    }
   ],
   "source": [
    "n = 14716\n",
    "while True:\n",
    "    try:\n",
    "        if (data := r.rpop(\"to_store_tertam\")) is None:\n",
    "            print(f\"{n} Nothing to store, idling...\", end=\"\\r\")\n",
    "            time.sleep(1)\n",
    "        else:\n",
    "            data = json.loads(data)\n",
    "            \n",
    "            if len(data[\"id\"]) == 0:\n",
    "                print(\"ERROR, NO ID\", end=\"\\r\")\n",
    "                continue\n",
    "            if len(data[\"content\"]) == 0:\n",
    "                print(\"ERROR, NO CONTENT\", end=\"\\r\")\n",
    "                continue\n",
    "\n",
    "            n += 1\n",
    "            print(str(n) + \"      \", end=\"\\r\")\n",
    "\n",
    "            db.execute(f'update article set content = ? where id = ?', (data[\"content\"], data[\"id\"]))\n",
    "            db.commit()\n",
    "    except KeyboardInterrupt as ki:\n",
    "        db.commit()"
   ]
  },
  {
   "cell_type": "code",
   "execution_count": 6,
   "metadata": {},
   "outputs": [],
   "source": [
    "db.commit()"
   ]
  },
  {
   "cell_type": "code",
   "execution_count": null,
   "metadata": {},
   "outputs": [
    {
     "data": {
      "text/plain": [
       "0"
      ]
     },
     "execution_count": 7,
     "metadata": {},
     "output_type": "execute_result"
    }
   ],
   "source": [
    "r.llen(\"to_store_tertam\")"
   ]
  }
 ],
 "metadata": {
  "kernelspec": {
   "display_name": "Python 3",
   "language": "python",
   "name": "python3"
  },
  "language_info": {
   "codemirror_mode": {
    "name": "ipython",
    "version": 3
   },
   "file_extension": ".py",
   "mimetype": "text/x-python",
   "name": "python",
   "nbconvert_exporter": "python",
   "pygments_lexer": "ipython3",
   "version": "3.11.3"
  }
 },
 "nbformat": 4,
 "nbformat_minor": 2
}
