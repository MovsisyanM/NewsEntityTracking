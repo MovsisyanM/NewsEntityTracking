{
 "cells": [
  {
   "cell_type": "markdown",
   "metadata": {},
   "source": [
    "# Getting sentiment from ChatGPT"
   ]
  },
  {
   "cell_type": "code",
   "execution_count": 2,
   "metadata": {},
   "outputs": [],
   "source": [
    "import numpy as np\n",
    "import pandas as pd\n",
    "import requests\n",
    "import re\n",
    "import sqlite3\n",
    "import time\n",
    "import openai\n",
    "import redis\n",
    "from matplotlib import pyplot as plt\n",
    "import asyncio\n",
    "from datetime import datetime"
   ]
  },
  {
   "cell_type": "code",
   "execution_count": 3,
   "metadata": {},
   "outputs": [],
   "source": [
    "# r = redis.Redis(\"localhost\", 5211, decode_responses=True)\n",
    "db = sqlite3.connect(\"scraping.db\")"
   ]
  },
  {
   "cell_type": "code",
   "execution_count": 6,
   "metadata": {},
   "outputs": [
    {
     "data": {
      "image/png": "[encoded data removed]",
      "text/plain": [
       "<Figure size 1200x600 with 1 Axes>"
      ]
     },
     "metadata": {},
     "output_type": "display_data"
    }
   ],
   "source": [
    "cur = db.execute(\"select time from article\")\n",
    "db.commit()\n",
    "\n",
    "fig, ax= plt.subplots(figsize=(12, 6))\n",
    "times = pd.Series([i[0] for i in cur])\n",
    "times = pd.to_datetime(times)\n",
    "times.hist(bins=128)\n",
    "ax.set_title(\"Tert.am articles in english\")\n",
    "plt.grid(False)\n",
    "plt.savefig(\"TertamEnglishArticleHist.png\")\n",
    "plt.show()"
   ]
  },
  {
   "cell_type": "code",
   "execution_count": null,
   "metadata": {},
   "outputs": [],
   "source": [
    "cur = db.execute(\"select count(*) from article where (headline like '%Russia%' or content like '%United States%') and feedback is null\")\n",
    "db.commit()\n",
    "\n",
    "list(cur)"
   ]
  },
  {
   "cell_type": "code",
   "execution_count": null,
   "metadata": {},
   "outputs": [],
   "source": [
    "messages = [{\n",
    "    \"role\": \"system\", \n",
    "    \"content\": \"Read the article, list named entities discussed in it, choose a sentiment between positive, neutral, and negative for each listed entity separately. Provide your answer in a json format with keys 'name', 'sentiment', 'explanation'.\"\n",
    "}]\n",
    "\n",
    "with open(\"../key.txt\", \"r\") as f:\n",
    "    client = openai.AsyncOpenAI(\n",
    "        api_key=f.read(),\n",
    "    )\n",
    "\n",
    "limit = False\n",
    "\n",
    "while True:\n",
    "    cur = db.execute(\"select id, headline, content from article where (headline like '%Russia%' or content like '%United States%') and feedback is null order by random() limit 512\")\n",
    "    db.commit()\n",
    "\n",
    "    l = list(cur)\n",
    "\n",
    "    if len(l) == 0:\n",
    "        break\n",
    "\n",
    "    async def get_sentiment(row):\n",
    "        chat = await client.chat.completions.create( \n",
    "            model=\"gpt-3.5-turbo-1106\", \n",
    "            response_format={ \"type\": \"json_object\" },\n",
    "            messages=messages + [{\"role\": \"user\", \"content\": \"Title: \" + row[1] + \"\\nContent: \" + row[2]}] \n",
    "        )\n",
    "        reply = chat.choices[0].message.content\n",
    "\n",
    "        return row[0], reply\n",
    "\n",
    "    async def multiple_sentiments(rows):\n",
    "        tasks = [get_sentiment(row) for row in rows]\n",
    "        res = await asyncio.gather(*tasks, return_exceptions=True)\n",
    "        return res\n",
    "\n",
    "    res = await multiple_sentiments(l)\n",
    "    print(res)\n",
    "    for r in res:\n",
    "        try:\n",
    "            db.execute(f'update article set feedback = ? where id = ?', (r[1], r[0]))\n",
    "        except TypeError as e:\n",
    "            limit = True\n",
    "            db.commit()\n",
    "            cur = db.execute(\"select count(*) from article where feedback is not null\")\n",
    "            db.commit()\n",
    "            print(f\"Got {list(cur)[0][0]} feedbacks!\", end=\"\\r\")\n",
    "    db.commit()\n",
    "    if limit:\n",
    "        limit = False\n",
    "        time.sleep(61)"
   ]
  },
  {
   "cell_type": "code",
   "execution_count": 1,
   "metadata": {},
   "outputs": [
    {
     "ename": "NameError",
     "evalue": "name 'db' is not defined",
     "output_type": "error",
     "traceback": [
      "\u001b[1;31m---------------------------------------------------------------------------\u001b[0m",
      "\u001b[1;31mNameError\u001b[0m                                 Traceback (most recent call last)",
      "\u001b[1;32mc:\\Projects\\NewsEntityTracking\\Tertam\\gpt_sentimenter.ipynb Cell 7\u001b[0m line \u001b[0;36m1\n\u001b[1;32m----> <a href='vscode-notebook-cell:/c%3A/Projects/NewsEntityTracking/Tertam/gpt_sentimenter.ipynb#W6sZmlsZQ%3D%3D?line=0'>1</a>\u001b[0m cur \u001b[39m=\u001b[39m db\u001b[39m.\u001b[39mexecute(\u001b[39m\"\u001b[39m\u001b[39mselect count(*) from article where feedback is not null\u001b[39m\u001b[39m\"\u001b[39m)\n\u001b[0;32m      <a href='vscode-notebook-cell:/c%3A/Projects/NewsEntityTracking/Tertam/gpt_sentimenter.ipynb#W6sZmlsZQ%3D%3D?line=1'>2</a>\u001b[0m db\u001b[39m.\u001b[39mcommit()\n\u001b[0;32m      <a href='vscode-notebook-cell:/c%3A/Projects/NewsEntityTracking/Tertam/gpt_sentimenter.ipynb#W6sZmlsZQ%3D%3D?line=3'>4</a>\u001b[0m (l \u001b[39m:=\u001b[39m \u001b[39mlist\u001b[39m(cur))\n",
      "\u001b[1;31mNameError\u001b[0m: name 'db' is not defined"
     ]
    }
   ],
   "source": [
    "cur = db.execute(\"select count(*) from article where feedback is not null\")\n",
    "db.commit()\n",
    "\n",
    "(l := list(cur))"
   ]
  },
  {
   "cell_type": "code",
   "execution_count": null,
   "metadata": {},
   "outputs": [],
   "source": []
  },
  {
   "cell_type": "code",
   "execution_count": null,
   "metadata": {},
   "outputs": [],
   "source": [
    "cur = db.execute(f'select count(*) from article where content like \"%United States%\"')\n",
    "db.commit()\n",
    "\n",
    "(l := list(cur))"
   ]
  },
  {
   "cell_type": "code",
   "execution_count": null,
   "metadata": {},
   "outputs": [],
   "source": [
    "cur = db.execute(f'select count(*) from article where feedback like \"%Russia%\"')\n",
    "db.commit()\n",
    "\n",
    "(l := list(cur))"
   ]
  },
  {
   "cell_type": "code",
   "execution_count": null,
   "metadata": {},
   "outputs": [],
   "source": [
    "cur = db.execute(f'select count(*) from article where headline like \"%Russia%\"')\n",
    "db.commit()\n",
    "\n",
    "(l := list(cur))"
   ]
  },
  {
   "cell_type": "code",
   "execution_count": null,
   "metadata": {},
   "outputs": [],
   "source": []
  }
 ],
 "metadata": {
  "kernelspec": {
   "display_name": "Python 3",
   "language": "python",
   "name": "python3"
  },
  "language_info": {
   "codemirror_mode": {
    "name": "ipython",
    "version": 3
   },
   "file_extension": ".py",
   "mimetype": "text/x-python",
   "name": "python",
   "nbconvert_exporter": "python",
   "pygments_lexer": "ipython3",
   "version": "3.11.3"
  }
 },
 "nbformat": 4,
 "nbformat_minor": 2
}
