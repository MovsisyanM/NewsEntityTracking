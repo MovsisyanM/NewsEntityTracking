{
 "cells": [
  {
   "cell_type": "markdown",
   "metadata": {},
   "source": [
    "# Telling scraper to scrape articles"
   ]
  },
  {
   "cell_type": "code",
   "execution_count": 8,
   "metadata": {},
   "outputs": [],
   "source": [
    "import numpy as np\n",
    "import pandas as pd\n",
    "import requests\n",
    "import re\n",
    "import sqlite3\n",
    "import time\n",
    "import openai\n",
    "import redis\n",
    "import datetime\n",
    "import json"
   ]
  },
  {
   "cell_type": "code",
   "execution_count": 9,
   "metadata": {},
   "outputs": [],
   "source": [
    "r = redis.Redis(\"localhost\", 5211, decode_responses=True)"
   ]
  },
  {
   "cell_type": "code",
   "execution_count": 15,
   "metadata": {},
   "outputs": [],
   "source": [
    "db = sqlite3.connect(\"scraping.db\")\n",
    "def create_article_table(db):\n",
    "    db.execute(\"drop table if exists article\")\n",
    "\n",
    "    db.commit()\n",
    "    db.execute(\"\"\"\n",
    "    create table if not exists article (id varchar(48) primary key, headline varchar(255), time timestamp, content text, feedback text, categories varchar(255));\n",
    "    \"\"\");\n",
    "\n",
    "    db.commit()"
   ]
  },
  {
   "cell_type": "code",
   "execution_count": 16,
   "metadata": {},
   "outputs": [],
   "source": [
    "# create_article_table(db)"
   ]
  },
  {
   "cell_type": "code",
   "execution_count": 19,
   "metadata": {},
   "outputs": [
    {
     "name": "stdout",
     "output_type": "stream",
     "text": [
      "2023\r"
     ]
    }
   ],
   "source": [
    "initial_date = datetime.datetime(2010, 3, 2)\n",
    "on_date = initial_date\n",
    "\n",
    "while on_date <= datetime.datetime.now():\n",
    "    print(on_date.year, end=\"\\r\")\n",
    "    r.lpush(\"to_fetch_list_tertam\", on_date.strftime(\"%Y/%m/%d\"))\n",
    "    on_date += datetime.timedelta(1)"
   ]
  },
  {
   "cell_type": "code",
   "execution_count": 20,
   "metadata": {},
   "outputs": [],
   "source": [
    "while r.llen(\"to_fetch_list_tertam\"): # Continue execution of notebook only after all article lists have been scraped\n",
    "    time.sleep(1)"
   ]
  },
  {
   "cell_type": "code",
   "execution_count": 21,
   "metadata": {},
   "outputs": [
    {
     "data": {
      "text/plain": [
       "(0, 84475)"
      ]
     },
     "execution_count": 21,
     "metadata": {},
     "output_type": "execute_result"
    }
   ],
   "source": [
    "r.llen(\"to_fetch_list_tertam\"), r.llen(\"to_store_list_tertam\")"
   ]
  },
  {
   "cell_type": "markdown",
   "metadata": {},
   "source": [
    "## Storing scraped list of articles to scrape"
   ]
  },
  {
   "cell_type": "code",
   "execution_count": 22,
   "metadata": {},
   "outputs": [
    {
     "name": "stdout",
     "output_type": "stream",
     "text": [
      "2023-11-25 14:30:10.760052  --  0\n",
      "2023-11-25 14:30:11.678161  --  1000\n",
      "2023-11-25 14:30:13.058592  --  2000\n",
      "2023-11-25 14:30:14.042541  --  3000\n",
      "2023-11-25 14:30:15.192013  --  4000\n",
      "2023-11-25 14:30:16.657639  --  5000\n",
      "2023-11-25 14:30:18.949861  --  6000\n",
      "2023-11-25 14:30:20.968119  --  7000\n",
      "2023-11-25 14:30:23.250148  --  8000\n",
      "2023-11-25 14:30:25.323891  --  9000  not unique\n",
      "2023-11-25 14:30:27.335830  --  10000quenique\n",
      "2023-11-25 14:30:29.251456  --  11000\n",
      "2023-11-25 14:30:31.664413  --  12000unique\n",
      "2023-11-25 14:30:33.909060  --  13000\n",
      "2023-11-25 14:30:35.900904  --  14000\n",
      "2023-11-25 14:30:37.308659  --  15000unique\n",
      "2023-11-25 14:30:38.470476  --  16000\n",
      "2023-11-25 14:30:39.613865  --  17000nique\n",
      "2023-11-25 14:30:40.758572  --  18000queueuniqueue\n",
      "2023-11-25 14:30:41.748362  --  19000ot uniqueunique\n",
      "2023-11-25 14:30:42.900155  --  2000094  not uniquee\n",
      "2023-11-25 14:30:43.920037  --  210005910  not unique\n",
      "2023-11-25 14:30:45.537773  --  22000uniqueique\n",
      "2023-11-25 14:30:46.781273  --  23000 unique not unique\n",
      "2023-11-25 14:30:47.974778  --  24000ueion/662077  not unique\n",
      "2023-11-25 14:30:49.006468  --  2500070  not uniquequeunique\n",
      "2023-11-25 14:30:49.941720  --  2600017472  not uniqueique\n",
      "2023-11-25 14:30:50.953725  --  27000 unique\n",
      "2023-11-25 14:30:51.776314  --  28000747  not unique\n",
      "2023-11-25 14:30:52.567622  --  29000eeue unique\n",
      "2023-11-25 14:30:53.371794  --  30000niquenique\n",
      "2023-11-25 14:30:54.156417  --  31000not unique\n",
      "2023-11-25 14:30:54.964192  --  32000eot unique\n",
      "2023-11-25 14:30:55.746344  --  33000  not unique\n",
      "2023-11-25 14:30:56.478575  --  34000que unique\n",
      "2023-11-25 14:30:57.284698  --  35000  not unique\n",
      "2023-11-25 14:30:58.025476  --  36000not unique\n",
      "2023-11-25 14:30:58.813645  --  37000not unique\n",
      "2023-11-25 14:30:59.660676  --  38000not unique\n",
      "2023-11-25 14:31:00.494240  --  39000ot unique\n",
      "2023-11-25 14:31:01.595451  --  40000t unique\n",
      "2023-11-25 14:31:02.946456  --  41000 not unique\n",
      "2023-11-25 14:31:04.507630  --  42000\n",
      "2023-11-25 14:31:05.502313  --  43000\n",
      "2023-11-25 14:31:06.240296  --  44000\n",
      "2023-11-25 14:31:06.912885  --  45000\n",
      "2023-11-25 14:31:07.602830  --  46000\n",
      "2023-11-25 14:31:08.274732  --  47000\n",
      "2023-11-25 14:31:08.948884  --  48000\n",
      "2023-11-25 14:31:09.723577  --  49000\n",
      "2023-11-25 14:31:10.487762  --  50000\n",
      "2023-11-25 14:31:11.216146  --  51000\n",
      "2023-11-25 14:31:11.908582  --  52000\n",
      "2023-11-25 14:31:12.625841  --  53000\n",
      "2023-11-25 14:31:13.352195  --  54000\n",
      "2023-11-25 14:31:14.056138  --  55000\n",
      "2023-11-25 14:31:14.734502  --  56000\n",
      "2023-11-25 14:31:15.419105  --  57000\n",
      "2023-11-25 14:31:16.090958  --  58000\n",
      "2023-11-25 14:31:16.762950  --  59000\n",
      "2023-11-25 14:31:17.444362  --  60000\n",
      "2023-11-25 14:31:18.151250  --  61000\n",
      "2023-11-25 14:31:18.861437  --  62000\n",
      "2023-11-25 14:31:19.553246  --  63000\n",
      "2023-11-25 14:31:20.225624  --  64000\n",
      "2023-11-25 14:31:20.911731  --  65000\n",
      "2023-11-25 14:31:21.585294  --  66000\n",
      "2023-11-25 14:31:22.286090  --  67000\n",
      "2023-11-25 14:31:22.975716  --  68000\n",
      "2023-11-25 14:31:23.657860  --  69000\n",
      "2023-11-25 14:31:24.404748  --  70000\n",
      "2023-11-25 14:31:25.193534  --  71000\n",
      "2023-11-25 14:31:25.961157  --  72000\n",
      "2023-11-25 14:31:26.700890  --  73000\n",
      "2023-11-25 14:31:27.421277  --  74000\n",
      "2023-11-25 14:31:28.146241  --  75000\n",
      "2023-11-25 14:31:28.867733  --  76000\n",
      "2023-11-25 14:31:29.621491  --  77000\n",
      "2023-11-25 14:31:30.337993  --  78000\n",
      "2023-11-25 14:31:31.013053  --  79000\n",
      "2023-11-25 14:31:31.688066  --  80000\n",
      "2023-11-25 14:31:32.379783  --  81000\n",
      "2023-11-25 14:31:33.120350  --  82000\n",
      "2023-11-25 14:31:34.074730  --  83000\n",
      "2023-11-25 14:31:35.044074  --  84000\n",
      "84484 Nothing to store, breaking\r"
     ]
    }
   ],
   "source": [
    "n = 0\n",
    "while True:\n",
    "    if (data := r.rpop(\"to_store_list_tertam\")) is None:\n",
    "        print(f\"{n} Nothing to store, breaking\", end=\"\\r\")\n",
    "        break\n",
    "    else:\n",
    "        if n % 1000 == 0:\n",
    "            print(datetime.datetime.now(), \" -- \", n)\n",
    "        data = json.loads(data)\n",
    "        \n",
    "        if len(data[\"headline\"]) == 0:\n",
    "            print(\"ERROR, NO HEADLINE\")\n",
    "            continue\n",
    "        if len(data[\"id\"]) == 0:\n",
    "            print(\"ERROR, NO ID\")\n",
    "            continue\n",
    "\n",
    "        n += 1\n",
    "        try:\n",
    "            db.execute(f'insert into article (id, headline, time, categories) values (?, ?, ?, ?)', (data[\"id\"], data[\"headline\"], data[\"date\"], data[\"categories\"]))\n",
    "        except sqlite3.IntegrityError as e:\n",
    "            db.commit()\n",
    "            print(data[\"id\"], \" not unique\", end=\"\\r\")\n",
    "        "
   ]
  },
  {
   "cell_type": "markdown",
   "metadata": {},
   "source": [
    "## Telling scraper to scrape content now"
   ]
  },
  {
   "cell_type": "code",
   "execution_count": 31,
   "metadata": {},
   "outputs": [
    {
     "name": "stdout",
     "output_type": "stream",
     "text": [
      "Waiting for it to fetch (2123), idling...\r"
     ]
    },
    {
     "ename": "KeyboardInterrupt",
     "evalue": "",
     "output_type": "error",
     "traceback": [
      "\u001b[1;31m---------------------------------------------------------------------------\u001b[0m",
      "\u001b[1;31mKeyboardInterrupt\u001b[0m                         Traceback (most recent call last)",
      "\u001b[1;32mc:\\Projects\\NewsEntityTracking\\Tertam\\fetch_messenger.ipynb Cell 12\u001b[0m line \u001b[0;36m1\n\u001b[0;32m     <a href='vscode-notebook-cell:/c%3A/Projects/NewsEntityTracking/Tertam/fetch_messenger.ipynb#X15sZmlsZQ%3D%3D?line=10'>11</a>\u001b[0m         r\u001b[39m.\u001b[39mlpush(\u001b[39m\"\u001b[39m\u001b[39mto_fetch_tertam\u001b[39m\u001b[39m\"\u001b[39m, row[\u001b[39m0\u001b[39m])\n\u001b[0;32m     <a href='vscode-notebook-cell:/c%3A/Projects/NewsEntityTracking/Tertam/fetch_messenger.ipynb#X15sZmlsZQ%3D%3D?line=11'>12</a>\u001b[0m \u001b[39melse\u001b[39;00m:\n\u001b[1;32m---> <a href='vscode-notebook-cell:/c%3A/Projects/NewsEntityTracking/Tertam/fetch_messenger.ipynb#X15sZmlsZQ%3D%3D?line=12'>13</a>\u001b[0m     time\u001b[39m.\u001b[39msleep(\u001b[39m1\u001b[39m)\n\u001b[0;32m     <a href='vscode-notebook-cell:/c%3A/Projects/NewsEntityTracking/Tertam/fetch_messenger.ipynb#X15sZmlsZQ%3D%3D?line=13'>14</a>\u001b[0m     \u001b[39mprint\u001b[39m(\u001b[39mf\u001b[39m\u001b[39m\"\u001b[39m\u001b[39mWaiting for it to fetch (\u001b[39m\u001b[39m{\u001b[39;00mr\u001b[39m.\u001b[39mllen(\u001b[39m'\u001b[39m\u001b[39mto_fetch_tertam\u001b[39m\u001b[39m'\u001b[39m)\u001b[39m}\u001b[39;00m\u001b[39m), idling...\u001b[39m\u001b[39m\"\u001b[39m, end\u001b[39m=\u001b[39m\u001b[39m\"\u001b[39m\u001b[39m\\r\u001b[39;00m\u001b[39m\"\u001b[39m)\n",
      "\u001b[1;31mKeyboardInterrupt\u001b[0m: "
     ]
    }
   ],
   "source": [
    "while True:\n",
    "    if r.llen(\"to_fetch_tertam\") < 2048:\n",
    "        cur = db.execute(\"select id, content from article where content is null order by RANDOM() limit 1024\")\n",
    "        db.commit()\n",
    "    \n",
    "        if len((cur := list(cur))) == 0:\n",
    "            print(\"No more articles to fetch\")\n",
    "            break\n",
    "\n",
    "        for row in cur:\n",
    "            r.lpush(\"to_fetch_tertam\", row[0])\n",
    "    else:\n",
    "        time.sleep(1)\n",
    "        print(f\"Waiting for it to fetch ({r.llen('to_fetch_tertam')}), idling...\", end=\"\\r\")"
   ]
  },
  {
   "cell_type": "code",
   "execution_count": 35,
   "metadata": {},
   "outputs": [
    {
     "data": {
      "text/plain": [
       "[(193,)]"
      ]
     },
     "execution_count": 35,
     "metadata": {},
     "output_type": "execute_result"
    }
   ],
   "source": [
    "cur = db.execute(\"select count(*) from article where content is null\")\n",
    "db.commit()\n",
    "\n",
    "list(cur)"
   ]
  },
  {
   "cell_type": "code",
   "execution_count": null,
   "metadata": {},
   "outputs": [],
   "source": [
    "# r.lpop(\"to_fetch_list_tertam\", r.llen(\"to_fetch_list_tertam\"))\n",
    "# r.lpop(\"to_store_list_tertam\", r.llen(\"to_store_list_tertam\"))"
   ]
  },
  {
   "cell_type": "code",
   "execution_count": null,
   "metadata": {},
   "outputs": [],
   "source": []
  }
 ],
 "metadata": {
  "kernelspec": {
   "display_name": "Python 3",
   "language": "python",
   "name": "python3"
  },
  "language_info": {
   "codemirror_mode": {
    "name": "ipython",
    "version": 3
   },
   "file_extension": ".py",
   "mimetype": "text/x-python",
   "name": "python",
   "nbconvert_exporter": "python",
   "pygments_lexer": "ipython3",
   "version": "3.11.3"
  }
 },
 "nbformat": 4,
 "nbformat_minor": 2
}
