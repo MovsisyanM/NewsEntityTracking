{
 "cells": [
  {
   "cell_type": "markdown",
   "metadata": {},
   "source": [
    "### Representing entities as nodes"
   ]
  },
  {
   "cell_type": "code",
   "execution_count": 18,
   "metadata": {},
   "outputs": [],
   "source": [
    "import pickle\n",
    "import numpy as np\n",
    "import pandas as pd\n",
    "from tqdm import tqdm\n",
    "from pathlib import Path\n",
    "import matplotlib.pyplot as plt\n",
    "from collections import Counter\n",
    "\n",
    "possible_sents = [\"positive\", \"negative\", \"neutral\"]\n",
    "sent_proportions = {'neutral': 3789399, 'positive': 1910713, 'negative': 1663099}\n",
    "\n",
    "with open(Path(\"cache\") / \"entties.dict.pkl\", \"rb\") as f:\n",
    "    entities = pickle.load(f)"
   ]
  },
  {
   "cell_type": "code",
   "execution_count": 19,
   "metadata": {},
   "outputs": [
    {
     "name": "stderr",
     "output_type": "stream",
     "text": [
      "  0%|          | 0/56945 [00:00<?, ?it/s]"
     ]
    },
    {
     "name": "stderr",
     "output_type": "stream",
     "text": [
      "100%|██████████| 56945/56945 [00:00<00:00, 140990.31it/s]\n"
     ]
    },
    {
     "data": {
      "text/plain": [
       "['positive', 'negative', 'neutral', 'connections', 'first_degree']"
      ]
     },
     "execution_count": 19,
     "metadata": {},
     "output_type": "execute_result"
    }
   ],
   "source": [
    "for ent, data in tqdm(list(entities.items())):\n",
    "    # first degree sentiment: just their own weighted sentiment\n",
    "    first_degree_sentiment = (possible_sents[\n",
    "        np.argmax([data[sent]/sent_proportions[sent] for sent in [\"positive\", \"negative\"]])\n",
    "    ])\n",
    "    \n",
    "    entities[ent][\"first_degree\"] = first_degree_sentiment\n",
    "\n",
    "list(entities[\"armenia\"].keys())"
   ]
  },
  {
   "cell_type": "code",
   "execution_count": 30,
   "metadata": {},
   "outputs": [
    {
     "name": "stderr",
     "output_type": "stream",
     "text": [
      "100%|██████████| 56945/56945 [02:17<00:00, 414.61it/s] \n"
     ]
    }
   ],
   "source": [
    "for ent, data in tqdm(list(entities.items())):\n",
    "    n_connections = Counter()\n",
    "    n_connections += data[\"connections\"][0]  # positive\n",
    "    n_connections += data[\"connections\"][1]  # negative\n",
    "\n",
    "    weighted_sent = Counter()\n",
    "    weighted_sent_2 = Counter()\n",
    "\n",
    "    for conn, weight in n_connections.most_common(10):\n",
    "        weighted_sent += {entities[conn][\"first_degree\"]: weight}\n",
    "        second_ent = entities[conn]\n",
    "\n",
    "        n_connections_2 = Counter()\n",
    "        n_connections_2 += second_ent[\"connections\"][0]  # positive\n",
    "        n_connections_2 += second_ent[\"connections\"][1]  # negative\n",
    "\n",
    "        for conn_2, weight_2 in n_connections_2.most_common(10):\n",
    "            weighted_sent_2 += {entities[conn_2][\"first_degree\"]: weight_2}\n",
    "            \n",
    "    entities[ent][\"second_degree\"] = (weighted_sent.most_common(1)[0][0]) if len(weighted_sent.most_common(1)) else \"neutral\"\n",
    "    entities[ent][\"third_degree\"] = (weighted_sent_2.most_common(1)[0][0]) if len(weighted_sent_2.most_common(1)) else \"neutral\""
   ]
  },
  {
   "cell_type": "code",
   "execution_count": 32,
   "metadata": {},
   "outputs": [
    {
     "data": {
      "text/plain": [
       "{'positive': 3364,\n",
       " 'negative': 694,\n",
       " 'neutral': 5121,\n",
       " 'first_degree': 'positive',\n",
       " 'second_degree': 'negative',\n",
       " 'third_degree': 'negative'}"
      ]
     },
     "execution_count": 32,
     "metadata": {},
     "output_type": "execute_result"
    }
   ],
   "source": [
    "{k: v for k, v in entities[\"armenia\"].items() if k != \"connections\"}"
   ]
  },
  {
   "cell_type": "code",
   "execution_count": 36,
   "metadata": {},
   "outputs": [
    {
     "data": {
      "text/plain": [
       "62.19158837474756"
      ]
     },
     "execution_count": 36,
     "metadata": {},
     "output_type": "execute_result"
    }
   ],
   "source": [
    "np.sum([ent[\"first_degree\"] == ent[\"second_degree\"] for ent in entities.values()]) * 100 / len(entities)"
   ]
  },
  {
   "cell_type": "code",
   "execution_count": 37,
   "metadata": {},
   "outputs": [
    {
     "data": {
      "text/plain": [
       "46.4237422073931"
      ]
     },
     "execution_count": 37,
     "metadata": {},
     "output_type": "execute_result"
    }
   ],
   "source": [
    "np.sum([ent[\"first_degree\"] == ent[\"third_degree\"] for ent in entities.values()]) * 100 / len(entities)"
   ]
  },
  {
   "cell_type": "code",
   "execution_count": 38,
   "metadata": {},
   "outputs": [
    {
     "data": {
      "text/plain": [
       "70.29063131091404"
      ]
     },
     "execution_count": 38,
     "metadata": {},
     "output_type": "execute_result"
    }
   ],
   "source": [
    "np.sum([ent[\"third_degree\"] == ent[\"second_degree\"] for ent in entities.values()]) * 100 / len(entities)"
   ]
  }
 ],
 "metadata": {
  "kernelspec": {
   "display_name": ".venv",
   "language": "python",
   "name": "python3"
  },
  "language_info": {
   "codemirror_mode": {
    "name": "ipython",
    "version": 3
   },
   "file_extension": ".py",
   "mimetype": "text/x-python",
   "name": "python",
   "nbconvert_exporter": "python",
   "pygments_lexer": "ipython3",
   "version": "3.11.3"
  }
 },
 "nbformat": 4,
 "nbformat_minor": 2
}
