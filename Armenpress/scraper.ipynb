{
 "cells": [
  {
   "cell_type": "code",
   "execution_count": 15,
   "metadata": {},
   "outputs": [],
   "source": [
    "import numpy as np\n",
    "import pandas as pd\n",
    "import requests\n",
    "import re\n",
    "import sqlite3"
   ]
  },
  {
   "cell_type": "code",
   "execution_count": 16,
   "metadata": {},
   "outputs": [],
   "source": [
    "db = sqlite3.connect(\"scraping.db\")"
   ]
  },
  {
   "cell_type": "code",
   "execution_count": 31,
   "metadata": {},
   "outputs": [],
   "source": [
    "db.execute(\"drop table if exists article\")\n",
    "\n",
    "db.execute(\"\"\"\n",
    "create table if not exists article (id integer primary key, headline varchar(255), time timestamp, content text);\n",
    "\"\"\");"
   ]
  },
  {
   "cell_type": "code",
   "execution_count": 30,
   "metadata": {},
   "outputs": [],
   "source": [
    "# db.execute('insert into article values (1, \"test\", \"2023/11/15 12:17:11\", \"Hello there, this is a test article\")');"
   ]
  },
  {
   "cell_type": "code",
   "execution_count": 32,
   "metadata": {},
   "outputs": [],
   "source": [
    "db.commit()"
   ]
  },
  {
   "cell_type": "code",
   "execution_count": 33,
   "metadata": {},
   "outputs": [],
   "source": [
    "cur = db.execute(\"select * from article\")\n",
    "for row in cur:\n",
    "    print(row)"
   ]
  },
  {
   "cell_type": "code",
   "execution_count": 12,
   "metadata": {},
   "outputs": [],
   "source": [
    "url = \"https://armenpress.am/eng/ajax/\"\n",
    "method = \"POST\"\n",
    "\n",
    "form_data = {\n",
    "    \"xdo\": \"news\",\n",
    "    \"lastid\": 999\n",
    "}\n",
    "\n",
    "resp = requests.post(url, form_data, headers={})"
   ]
  },
  {
   "cell_type": "code",
   "execution_count": null,
   "metadata": {},
   "outputs": [],
   "source": [
    "prev_ids = []\n",
    "lastid = 0\n",
    "\n",
    "while len(prev_ids) > 0 or lastid == 0:\n",
    "    lastid += 1\n",
    "    form_data[\"lastid\"] = lastid\n",
    "    resp = requests.post(url, form_data)\n",
    "    resp."
   ]
  },
  {
   "cell_type": "code",
   "execution_count": 13,
   "metadata": {},
   "outputs": [
    {
     "data": {
      "text/plain": [
       "['985480',\n",
       " '985474',\n",
       " '985471',\n",
       " '985467',\n",
       " '985460',\n",
       " '985457',\n",
       " '985452',\n",
       " '985451',\n",
       " '985448',\n",
       " '985447',\n",
       " '985442',\n",
       " '985437',\n",
       " '985429',\n",
       " '985422',\n",
       " '985418',\n",
       " '985404',\n",
       " '985399',\n",
       " '985386',\n",
       " '985384',\n",
       " '985382',\n",
       " '985377',\n",
       " '985375',\n",
       " '985369',\n",
       " '985363',\n",
       " '985359',\n",
       " '985357',\n",
       " '985353',\n",
       " '985351',\n",
       " '985350',\n",
       " '985349',\n",
       " '985348',\n",
       " '985347',\n",
       " '985344',\n",
       " '985330',\n",
       " '985319',\n",
       " '985315',\n",
       " '985314',\n",
       " '985311',\n",
       " '985309',\n",
       " '985307']"
      ]
     },
     "execution_count": 13,
     "metadata": {},
     "output_type": "execute_result"
    }
   ],
   "source": [
    "(article_ids := re.findall('Article\"><a href=\"/eng/news/(\\d+).html\"', resp.text))"
   ]
  },
  {
   "cell_type": "code",
   "execution_count": 10,
   "metadata": {},
   "outputs": [],
   "source": [
    "article_url = \"https://armenpress.am/eng/news/\" + str(article_ids)\n",
    "resp = requests.get(article_url)"
   ]
  },
  {
   "cell_type": "code",
   "execution_count": 11,
   "metadata": {},
   "outputs": [
    {
     "data": {
      "text/plain": [
       "'<!doctype html>\\n<html  lang=\"en\" xmlns=\"http://www.w3.org/1999/xhtml\" xmlns:og=\"http://opengraphprotocol.org/schema/\" itemscope itemtype=\"http://schema.org/WebPage\">\\n<head>\\n<meta charset=\"utf-8\">\\n<title>ARMENPRESS Armenian News Agency </title>\\n<meta name=\"viewport\" content=\"width=device-width, initial-scale=1, maximum-scale=1\">\\n<meta name=\"description\" itemprop=\"description\" content=\"\" />\\n<meta name=\\'yandex-verification\\' content=\\'72771f398cd42e1b\\' />\\n<meta name=\"keywords\" content=\"новости, news, Armenia, Հայաստան, նորություններ\" />\\n<meta name=\"generator\" content=\"armenpress.am v1.0\" />\\n<meta name=\"robots\" content=\"all\" />\\n<meta name=\"zen-verification\" content=\"uUoeIyrfNzSNpA2zL6C0XpZvz8bg78bgGn5gD9VinEwjueISRDwNv0jZXnYzmf6S\" />\\n\\n<link rel=\"apple-touch-icon\" sizes=\"180x180\" href=\"/assets/favicon/apple-touch-icon.png\">\\n<link rel=\"icon\" type=\"image/png\" sizes=\"32x32\" href=\"/assets/favicon/favicon-32x32.png\">\\n<link rel=\"icon\" type=\"image/png\" sizes=\"16x16\" href=\"/assets/favicon/favicon-16x16.png\">\\n<link rel=\"manifest\" href=\"/assets/favicon/site.webmanifest\">\\n<link rel=\"mask-icon\" href=\"/assets/favicon/safari-pinned-tab.svg\" color=\"#222161\">\\n<link rel=\"shortcut icon\" href=\"/assets/favicon/favicon.ico\">\\n<meta name=\"msapplication-TileColor\" content=\"#222161\">\\n<meta name=\"msapplication-config\" content=\"/assets/favicon/browserconfig.xml\">\\n<meta name=\"theme-color\" content=\"#222161\">\\n\\n<meta itemprop=\"url\" content=\"https://armenpress.am/\"/>\\n<meta itemprop=\"about\" content=\"https://armenpress.am/eng/about/\"/>\\n\\n<meta property=\"fb:pages\" content=\"154089991350597\" />\\n<meta property=\"og:site_name\" content=\"armenpress.am\">\\n<meta property=\"og:title\" content=\"ARMENPRESS Armenian News Agency \">\\n<meta property=\"og:description\" content=\"\">\\n<meta property=\"og:type\" content=\"article\">\\n<meta property=\"og:image\" content=\"/assets/favicon/favicon-32x32.png\" />\\n<meta property=\"fb:app_id\" content=\"788294517951552\" /><link rel=\"alternate\" type=\"application/rss+xml\" title=\"RSS\" href=\"/eng/rss/news/\" />\\n<link href=\"/assets/css/app.css\" rel=\"stylesheet\" type=\"text/css\"  media=\"screen\" />\\n<script type=\"text/javascript\">\\n\\tvar rootPath=\\'\\';\\n\\tvar curLang=\\'eng\\';\\n\\tvar curModul=\\'news\\';\\n\\tvar noMoreNews=\\'no more news\\';\\n\\n</script>\\n<script src=\"/assets/js/app.js\" type=\"text/javascript\"></script><style type=\"text/css\">\\n\\nbody {\\n\\tfont-family: Lora, Tahoma, Verdana,  Arial, Tahoma;\\n\\tfont-size:14px;\\n\\t\\n}\\n\\n</style>\\n\\n<!-- Google tag (gtag.js) -->\\n<script async src=\"https://www.googletagmanager.com/gtag/js?id=G-1F4J87EYB0\"></script>\\n<script>\\n  window.dataLayer = window.dataLayer || [];\\n  function gtag(){dataLayer.push(arguments);}\\n  gtag(\\'js\\', new Date());\\n\\n  gtag(\\'config\\', \\'G-1F4J87EYB0\\');\\n</script>\\n\\n<!-- Hotjar Tracking Code for armenpress.am -->\\n<script>\\n    (function(h,o,t,j,a,r){\\n        h.hj=h.hj||function(){(h.hj.q=h.hj.q||[]).push(arguments)};\\n        h._hjSettings={hjid:3655944,hjsv:6};\\n        a=o.getElementsByTagName(\\'head\\')[0];\\n        r=o.createElement(\\'script\\');r.async=1;\\n        r.src=t+h._hjSettings.hjid+j+h._hjSettings.hjsv;\\n        a.appendChild(r);\\n    })(window,document,\\'https://static.hotjar.com/c/hotjar-\\',\\'.js?sv=\\');\\n</script>\\n\\n<script type=\"text/javascript\" src=\"https://cdn.onesignal.com/sdks/OneSignalSDK.js\" async=\"async\"> </script>\\n<script>\\n        var OneSignal = OneSignal || [];\\n        OneSignal.push([\"init\", {\\n        appId: \"02a3b45f-6b8f-4fc9-ad63-91c0e1c3941e\",\\n        autoRegister: true,\\n        safari_web_id: \\'web.onesignal.auto.129ff751-f997-4966-a642-dcf62166c788\\',\\n        notifyButton: {\\n\\n                enable: true,\\n                showCredit: true,\\n                prenotify: true,\\n\\n                text: {\\n                \\'tip.state.unsubscribed\\': \"Ծանուցումներ ստանալու համար սեղմեք կոճակը\",\\n                \\'tip.state.subscribed\\': \"Դուք գրանցված եք ծանուցումների համակարգում\",\\n                \\'tip.state.blocked\\': \"Ծանուցումներն արգելափակված են\",\\n                \\'message.prenotify\\': \"Գանցվելու համար սեղմեք կոճակը\",\\n                \\'message.action.subscribed\\': \"Շնորհակալություն!\",\\n                \\'message.action.resubscribed\\': \"Այսուհետ ծանուցումներ կստանաք «Արմենպրես»-ից\",\\n                \\'message.action.unsubscribed\\': \"Այլևս գրանցված չեք ծանուցումների համակարգում\",\\n                \\'dialog.main.title\\': \"Ծանուցումների համակարգ\",\\n                \\'dialog.main.button.subscribe\\': \"ԳՐԱՆՑՎԵԼ\",\\n                \\'dialog.main.button.unsubscribe\\': \"ՉԵՂԱՐԿԵԼ ԳՐԱՆՑՈՒՄԸ\",\\n                \\'dialog.blocked.title\\': \"Հանել արգելափակումը\",\\n                \\'dialog.blocked.message\\': \"Ծանուցումների արգելափակումը հանելու համար հետևեք հրահանգներին:\"\\n                }\\n        }\\n        }]);\\n\\n\\t</script>\\n\\t<script src=\"https://yastatic.net/pcode/adfox/loader.js\" crossorigin=\"anonymous\"></script></head>\\n\\t<body>\\n\\t<div id=\"fb-root\"></div>\\n\\t<script>(function(d, s, id) {\\n\\t  var js, fjs = d.getElementsByTagName(s)[0];\\n\\t  if (d.getElementById(id)) return;\\n\\t  js = d.createElement(s); js.id = id;\\n\\t  js.src = \"//connect.facebook.net/en_US/sdk.js#xfbml=1&version=v2.6&appId=788294517951552\";\\n\\t  fjs.parentNode.insertBefore(js, fjs);\\n\\t}(document, \\'script\\', \\'facebook-jssdk\\'));\\n\\t</script><div id=\"sitecontainer\">\\n\\t\\t   <div id=\"topbnnr\"></div>\\n<!-- start top bar-->\\n\\t<div id=\"topbarcontainer\" >\\n\\t  <div id=\"topbar\">\\n<div id=\"langcontainer\">\\n<a href=\"/spa/news/5B985480,20985474,20985471,20985467,20985460,20985457,20985452,20985451,20985448,20985447,20985442,20985437,20985429,20985422,20985418,20985404,20985399,20985386,20985384,20985382,20985377,20985375,20985369,20985363,20985359,20985357,20985353,20985351,20985350,20985349,20985348,20985347,20985344,20985330,20985319,20985315,20985314,20985311,20985309,209853075D\"><p title=\"Esp\" class=\"lngs\" >Esp</p></a>\\n<a href=\"/ara/news/5B985480,20985474,20985471,20985467,20985460,20985457,20985452,20985451,20985448,20985447,20985442,20985437,20985429,20985422,20985418,20985404,20985399,20985386,20985384,20985382,20985377,20985375,20985369,20985363,20985359,20985357,20985353,20985351,20985350,20985349,20985348,20985347,20985344,20985330,20985319,20985315,20985314,20985311,20985309,209853075D\"><p title=\"عربي\" class=\"lngs\" >عربي</p></a>\\n<a href=\"/tur/news/5B985480,20985474,20985471,20985467,20985460,20985457,20985452,20985451,20985448,20985447,20985442,20985437,20985429,20985422,20985418,20985404,20985399,20985386,20985384,20985382,20985377,20985375,20985369,20985363,20985359,20985357,20985353,20985351,20985350,20985349,20985348,20985347,20985344,20985330,20985319,20985315,20985314,20985311,20985309,209853075D\"><p title=\"Tur\" class=\"lngs\" style=\"font-family:Verdana\">Tur</p></a>\\n<a href=\"/fre/news/5B985480,20985474,20985471,20985467,20985460,20985457,20985452,20985451,20985448,20985447,20985442,20985437,20985429,20985422,20985418,20985404,20985399,20985386,20985384,20985382,20985377,20985375,20985369,20985363,20985359,20985357,20985353,20985351,20985350,20985349,20985348,20985347,20985344,20985330,20985319,20985315,20985314,20985311,20985309,209853075D\"><p title=\"Fra\" class=\"lngs\" >Fre</p></a>\\n<a href=\"/rus/news/5B985480,20985474,20985471,20985467,20985460,20985457,20985452,20985451,20985448,20985447,20985442,20985437,20985429,20985422,20985418,20985404,20985399,20985386,20985384,20985382,20985377,20985375,20985369,20985363,20985359,20985357,20985353,20985351,20985350,20985349,20985348,20985347,20985344,20985330,20985319,20985315,20985314,20985311,20985309,209853075D\"><p title=\"Рус\" class=\"lngs\" >Рус</p></a>\\n<a href=\"/eng/news/5B985480,20985474,20985471,20985467,20985460,20985457,20985452,20985451,20985448,20985447,20985442,20985437,20985429,20985422,20985418,20985404,20985399,20985386,20985384,20985382,20985377,20985375,20985369,20985363,20985359,20985357,20985353,20985351,20985350,20985349,20985348,20985347,20985344,20985330,20985319,20985315,20985314,20985311,20985309,209853075D\"><p title=\"Eng\" class=\"langselected\" >Eng</p></a>\\n<a href=\"/arm/news/5B985480,20985474,20985471,20985467,20985460,20985457,20985452,20985451,20985448,20985447,20985442,20985437,20985429,20985422,20985418,20985404,20985399,20985386,20985384,20985382,20985377,20985375,20985369,20985363,20985359,20985357,20985353,20985351,20985350,20985349,20985348,20985347,20985344,20985330,20985319,20985315,20985314,20985311,20985309,209853075D\"><p title=\"Հայ\" class=\"lngs\" style=\"font-family:Tahoma\">Հայ</p></a>\\n</div>\\n<div id=\"loginsubscribe\"><a href=\"/eng/login/\" rel=\"facebox\">Sign in</a> </div>\\n\\t\\t<div id=\"topdatetime\">Time in Yerevan: <span id=\"clock\">11:07:36</span>, &nbsp;  15 November 2023</div>\\n\\t  </div>\\n\\t</div>\\n\\t<!-- end top bar-->\\n<!-- START site body-->\\n\\t\\t\\t\\t  <div id=\"sitebody\">\\n<!-- start site header-->\\n<div id=\"siteheader\">\\n  <div id=\"logo\">\\n  \\t<a href=\"/eng/\"></a>\\n  \\t<h1 style=\\'display:none\\'>ARMENPRESS Armenian News Agency </h1>\\n  </div>\\n  <div style=\"float:right; width:500px\" >\\n    <div id=\"rsscurcontainer\">\\n      <div id=\"currencycontainer\" style=\"display:none\">\\n      </div>\\n\\t  \\n\\t  <form id=\"sform\" name=\"sform\" action=\"/eng/search/\" method=\"get\" itemscope itemtype=\"https://schema.org/SearchAction\">\\n\\t  <div id=\"searchcontainer\">\\n\\t\\t<div id=\"calendarcontainer\" style=\"position: unset;\">\\n\\t\\t\\t<input id=\"calendar\" type=\"hidden\" style=\"margin-left:0px; width:25px; height:25px;\"/>\\n\\t\\t\\t<script>\\n\\t\\t\\t$(function() {\\n\\t\\t\\t\\t$( \"#calendar\" ).datepicker({\\n\\t\\t\\t\\t\\tshowAnim: \"fadeIn\",\\n\\t\\t\\t\\t\\tshowOn: \"button\",\\n\\t\\t\\t\\t\\tchangeMonth: true,\\n\\t\\t\\t\\t    changeYear: true,\\n\\t\\t\\t\\t\\tbuttonImage: \"/assets/css/images/calendar_ico.png\",\\n\\t\\t\\t\\t\\tbuttonImageOnly: true,\\n\\t\\t\\t\\t\\tdefaultDate: \"2023/11/15\",\\n\\t\\t\\t\\t\\tdateFormat: \"yy/mm/dd\",\\n\\t\\t\\t\\t\\tminDate: \"2001/08/10\",\\n\\t\\t\\t\\t\\tmaxDate: new Date(),\\n\\t\\t\\t\\t\\tonSelect:  function(dateText, inst) {\\n\\t\\t\\t\\t\\t\\twindow.location.href=\\'/eng/news/allthemes/\\'+dateText+\\'/\\';\\n\\t\\t\\t\\t\\t}\\n\\t\\t\\t\\t});\\n\\t\\t\\t\\t$(\"#calendar\").datepicker(\"setDate\" , \\'2023/11/15\\' );\\n\\t\\t\\t});\\n\\t\\t\\t</script>\\n\\t\\t\\t<style> .ui-widget { font-family: Lora, Tahoma, Verdana,  Arial, Tahoma } </style>\\n\\t\\t</div>\\n\\t\\t<div id=\"searchfield\">\\n\\t\\t  <div style=\"float:right\"><img id=\"searchbtn\" src=\"/assets/css/images/search_btn.png\" style=\"border:0\" align=\"absmiddle\" alt=\\'search\\' onclick=\"if(sform.q.value!=\\'\\' && sform.q.value!=\\'search news\\' &&  sform.q.value.length>2) sform.submit()\"></div>\\n\\t\\t  <div style=\"float:right\">\\n\\t\\t\\t<input type=\"text\" id=\"q\" name=\"q\" value=\"search news\" onclick=\"if(this.value==\\'search news\\') this.value=\\'\\'\" onblur=\"if(this.value==\\'\\') this.value=\\'search news\\'\" >\\n\\t\\t  </div>\\n\\t\\t</div>\\n\\t  </div>\\n\\t  </form>\\n\\n    </div>\\n\\t\\n    <div id=\"weathercontainer\"></div>\\n  \\n  </div>\\n</div>\\n<!-- end site header-->\\n<div class=\"clear\"></div>\\n<!-- START top menu-->\\n\\t\\t\\t<div id=\"menucontainer\" class=\"default\">\\n\\t\\t\\t  <div class=\"menucontainer-inner\">\\n\\n\\t<div id=\"menuzord\" class=\"menuzord blue\">\\n\\t  <a href=\"/eng/\" class=\"menuzord-brand \">Home</a>\\n\\t  <ul class=\"menuzord-menu \"><li class=\"\" ><a href=\"/eng/news/\" >All news</a><div class=\"megamenu grey megamenu-half-width\">\\n\\t\\t\\t<div class=\"megamenu-row\">\\n\\t\\t\\t\\t<div class=\"col6\"><a href=\"/eng/news/interviews/\">Interviews<br>\\n     \\t\\t <span>Interview, programs, assessment</span></a><a href=\"/eng/news/opinions/\">Opinions<br>\\n     \\t\\t <span>Event, opinion, comment</span></a><a href=\"/eng/news/factwithcomment/\">Fact with comment<br>\\n     \\t\\t <span>Assessment, fact, comments, citation</span></a><a href=\"/eng/news/pressreview/\">Press Review<br>\\n     \\t\\t <span>Newspapers, hot articles, developments</span></a><a href=\"/eng/news/projects/\">Exclusive Projects<br>\\n     \\t\\t <span>insights, Features, Exclusives</span></a><a href=\"/eng/news/anons/\">Anons<br>\\n     \\t\\t <span></span></a><a href=\"/eng/news/comment/\">Comment<br>\\n     \\t\\t <span></span></a><a href=\"/eng/news/official/\">Official<br>\\n     \\t\\t <span>Prime Minister, President, Government, National Assembly</span></a><a href=\"/eng/news/politics/\">Politics<br>\\n     \\t\\t <span>Karabakh, MFA, elections, Armenia</span></a><a href=\"/eng/news/economy/\">Economy<br>\\n     \\t\\t <span>Economy, budget, investments, construction</span></a><a href=\"/eng/news/society/\">Society<br>\\n     \\t\\t <span>Parties, NGOs, social issues, Accidents</span></a></div><div class=\"col6\"><a href=\"/eng/news/regional/\">Regional<br>\\n     \\t\\t <span>Azerbaijan, Georgia, Turkey, Iran</span></a><a href=\"/eng/news/international/\">International<br>\\n     \\t\\t <span>The USA, the European Union, Russia, terrorism</span></a><a href=\"/eng/news/diaspora/\">Diaspora<br>\\n     \\t\\t <span>Diaspora, communities, Armenians</span></a><a href=\"/eng/news/artshakh/\">Artsakh<br>\\n     \\t\\t <span>Artsakh Karabakh news</span></a><a href=\"/eng/news/culture/\">Culture<br>\\n     \\t\\t <span>Ministry of Culture, exhibition, concert</span></a><a href=\"/eng/news/sport/\">Sport<br>\\n     \\t\\t <span>Football, tournament, championship, team</span></a><a href=\"/eng/news/analytical/\">Analytical<br>\\n     \\t\\t <span>Region, conflict, comment, assessment</span></a><a href=\"/eng/news/life/\">Life<br>\\n     \\t\\t <span>Kaleidoscope, Showbiz</span></a><a href=\"/eng/news/inovation/\">Innovation<br>\\n     \\t\\t <span>IT, Science</span></a><a href=\"/eng/news/STARMUS/\">STARMUS<br>\\n     \\t\\t <span>STARMUS</span></a> </div></div></div>\\n</li>\\n<li class=\"\" ><a href=\"/eng/multimedia/slideshows/\" >Photos</a></li>\\n<li class=\"\" ><a href=\"/eng/multimedia/videos/\" >Videos</a></li>\\n<li class=\"\" style=\"background-color:#e6232e\"><a href=\"/eng/news/life/\" >Life</a></li>\\n<li class=\"\" style=\"background-color:#2a9a2a\"><a href=\"/eng/news/sport/\" >Sports</a></li>\\n\\n    </ul>\\n  </div>\\n  </div>\\n</div>\\n<!-- END top menu--> \\n<!-- START main-->\\n   \\t\\t\\t <div id=\"maincontainer\">\\n<div id=\"newscontainer\" class=\"grid\"></div>\\n<div id=\"sidebarcontainer\" class=\"grid\"><div id=\"projectscontainer\">\\n<div id=\"bh_projects\" class=\"blockheader\"><div class=\"blockheadercontrols\">\\n<a href=\"/eng/rss/news/projects/\"><img src=\"/assets/css/images/rss_small_b.png\" align=\"absmiddle\" alt=\\'RSS\\'/></a>\\n</div>Exclusive Projects</div><div class=\"sidebarblockbody\" ><p class=\"sidebarnews\">\\n\\t\\t\\t\\t\\t<img src=\"//armenpress.am/static/news/s/2023/01/1101150_s.jpg\" width=\"75\" height=\"55\" style=\"margin-right:7px;\" align=\"left\" border=\"0\" alt=\"Turkish-Armenian singer Sibil gears up for major Istanbul concert, announces upcoming \\r\\nrock-genre single \" title=\"Turkish-Armenian singer Sibil gears up for major Istanbul concert, announces upcoming \\r\\nrock-genre single \">\\n<span>12:09, 01.06.2023</span><br>\\n\\t\\t\\t\\t\\t<a href=\"/eng/news/1101150.html\" >Turkish-Armenian singer Sibil gears up for major Istanbul concert, announces upcoming \\r\\nrock-genre single </a></p><p class=\"sidebarnews\">\\n\\t\\t\\t\\t\\t<img src=\"//armenpress.am/static/news/s/2022/08/1090779_s.jpg\" width=\"75\" height=\"55\" style=\"margin-right:7px;\" align=\"left\" border=\"0\" alt=\"Regular screening the best fight against development of breast cancer\" title=\"Regular screening the best fight against development of breast cancer\">\\n<span>11:54, 08.22.2022</span><br>\\n\\t\\t\\t\\t\\t<a href=\"/eng/news/1090779.html\" >Regular screening the best fight against development of breast cancer</a></p> <p class=\"allnews\"><a href=\"/eng/news/projects/\">All news from the section</a></p><br></div></div>\\n<div>\\n\\t\\t<br><a href=\"eng/\" target=\\'blank\\'><img src=\"\" width=\"100%\" alt=\\'\\'/></a><br>\\n\\t\\t<br><a href=\"eng/\" target=\\'blank\\'><img src=\"\" width=\"100%\" alt=\\'\\'/></a><br>\\n\\t\\t</div><div style=\"padding:0 12px 18px\">\\n\\t\\t\\t\\t<a href=\"https://www.youtube.com/channel/UCf2FTVdftbWx9SwxhBclVDA/featured\" target=\"_blank\">\\n\\t\\t\\t\\t\\t<img src=\"/assets/other/youtube.png\" width=\"100%\" alt=\\'youtube\\' />\\n\\t\\t\\t\\t</a>\\n\\t\\t\\t</div><p><a href=\" https://anchor.fm/armenpress-news-agency?fbclid=IwAR1hWG1CrWU6Lr6gx4cKuvu0hEGuLLm35q4u9gVfD5LdbUYjIPhkTXXBfro \" target=\"blank\"><img src=\"https://armenpress.am/static/add/Podkast/30.11.2021.jpg\" alt=\"\" width=\"250\" height=\"125\" /></a></p>\\r\\n<p></p><!-- latest news -->\\n\\t\\t\\t<div id=\"latestnewscontainer\">\\n\\n\\t\\t\\t\\t<div id=\"bh_latestnews\" class=\"blockheader\"><div class=\"blockheadercontrols\">\\n<a href=\"/eng/rss/news/\"><img src=\"/assets/css/images/rss_small_b.png\" align=\"absmiddle\" alt=\\'RSS\\'/></a>\\n</div><a href=\\'/eng/news/\\'>Latest News</a></div>\\n\\t\\t\\t<div >\\n            <ul><li><span>11:42 </span><a href=\"/eng/news/1124171.html\"><strong>US House of Representatives to hold subcommittee hearing on Nagorno-Karabakh </strong></a></li>\\n<li><span>11:18 </span><a href=\"/eng/news/1124170.html\"><strong>Armenia has sufficient resources for infrastructures of Crossroads of Peace project, says \\r\\nfinance minister </strong></a></li>\\n<li><span>10:57 </span><a href=\"/eng/news/1124166.html\"><strong>People who have left Nagorno-Karabakh have the right to come home – says U.S. State \\r\\nDepartment </strong></a></li>\\n<li><span>10:34 </span><a href=\"/eng/news/1124164.html\"><strong>Finance Minister presents 2024 assistance programs for forcibly displaced persons of NK </strong></a></li>\\n<li><span>09:49 </span><a href=\"/eng/news/1124158.html\"><strong>Joint statement following the first session of Armenia-United Kingdom strategic dialogue\\r\\n</strong></a></li>\\n<li><span>09:15 </span><img src=\"/assets/other/video.png\" style=\"margin-right:4px;\" align=\"absmiddle\" alt=\\'Video\\' /><a href=\"/eng/news/1124115.html\"><strong>ICRC visits arrested Armenians in Azerbaijan </strong></a></li>\\n<li><span>09:14 </span><a href=\"/eng/news/1124156.html\">European Stocks - 14-11-23\\r\\n</a></li>\\n<li><span>09:13 </span><a href=\"/eng/news/1124155.html\">US stocks up - 14-11-23\\r\\n</a></li>\\n<li><span>09:12 </span><a href=\"/eng/news/1124154.html\">LME. Prices for non-ferrous and minor metals - 14-11-23\\r\\n</a></li>\\n<li><span>09:12 </span><a href=\"/eng/news/1124153.html\">NYMEX: Precious Metals Prices Up - 14-11-23\\r\\n</a></li>\\n<li><span>09:11 </span><a href=\"/eng/news/1124152.html\">Oil Prices Down - 14-11-23\\r\\n</a></li>\\n<li><span>11.14-21:39 </span><a href=\"/eng/news/1124151.html\"><strong>Minister of Foreign Affairs and Expatriates of Syria considers unacceptable any violation of \\r\\nArmenia\\'s sovereignty</strong></a></li>\\n<li><span>11.14-20:26 </span><a href=\"/eng/news/1124144.html\"><strong>Armenian FM, UK parliamentarians emphasize the importance of maintaining focus on the \\r\\nSouth Caucasus</strong></a></li>\\n<li><span>11.14-19:52 </span><img src=\"/assets/other/video.png\" style=\"margin-right:4px;\" align=\"absmiddle\" alt=\\'Video\\' /><img src=\"/assets/other/photo.png\" style=\"margin-right:4px;\" align=\"absmiddle\" alt=\\'Photo\\' /><a href=\"/eng/news/1124141.html\">Byblos Bank Armenia Celebrates Education at CaseKey 2023 Gala</a></li>\\n<li><span>11.14-19:33 </span><a href=\"/eng/news/1124139.html\"><strong>Greece\\'s main opposition party condemns Azerbaijan’s aggression in Nagorno-\\r\\nKarabakh</strong></a></li>\\n<li><span>11.14-18:58 </span><a href=\"/eng/news/1124134.html\"><strong>Armenian top security official praises work of EU civilian monitoring mission in Armenia</strong></a></li>\\n<li><span>11.14-18:37 </span><a href=\"/eng/news/1124133.html\">European Commission allocates additional 110 mln euros in humanitarian aid to Ukraine</a></li>\\n<li><span>11.14-17:57 </span><img src=\"/assets/other/video.png\" style=\"margin-right:4px;\" align=\"absmiddle\" alt=\\'Video\\' /><a href=\"/eng/news/1124130.html\">Ucraft Becomes the First Fiverr-Certified Partner in Armenia</a></li>\\n<li><span>11.14-17:10 </span><a href=\"/eng/news/1124119.html\">Central Bank of Armenia: exchange rates and prices of precious metals - 14-11-23\\r\\n</a></li>\\n<li><span>11.14-17:09 </span><a href=\"/eng/news/1124118.html\">Asian Stocks up - 14-11-23\\r\\n</a></li>\\n<li><span>11.14-16:48 </span><a href=\"/eng/news/1124116.html\"><strong>UK Minister for Europe Leo Docherty to visit Armenia </strong></a></li>\\n<li><span>11.14-16:42 </span><img src=\"/assets/other/video.png\" style=\"margin-right:4px;\" align=\"absmiddle\" alt=\\'Video\\' /><img src=\"/assets/other/photo.png\" style=\"margin-right:4px;\" align=\"absmiddle\" alt=\\'Photo\\' /><a href=\"/eng/news/1124088.html\"><strong>Cooperation agreement between Armenpress and VNA brings Armenia and Viet Nam \\r\\ncloser </strong></a></li>\\n<li><span>11.14-16:23 </span><a href=\"/eng/news/1124114.html\">BTA. Bulgarian Eighth-grader Wins Gold at Astronomy Olympiad\\r\\n</a></li>\\n<li><span>11.14-16:04 </span><img src=\"/assets/other/video.png\" style=\"margin-right:4px;\" align=\"absmiddle\" alt=\\'Video\\' /><a href=\"/eng/news/1124113.html\">Armenia reaffirms commitment to working closely with UK in addressing global challenges, \\r\\nadvancing common interests </a></li>\\n<li><span>11.14-14:48 </span><a href=\"/eng/news/1124100.html\"><strong>Armenia, UAE discuss prospects for developing defense cooperation </strong></a></li>\\n </ul><p style=\"margin:15px 0\" class=\"allnews\" ><a href=\"/eng/news/allthemes/\">All news</a> &nbsp; &nbsp;</p>\\n\\t\\t</div></div><div class=\"sidebarmenu\">\\n\\t<img src=\"/assets/css/images/li.png\" width=\"13\" height=\"13\" alt=\\'Tomorrow\\'>&nbsp;&nbsp;<a href=\"/eng/tomorrow/\" >Tomorrow</a></div>\\n<!--\\t<div class=\"sidebarmenu\">\\n\\t<img src=\"/assets/css/images/li.png\" width=\"13\" height=\"13\">&nbsp;&nbsp;<a href=\"/eng/tvprograms/\">TV Programs</a></div>\\n\\t<div class=\"sidebarmenu\">\\n\\t<img src=\"/assets/css/images/li.png\" width=\"13\" height=\"13\">&nbsp;&nbsp;<a href=\"/eng/armenpresstv/\">Armenpress TV</a></div>\\n\\t<div class=\"sidebarmenu\">\\n\\t<img src=\"/assets/css/images/li.png\" width=\"13\" height=\"13\">&nbsp;&nbsp;<a href=\"/eng/prnews/\">PR News</a></div>-->\\n<!--\\t<div class=\"sidebarmenu\">\\n\\t<img src=\"/assets/css/images/li.png\" width=\"13\" height=\"13\">&nbsp;&nbsp;<a href=\"/eng/bannerinfo/\">Banner Info</a></div>--><br>\\n<iframe src=\"https://www.facebook.com/plugins/page.php?href=https%3A%2F%2Fwww.facebook.com%2Farmenpress&tabs&width=264&height=214&small_header=false&adapt_container_width=true&hide_cover=false&show_facepile=true&appId=788294517951552\" width=\"264\" height=\"214\" style=\"border:none;overflow:hidden\" scrolling=\"no\" frameborder=\"0\" allowTransparency=\"true\" title=\"Facebook\"></iframe><div class=\"bnrcontainer\"><p><a href=\"https://www.araratbank.am/hy/visa-carder/27/\" target=\"_blank\" rel=\"noopener\"><img src=\"https://armenpress.am/static/add/Ararat%20bank%2027.01.2023/Digital-Card---250x295.jpg\" width=\"250\" height=\"295\" alt=\"Digital-Card---250x295.jpg (26 KB)\" /></a></p>\\r\\n<p><a href=\"https://dzen.ru/armenpress\" target=\"_blank\" rel=\"noopener\"><img src=\"https://armenpress.am/static/add/17.02.2023-yandex/12.png\" width=\"250\" height=\"295\" alt=\"12.png (9 KB)\" /></a></p>\\n        \\n        </div>\\n<iframe src=\"//app.b24.am/chrome-eng.html\" height=\"300\" width=\"100%\" frameborder=\"0\" title=\\'Chrome\\'></iframe><!-- START most read news -->\\n\\t\\t\\t<div id=\"mostreadnewscontainer\">\\n\\n\\t\\t\\t\\t<div id=\"bh_mostreadnews\" class=\"blockheader\"><div class=\"blockheadercontrols\">\\n</div>Most read of the week</div>\\n\\t\\t\\t<div class=\"sidebarblockbody\" ><p class=\"sidebarnews\">\\n\\t\\t\\t\\t\\t<a href=\"/eng/news/1123734.html\" ><img src=\"//armenpress.am/static/news/s/2023/11/1123734_s.jpg\" width=\"75\" height=\"55\" style=\"margin-right:7px;\" align=\"left\" border=\"0\" alt=\"Armenia buys Zen Anti-Drone System from India - EurAsian Times\" title=\"Armenia buys Zen Anti-Drone System from India - EurAsian Times\">\\n</a>\\n\\t\\t\\t\\t\\t<span>13:44, 11.08.2023</span><br>\\n\\t\\t\\t\\t\\t<small>4137 views</small></br>\\n\\t\\t\\t\\t\\t<a href=\"/eng/news/1123734.html\" >Armenia buys Zen Anti-Drone System from India - EurAsian Times</a></p><p class=\"sidebarnews\">\\n\\t\\t\\t\\t\\t<a href=\"/eng/news/1123758.html\" ><img src=\"//armenpress.am/static/news/s/2023/11/1123758_s.jpg\" width=\"75\" height=\"55\" style=\"margin-right:7px;\" align=\"left\" border=\"0\" alt=\"Azerbaijan does not need a new war with Armenia, says Aliyev\" title=\"Azerbaijan does not need a new war with Armenia, says Aliyev\">\\n</a>\\n\\t\\t\\t\\t\\t<span>18:14, 11.08.2023</span><br>\\n\\t\\t\\t\\t\\t<small>3321 views</small></br>\\n\\t\\t\\t\\t\\t<a href=\"/eng/news/1123758.html\" >Azerbaijan does not need a new war with Armenia, says Aliyev</a></p><p class=\"sidebarnews\">\\n\\t\\t\\t\\t\\t<a href=\"/eng/news/1123739.html\" ><img src=\"//armenpress.am/static/news/s/2023/11/1123739_s.jpg\" width=\"75\" height=\"55\" style=\"margin-right:7px;\" align=\"left\" border=\"0\" alt=\"Azerbaijan’s ‘extremely dangerous genocidal appetite’ is growing day by day, warns \\r\\nAmbassador \" title=\"Azerbaijan’s ‘extremely dangerous genocidal appetite’ is growing day by day, warns \\r\\nAmbassador \">\\n</a>\\n\\t\\t\\t\\t\\t<span>14:58, 11.08.2023</span><br>\\n\\t\\t\\t\\t\\t<small>3221 views</small></br>\\n\\t\\t\\t\\t\\t<a href=\"/eng/news/1123739.html\" >Azerbaijan’s ‘extremely dangerous genocidal appetite’ is growing day by day, warns \\r\\nAmbassador </a></p><p class=\"sidebarnews\">\\n\\t\\t\\t\\t\\t<a href=\"/eng/news/1123941.html\" ><img src=\"//armenpress.am/static/news/s/2023/11/1123941_s.jpg\" width=\"75\" height=\"55\" style=\"margin-right:7px;\" align=\"left\" border=\"0\" alt=\"\\r\\nPM Pashinyan refers to the &quot;Western Azerbaijan&quot; thesis put forward by the official Baku\\r\\n\" title=\"\\r\\nPM Pashinyan refers to the &quot;Western Azerbaijan&quot; thesis put forward by the official Baku\\r\\n\">\\n</a>\\n\\t\\t\\t\\t\\t<span>21:51, 11.10.2023</span><br>\\n\\t\\t\\t\\t\\t<small>3024 views</small></br>\\n\\t\\t\\t\\t\\t<a href=\"/eng/news/1123941.html\" >\\r\\nPM Pashinyan refers to the \"Western Azerbaijan\" thesis put forward by the official Baku\\r\\n</a></p><p class=\"sidebarnews\">\\n\\t\\t\\t\\t\\t<a href=\"/eng/news/1123775.html\" ><img src=\"//armenpress.am/static/news/s/2023/11/1123775_s.jpg\" width=\"75\" height=\"55\" style=\"margin-right:7px;\" align=\"left\" border=\"0\" alt=\"Conference entitled ‘The Rights of Artsakh Armenians and the European Union’  held in \\r\\nEuropean Parliament\" title=\"Conference entitled ‘The Rights of Artsakh Armenians and the European Union’  held in \\r\\nEuropean Parliament\">\\n</a>\\n\\t\\t\\t\\t\\t<span>21:36, 11.08.2023</span><br>\\n\\t\\t\\t\\t\\t<small>2850 views</small></br>\\n\\t\\t\\t\\t\\t<a href=\"/eng/news/1123775.html\" >Conference entitled ‘The Rights of Artsakh Armenians and the European Union’  held in \\r\\nEuropean Parliament</a></p></div></div>\\n\\t\\t<!-- END most read news --></div>\\n<div style=\"clear:both\"></div>\\n</div>\\n\\t\\t\\t<!-- END main-->\\n</div>\\n\\t\\t<!-- END site body-->\\n  \\n\\t  <!-- start footer-->\\n\\t<div id=\"footercontainer\" >\\n\\t  <div id=\"footermenucontainer\"><a href=\"/eng/about/\" >About us</a> | <a href=\"/eng/services/\" >Services</a> | <a href=\"/eng/partners/\" >Partners</a> | <a href=\"/eng/links/\" >Links</a> | <a href=\"/eng/advertisement/\" >Advertise with us </a> | <a href=\"/eng/careers/\" >Careers</a></div>\\n\\t  <div id=\"footermain\">\\n\\t\\t\\n\\t\\t<div id=\"copyright\" class=\"grid\">\\n\\t\\t   <h3 style=\"font-weight:bold; margin-bottom:3px\">Copyright © <span itemprop=\"copyrightYear\">2023</span> \\n\\t\\t  \\t\\t\\t<span itemscope itemprop=\"provider copyrightHolder sourceOrganization\" itemtype=\"https://schema.org/Organization\" itemid=\"https://armenpress.am\"><span itemprop=\"name\"> ARMENPRESS </span></span></p>\\n\\t\\t   </h3>The copyright for information published on this web site is owned exclusively by Armenpress news agency. \\n\\t\\t\\t\\tAll information materials published on this website are intended solely for personal use. <br />\\n\\t\\t\\t\\tFor full or partial reproduction of any material in other media it is required to acquire written permission from Armenpress news agency.\\n\\t\\t\\t\\tThose, who have committed copyright violations, will be prosecuted accordingly.<br>Website administration is not responsible neither for opinions expressed on the website, nor for the content of the advertisements and of the external links.</p>\\n\\t\\t</div>\\n\\t\\t\\n\\t\\t\\t\\t\\n\\t\\t<div id=\"aboutagency\" class=\"grid\">\\n\\t\\t  <h3><a href=\"/eng/about/\"><span style=\"\">About agency</span></a></h3>Address: Armenia, 22 Saryan Street, Yerevan, 0002, Armenpress <br>\\nTel.: <span dir=\"ltr\">+374 11 539818</span><br>\\nE-mail: <a href=\"/cdn-cgi/l/email-protection#ec8f8382988d8f98ac8d9e8189829c9e899f9fc28d81\"><span class=\"__cf_email__\" data-cfemail=\"5d3e3233293c3e291d3c2f3038332d2f382e2e733c30\">[email&#160;protected]</span></a>\\n\\t\\t</div>\\n\\t\\t<div id=\"ratandsiteby\" class=\"grid\">\\n\\t\\t  <div id=\"rating\"></div>\\n<!--\\t\\t  <div id=\"siteby\"> &nbsp; &nbsp;  Made in <br><a href=\"https://disozavr.com\" target=\"_blank\">\\n\\t\\t  \\t\\t\\t\\t\\t<img src=\"/css/images/disozavr.png\" border=\"0\"></a>\\n\\t\\t  </div>-->\\n\\t\\t</div>\\n\\t\\t\\n\\n\\t\\t\\n\\t\\t\\n\\t  </div>\\n\\t</div>\\n\\t<!-- end footer--> \\n</div>\\n<!-- Start Caramel Native Ads caramel.am/network -->\\n                <script data-cfasync=\"false\" src=\"/cdn-cgi/scripts/5c5dd728/cloudflare-static/email-decode.min.js\"></script><script>window.yaContextCb = window.yaContextCb || []</script>\\n                <script src=\"https://yandex.ru/ads/system/context.js\" async></script>\\n                <script> var cscr = document.createElement(\"script\");\\n                cscr.src = \"https://ads.caramel.am/ads.min.js\" + \"?ts=\" + new Date().getTime();\\n                document.getElementsByTagName(\"body\")[0].appendChild(cscr);\\n                </script>\\n                <!-- End Caramel Native Ads --><!-- Yandex.Metrika counter -->\\n                <script type=\"text/javascript\" >\\n                   (function(m,e,t,r,i,k,a){m[i]=m[i]||function(){(m[i].a=m[i].a||[]).push(arguments)};\\n                   m[i].l=1*new Date();k=e.createElement(t),a=e.getElementsByTagName(t)[0],k.async=1,k.src=r,a.parentNode.insertBefore(k,a)})\\n                   (window, document, \"script\", \"https://mc.yandex.ru/metrika/tag.js\", \"ym\");\\n                \\n                   ym(25282937, \"init\", {\\n                        clickmap:true,\\n                        trackLinks:true,\\n                        accurateTrackBounce:true\\n                   });\\n                </script>\\n                <noscript><div><img src=\"https://mc.yandex.ru/watch/25282937\" style=\"position:absolute; left:-9999px;\" alt=\"\" /></div></noscript>\\n                <!-- /Yandex.Metrika counter --><script>\"use strict\";var getDomain=function(){var t=location.hostname.split(\".\");return t.slice(t.length-2,t.length).join(\".\")},script=document.createElement(\"script\");script.src=\"https://mediasystems.am/banners/sites/\"+getDomain()+\"-settings.js?v=\"+Math.round(1e9*Math.random()),document.body.appendChild(script);</script><script type=\"text/javascript\" src=\"//s7.addthis.com/js/300/addthis_widget.js#pubid=ra-5726dd80203228ca\"></script>\\n\\t\\t</body>\\n</html>\\n'"
      ]
     },
     "execution_count": 11,
     "metadata": {},
     "output_type": "execute_result"
    }
   ],
   "source": [
    "resp.text"
   ]
  },
  {
   "cell_type": "code",
   "execution_count": null,
   "metadata": {},
   "outputs": [],
   "source": []
  }
 ],
 "metadata": {
  "kernelspec": {
   "display_name": "Python 3",
   "language": "python",
   "name": "python3"
  },
  "language_info": {
   "codemirror_mode": {
    "name": "ipython",
    "version": 3
   },
   "file_extension": ".py",
   "mimetype": "text/x-python",
   "name": "python",
   "nbconvert_exporter": "python",
   "pygments_lexer": "ipython3",
   "version": "3.11.3"
  }
 },
 "nbformat": 4,
 "nbformat_minor": 2
}
