{
 "cells": [
  {
   "cell_type": "markdown",
   "metadata": {},
   "source": [
    "# Storing scraped articles"
   ]
  },
  {
   "cell_type": "code",
   "execution_count": 1,
   "metadata": {},
   "outputs": [],
   "source": [
    "import numpy as np\n",
    "import pandas as pd\n",
    "import requests\n",
    "import re\n",
    "import sqlite3\n",
    "import time\n",
    "import json\n",
    "import openai\n",
    "import redis"
   ]
  },
  {
   "cell_type": "code",
   "execution_count": 2,
   "metadata": {},
   "outputs": [],
   "source": [
    "r = redis.Redis(\"localhost\", 5211, decode_responses=True)"
   ]
  },
  {
   "cell_type": "code",
   "execution_count": 2,
   "metadata": {},
   "outputs": [],
   "source": [
    "db = sqlite3.connect(\"scraping.db\") # 144139"
   ]
  },
  {
   "cell_type": "code",
   "execution_count": 5,
   "metadata": {},
   "outputs": [
    {
     "data": {
      "text/plain": [
       "[('AREMNIAN PRESIDENT SERZH SARGSYAN RECEIVES EXECUTIVE VICE-PRESIDENT OF “FRANCE TELECOM-ORANGE” COMPANY AND CHIEF DIRCTOR OF “ORANGE ARMENIA” COMPANY',\n",
       "  '{\\n  \"entities\": [\\n    {\\n      \"name\": \"Serzh Sargsyan\",\\n      \"sentiment\": \"neutral\",\\n      \"explanation\": \"mentioned as the Armenian President who received the executives\"\\n    },\\n    {\\n      \"name\": \"Olaf Swantee\",\\n      \"sentiment\": \"positive\",\\n      \"explanation\": \"Executive Vice-Director of \\\\\"France Telecom-Orange\\\\\" company\"\\n    },\\n    {\\n      \"name\": \"Bruno Dutua\",\\n      \"sentiment\": \"neutral\",\\n      \"explanation\": \"Chief Director of \\\\\"Orange Armenia\\\\\" company\"\\n    },\\n    {\\n      \"name\": \"France Telecom-Orange\",\\n      \"sentiment\": \"positive\",\\n      \"explanation\": \"mentioned as a company entering the Armenian market, bringing experience and services to Armenia\"\\n    },\\n    {\\n      \"name\": \"Orange Armenia\",\\n      \"sentiment\": \"neutral\",\\n      \"explanation\": \"mentioned as the company being led by Bruno Dutua, preparing to provide services to the population of Armenia\"\\n    },\\n    {\\n      \"name\": \"Armenpress\",\\n      \"sentiment\": \"neutral\",\\n      \"explanation\": \"mentioned as the source of information\"\\n    },\\n    {\\n      \"name\": \"Armenian-French economic cooperation\",\\n      \"sentiment\": \"positive\",\\n      \"explanation\": \"mentioned as a cooperation that may receive new impetus from the entry of France Telecom-Orange\"\\n    }\\n  ]\\n}'),\n",
       " ('ISSUES ON DEVELOPMENT OF AGRICULTURE SPHERE DISCUSSED',\n",
       "  '{\\n  \"entities\": [\\n    {\\n      \"name\": \"David Hakhverdyan\",\\n      \"sentiment\": \"positive\",\\n      \"explanation\": \"He is advocating for the development of a new strategic concept for the agriculture sphere in Armenia and emphasizes the need for the private sector\\'s involvement.\"\\n    },\\n    {\\n      \"name\": \"Corporative Management High School\",\\n      \"sentiment\": \"positive\",\\n      \"explanation\": \"The round table discussion took place at this institution, indicating its commitment to addressing agricultural development issues.\"\\n    },\\n    {\\n      \"name\": \"Armenian government\",\\n      \"sentiment\": \"neutral\",\\n      \"explanation\": \"Mentioned as a stakeholder that needs to be presented with programs and solutions for agriculture development.\"\\n    },\\n    {\\n      \"name\": \"Russian Academy of Sciences\",\\n      \"sentiment\": \"positive\",\\n      \"explanation\": \"Academician Abel Aghanbegyan, associated with the Academy, emphasizes the importance of discussions and the creation of development programs for agriculture.\"\\n    },\\n    {\\n      \"name\": \"Samvel Avetisyan\",\\n      \"sentiment\": \"neutral\",\\n      \"explanation\": \"The Deputy Minister of Agriculture acknowledges the challenges faced in the field of agriculture in Armenia and mentions the need for development of small and medium economies.\"\\n    }\\n  ]\\n}'),\n",
       " ('CREDIT AGREEMENT OF 25 MILLION USD SIGNED WITH THE WB AIMED AT FINANCING OF “EDUCATION QUALITY AND RELEVANCE” PROJECT',\n",
       "  '{\"entities\": [\\n  {\"name\": \"World Bank\", \"sentiment\": \"positive\", \"explanation\": \"The World Bank is providing a credit agreement of 25 million USD to finance the \\'Education Quality and Relevance\\' project.\"},\\n  {\"name\": \"Armenian Finance Ministry\", \"sentiment\": \"neutral\", \"explanation\": \"The credit agreement was signed in the Armenian Finance Ministry.\"},\\n  {\"name\": \"Armenian Finance Minister Tigran Davtian\", \"sentiment\": \"positive\", \"explanation\": \"Tigran Davtian signed the credit agreement on behalf of Armenia.\"},\\n  {\"name\": \"WB Yerevan office\", \"sentiment\": \"neutral\", \"explanation\": \"Aristomene Varoudakis signed the credit agreement on behalf of the World Bank.\"},\\n  {\"name\": \"Armenia\", \"sentiment\": \"positive\", \"explanation\": \"The loan agreement will contribute to the increase of education quality in Armenia.\"},\\n  {\"name\": \"education quality\", \"sentiment\": \"positive\", \"explanation\": \"The loan agreement aims to improve the education quality in Armenia.\"},\\n  {\"name\": \"educational reforms\", \"sentiment\": \"positive\", \"explanation\": \"This project is part of an initiative to support educational reforms in Armenia.\"},\\n  {\"name\": \"secondary education quality\", \"sentiment\": \"positive\", \"explanation\": \"The project aims to improve the quality of secondary education.\"},\\n  {\"name\": \"pre-school education quality\", \"sentiment\": \"positive\", \"explanation\": \"The project will improve the quality of pre-school education in vulnerable communities.\"},\\n  {\"name\": \"teaching quality\", \"sentiment\": \"positive\", \"explanation\": \"The project will train teachers and headmasters to improve teaching quality.\"},\\n  {\"name\": \"modern technologies\", \"sentiment\": \"positive\", \"explanation\": \"The project will upgrade schools with modern technologies.\"},\\n  {\"name\": \"internet connection\", \"sentiment\": \"positive\", \"explanation\": \"The project aims to provide internet connection to more than 400 schools.\"},\\n  {\"name\": \"higher education\", \"sentiment\": \"positive\", \"explanation\": \"The project aims to ensure the higher education in Armenia meets international standards.\"},\\n  {\"name\": \"educational program\", \"sentiment\": \"positive\", \"explanation\": \"The project has worked out a national educational program.\"},\\n  {\"name\": \"knowledge-based economy\", \"sentiment\": \"positive\", \"explanation\": \"The project will contribute to the establishment of a knowledge-based economy.\"},\\n  {\"name\": \"Juan Moreno\", \"sentiment\": \"positive\", \"explanation\": \"Juan Moreno, an education specialist, highlights the importance of investing in education even in times of crisis.\"},\\n  {\"name\": \"Ara Avetisian\", \"sentiment\": \"positive\", \"explanation\": \"Ara Avetisian, Deputy Armenian Education and Science Minister, recognizes the importance of the project for the educational system.\"}\\n  ]\\n}'),\n",
       " ('INTERNATIONAL OBSERVERS REGISTER THAT THE GENERAL ORGANIZATION OF ELECTIONS CORRESPONDS TO EUROPEAN STANDARDS',\n",
       "  '{\\n  \"entities\": [\\n    {\"name\": \"CoE Congress of Local and Regional Authorities\", \"sentiment\": \"positive\", \"explanation\": \"The observing mission of CoE Congress of Local and Regional Authorities welcomes the elections and expresses satisfaction.\"},\\n    {\"name\": \"Council of Yerevan Elders\", \"sentiment\": \"positive\", \"explanation\": \"The elections were of the Council of Yerevan Elders and were conducted in a normal way.\"},\\n    {\"name\": \"Yerevan\", \"sentiment\": \"positive\", \"explanation\": \"The elections took place in Yerevan and the process was conducted in a normal way.\"},\\n    {\"name\": \"Armenia\", \"sentiment\": \"neutral\", \"explanation\": \"Armenia is mentioned as the country where the elections took place.\"},\\n    {\"name\": \"Nayjel Mermagen\", \"sentiment\": \"positive\", \"explanation\": \"Nayjel Mermagen, the head of the observing mission, expressed satisfaction with the elections.\"},\\n    {\"name\": \"United Kingdom\", \"sentiment\": \"positive\", \"explanation\": \"Observers representing the United Kingdom were present in the polling stations.\"},\\n    {\"name\": \"France\", \"sentiment\": \"positive\", \"explanation\": \"Observers representing France were present in the polling stations.\"},\\n    {\"name\": \"Estonia\", \"sentiment\": \"positive\", \"explanation\": \"Observers representing Estonia were present in the polling stations.\"},\\n    {\"name\": \"Hungary\", \"sentiment\": \"positive\", \"explanation\": \"Observers representing Hungary were present in the polling stations.\"},\\n    {\"name\": \"San Marino\", \"sentiment\": \"positive\", \"explanation\": \"Observers representing San Marino were present in the polling stations.\"},\\n    {\"name\": \"Poland\", \"sentiment\": \"positive\", \"explanation\": \"Observers representing Poland were present in the polling stations.\"},\\n    {\"name\": \"Italy\", \"sentiment\": \"positive\", \"explanation\": \"Observers representing Italy were present in the polling stations.\"},\\n    {\"name\": \"Belgium\", \"sentiment\": \"positive\", \"explanation\": \"Observers representing Belgium were present in the polling stations.\"}\\n  ]\\n}'),\n",
       " ('MATTHEW BRYZA SAYS OSCE MINSK GROUP CO-CHAIRS OPTIMISTIC OVER COMING MEETING OF ARMENIAN AND AZERBAIJANI PRESIDENTS',\n",
       "  '{\\n  \"entities\": [\\n    {\\n      \"name\": \"Matthew Bryza\",\\n      \"sentiment\": \"positive\",\\n      \"explanation\": \"Matthew Bryza is optimistic about the regular meeting of the Armenian and Azerbaijani presidents.\"\\n    },\\n    {\\n      \"name\": \"OSCE Minsk group\",\\n      \"sentiment\": \"positive\",\\n      \"explanation\": \"The OSCE Minsk group is optimistic about the meeting of the Armenian and Azerbaijani presidents and hopes for progress.\"\\n    },\\n    {\\n      \"name\": \"Armenian president\",\\n      \"sentiment\": \"neutral\",\\n      \"explanation\": \"No sentiment information is provided about the Armenian president in the article.\"\\n    },\\n    {\\n      \"name\": \"Azerbaijani president\",\\n      \"sentiment\": \"neutral\",\\n      \"explanation\": \"No sentiment information is provided about the Azerbaijani president in the article.\"\\n    }\\n  ]\\n}'),\n",
       " ('EU’s REGIONAL COMMITTEE ORGANIZES CONFERENCE ON “EASTERN PARTNERSHIP” INITIATIVE',\n",
       "  '{\\n   \"entities\":[\\n      {\\n         \"name\":\"EU’s Regional Committee\",\\n         \"sentiment\":\"positive\",\\n         \"explanation\":\"The Regional Committee is organizing a conference, which implies a proactive and positive attitude towards the event.\"\\n      },\\n      {\\n         \"name\":\"conference\",\\n         \"sentiment\":\"neutral\",\\n         \"explanation\":\"The sentiment is neutral as the article does not provide any specific positive or negative connotations about the conference.\"\\n      },\\n      {\\n         \"name\":\"Eastern Partnership initiative\",\\n         \"sentiment\":\"positive\",\\n         \"explanation\":\"The initiative is being discussed and organized, indicating a positive intention towards fostering cooperation and projects in the member states.\"\\n      },\\n      {\\n         \"name\":\"European Union\",\\n         \"sentiment\":\"neutral\",\\n         \"explanation\":\"The sentiment is neutral as the article does not provide any specific positive or negative connotations about the EU.\"\\n      },\\n      {\\n         \"name\":\"RIA “Novosti”\",\\n         \"sentiment\":\"positive\",\\n         \"explanation\": \"The article references a representative from RIA “Novosti” but does not provide specific sentiment about the organization itself. Therefore, the sentiment is assumed to be positive based on the inclusion of the representative\\'s statement in the article.\"\\n      },\\n      {\\n         \"name\":\"Azerbaijan\",\\n         \"sentiment\":\"neutral\",\\n         \"explanation\":\"The sentiment is neutral as the article does not provide any specific positive or negative connotations about Azerbaijan.\"\\n      },\\n      {\\n         \"name\":\"Belarus\",\\n         \"sentiment\":\"neutral\",\\n         \"explanation\":\"The sentiment is neutral as the article does not provide any specific positive or negative connotations about Belarus.\"\\n      },\\n      {\\n         \"name\":\"Ukraine\",\\n         \"sentiment\":\"neutral\",\\n         \"explanation\":\"The sentiment is neutral as the article does not provide any specific positive or negative connotations about Ukraine.\"\\n      },\\n      {\\n         \"name\":\"Armenia\",\\n         \"sentiment\":\"neutral\",\\n         \"explanation\":\"The sentiment is neutral as the article does not provide any specific positive or negative connotations about Armenia.\"\\n      },\\n      {\\n         \"name\":\"Moldova\",\\n         \"sentiment\":\"neutral\",\\n         \"explanation\":\"The sentiment is neutral as the article does not provide any specific positive or negative connotations about Moldova.\"\\n      },\\n      {\\n         \"name\":\"Georgia\",\\n         \"sentiment\":\"neutral\",\\n         \"explanation\":\"The sentiment is neutral as the article does not provide any specific positive or negative connotations about Georgia.\"\\n      },\\n      {\\n         \"name\":\"Poland\",\\n         \"sentiment\":\"positive\",\\n         \"explanation\":\"The article mentions that Poland is one of the countries that initiated the Eastern Partnership initiative. Therefore, the sentiment is assumed to be positive towards Poland\\'s involvement.\"\\n      },\\n      {\\n         \"name\":\"Sweden\",\\n         \"sentiment\":\"positive\",\\n         \"explanation\":\"The article mentions that Sweden is one of the countries that initiated the Eastern Partnership initiative. Therefore, the sentiment is assumed to be positive towards Sweden\\'s involvement.\"\\n      }\\n   ]\\n}'),\n",
       " ('INTERNATIONAL FINANCIAL CORPORATION TO PROVIDE CREDIT OF OVERALL 5 MILLION USD TO THE “ARDSHININVESTBANK”',\n",
       "  '{\"entities\": [\\n    {\"name\": \"International Financial Corporation\", \"sentiment\": \"positive\", \"explanation\": \"IFC is providing credit, which is a positive action.\"},\\n    {\"name\": \"Ardshininvestbank\", \"sentiment\": \"positive\", \"explanation\": \"Ardshininvestbank is receiving credit, which will benefit its financing of foreign trade.\"},\\n    {\"name\": \"Sergey Virabian\", \"sentiment\": \"positive\", \"explanation\": \"Virabian is involved in the signing of the agreement, which is a positive action.\"},\\n    {\"name\": \"Snezana Stoijkovic\", \"sentiment\": \"positive\", \"explanation\": \"Stoijkovic is the IFC director and is providing support and confidence in future cooperation, which is positive.\"},\\n    {\"name\": \"Armenian Central Bank\", \"sentiment\": \"positive\", \"explanation\": \"Gabrielian emphasizes the importance of enhancing cooperation, which is seen as positive.\"}\\n]}'),\n",
       " ('V. BAYBURD SAYS GEORGIA-ARMENIA RELATIONS ARE AT PRESENT MORE PROFOUND AND WARM THAN 5-10 YEARS AGO',\n",
       "  '{\\n  \"entities\": [\\n    {\\n      \"name\": \"Mikhail Saakashvili\",\\n      \"sentiment\": \"positive\",\\n      \"explanation\": \"Georgian President visiting Armenia\"\\n    },\\n    {\\n      \"name\": \"Van Bayburd\",\\n      \"sentiment\": \"positive\",\\n      \"explanation\": \"Consultant to the Georgian President\"\\n    },\\n    {\\n      \"name\": \"Armenia\",\\n      \"sentiment\": \"positive\",\\n      \"explanation\": \"Relations discussed, friendly atmosphere\"\\n    },\\n    {\\n      \"name\": \"Georgia\",\\n      \"sentiment\": \"positive\",\\n      \"explanation\": \"Relations discussed, friendly atmosphere\"\\n    }\\n  ]\\n}'),\n",
       " ('K.MASIMOV SAYS THERE EXIST OPPORTUNITIES OF DEEPENING OF ARMENIAN-KAZAKH ECONOMIC COOPERATION',\n",
       "  '{\\n  \"entities\": [\\n    {\\n      \"name\": \"K.MASIMOV\",\\n      \"sentiment\": \"positive\",\\n      \"explanation\": \"Prime Minister of Kazakhstan, expressing interest in enhancing Armenian-Kazakh economic cooperation\"\\n    },\\n    {\\n      \"name\": \"Armenpress\",\\n      \"sentiment\": \"neutral\",\\n      \"explanation\": \"News agency mentioned in the article as the source of the information\"\\n    },\\n    {\\n      \"name\": \"Tigran Sargsyan\",\\n      \"sentiment\": \"neutral\",\\n      \"explanation\": \"Armenian Prime Minister, mentioned as a person K.Masimov had efficient talks with\"\\n    },\\n    {\\n      \"name\": \"Kazakhstan\",\\n      \"sentiment\": \"positive\",\\n      \"explanation\": \"Country whose Prime Minister is expressing interest in deepening economic cooperation with Armenia\"\\n    },\\n    {\\n      \"name\": \"Armenia\",\\n      \"sentiment\": \"positive\",\\n      \"explanation\": \"Country mentioned as having a stable financial-banking system and successful policies for small and medium-sized enterprises\"\\n    },\\n    {\\n      \"name\": \"CIS\",\\n      \"sentiment\": \"neutral\",\\n      \"explanation\": \"Commonwealth of Independent States, mentioned as a region where Armenia is considered one of the leaders\"\\n    }\\n  ]\\n}'),\n",
       " ('ARMENIAN STATE COMMISSION FOR THE PROTECTION OF ECONOMIC COMPETITION EVOKES A CASE IN THE PETROLEUM MARKET',\n",
       "  '{\\n  \"entities\": [\\n    {\\n      \"name\": \"Armenian State Commission for the Protection of Economic Competition\",\\n      \"sentiment\": \"neutral\",\\n      \"explanation\": \"Named entity is neutral because the article does not provide any positive or negative sentiments about this entity.\"\\n    },\\n    {\\n      \"name\": \"SCPEC\",\\n      \"sentiment\": \"neutral\",\\n      \"explanation\": \"Abbreviation for Armenian State Commission for the Protection of Economic Competition, which has a neutral sentiment as explained above.\"\\n    },\\n    {\\n      \"name\": \"Kagh Petrol Service\",\\n      \"sentiment\": \"negative\",\\n      \"explanation\": \"The company is mentioned in relation to increasing prices, which implies a negative sentiment.\"\\n    },\\n    {\\n      \"name\": \"City petrol group\",\\n      \"sentiment\": \"neutral\",\\n      \"explanation\": \"No sentiment provided in the article about this company.\"\\n    },\\n    {\\n      \"name\": \"Flesh\",\\n      \"sentiment\": \"neutral\",\\n      \"explanation\": \"No sentiment provided in the article about this company.\"\\n    }\\n  ]\\n}'),\n",
       " ('ARMENIAN GOVERNMENT DISCUSSES ISSUE OF FINANCING ROAD CONSTRUCTION PROGRAM IN RURAL AREAS WITH WB AND ADB',\n",
       "  '{\\n  \"entities\": [\\n    {\"name\": \"Armenian government\", \"sentiment\": \"neutral\", \"explanation\": \"The mention of the Armenian government in this context does not indicate a positive or negative sentiment.\"},\\n    {\"name\": \"Millennium Challenges Corporation\", \"sentiment\": \"negative\", \"explanation\": \"The mention of the suspension of financing by the Millennium Challenges Corporation suggests a negative sentiment.\"},\\n    {\"name\": \"World Bank\", \"sentiment\": \"positive\", \"explanation\": \"The mention of receiving funds from the World Bank suggests a positive sentiment.\"},\\n    {\"name\": \"Asian Development Bank\", \"sentiment\": \"positive\", \"explanation\": \"The mention of receiving funds from the Asian Development Bank suggests a positive sentiment.\"},\\n    {\"name\": \"Armenian Prime Minister Tigran Sargsyan\", \"sentiment\": \"neutral\", \"explanation\": \"The mention of the Armenian Prime Minister in this context does not indicate a positive or negative sentiment.\"}\\n  ]\\n}'),\n",
       " ('ARMENIAN PRESIDENT VISITS RUSSIAN EMBASSY',\n",
       "  '{\\n  \"entities\": [\\n    {\\n      \"name\": \"Armenian President Serzh Sargsyan\",\\n      \"sentiment\": \"positive\",\\n      \"explanation\": \"He is glad that the relations between the two countries are becoming better and better.\"\\n    },\\n    {\\n      \"name\": \"Russian embassy in Armenia\",\\n      \"sentiment\": \"neutral\",\\n      \"explanation\": \"\"\\n    },\\n    {\\n      \"name\": \"Russian president\",\\n      \"sentiment\": \"positive\",\\n      \"explanation\": \"The relations between Armenia and Russia are boosting from month to month and year to year.\"\\n    },\\n    {\\n      \"name\": \"Russia\",\\n      \"sentiment\": \"neutral\",\\n      \"explanation\": \"The Armenian President wishes Russia prosperity and further consolidation.\"\\n    },\\n    {\\n      \"name\": \"Armenia\",\\n      \"sentiment\": \"positive\",\\n      \"explanation\": \"The stronger Russia becomes, the stronger Armenia will be according to the Armenian President.\"\\n    }\\n  ]\\n}'),\n",
       " ('USA REGARDS THE DECLARED AMNESTY AS A POSITIVE DEVELOPMENT',\n",
       "  '{\\n  \"entities\": [\\n    {\\n      \"name\": \"United States\",\\n      \"sentiment\": \"positive\",\\n      \"explanation\": \"The United States views the amnesty declaration positively and welcomes the release of the opposition supporters.\"\\n    },\\n    {\\n      \"name\": \"June 19 amnesty declaration\",\\n      \"sentiment\": \"positive\",\\n      \"explanation\": \"The United States sees the amnesty declaration as a positive development.\"\\n    },\\n    {\\n      \"name\": \"Armenian President Serzh Sargsyan\",\\n      \"sentiment\": \"neutral\",\\n      \"explanation\": \"The article mentions the application of constitutional right but does not provide enough information to determine a sentiment.\"\\n    },\\n    {\\n      \"name\": \"Arzumanian\",\\n      \"sentiment\": \"positive\",\\n      \"explanation\": \"The release of Arzumanian is welcomed by the United States.\"\\n    },\\n    {\\n      \"name\": \"two members of the National Assembly\",\\n      \"sentiment\": \"positive\",\\n      \"explanation\": \"The release of two members of the National Assembly is welcomed by the United States.\"\\n    },\\n    {\\n      \"name\": \"12 other opposition supporters\",\\n      \"sentiment\": \"positive\",\\n      \"explanation\": \"The release of 12 other opposition supporters is welcomed by the United States.\"\\n    }\\n  ]\\n}'),\n",
       " ('AS OF JUNE',\n",
       "  '{\\n  \"entities\": [\\n    {\\n      \"name\": \"Armenian Justice Ministry\",\\n      \"sentiment\": \"neutral\",\\n      \"explanation\": \"The article mentions the Armenian Justice Ministry, but does not provide any positive or negative sentiment about it.\"\\n    },\\n    {\\n      \"name\": \"NA\",\\n      \"sentiment\": \"neutral\",\\n      \"explanation\": \"The article mentions the NA (National Assembly) as the source of the decision on amnesty, but does not provide any positive or negative sentiment about it.\"\\n    },\\n    {\\n      \"name\": \"Criminal-Executive division\",\\n      \"sentiment\": \"neutral\",\\n      \"explanation\": \"The article mentions the Criminal-Executive division of the Armenian Justice Ministry, but does not provide any positive or negative sentiment about it.\"\\n    },\\n    {\\n      \"name\": \"Nubarashen\",\\n      \"sentiment\": \"positive\",\\n      \"explanation\": \"The article states that 31 people have been set free from the Nubarashen criminal-executive establishment, which implies a positive sentiment towards their release.\"\\n    },\\n    {\\n      \"name\": \"Artik\",\\n      \"sentiment\": \"positive\",\\n      \"explanation\": \"The article states that 5 people have been set free from the Artik criminal-executive establishment, which implies a positive sentiment towards their release.\"\\n    },\\n    {\\n      \"name\": \"Vardashen\",\\n      \"sentiment\": \"positive\",\\n      \"explanation\": \"The article states that 22 people have been set free from the Vardashen criminal-executive establishment, which implies a positive sentiment towards their release.\"\\n    },\\n    {\\n      \"name\": \"Hospital of imprisoned people\",\\n      \"sentiment\": \"positive\",\\n      \"explanation\": \"The article states that 7 people have been set free from the Hospital of imprisoned people, which implies a positive sentiment towards their release.\"\\n    },\\n    {\\n      \"name\": \"Abovian\",\\n      \"sentiment\": \"positive\",\\n      \"explanation\": \"The article states that 5 women have been set free from the women\\'s department of the Abovian criminal-executive establishment, which implies a positive sentiment towards their release.\"\\n    },\\n    {\\n      \"name\": \"Meghri\",\\n      \"sentiment\": \"positive\",\\n      \"explanation\": \"The article states that 7 people have been set free from the Meghri criminal-executive establishment, which implies a positive sentiment towards their release.\"\\n    }\\n  ]\\n}'),\n",
       " ('D. HARUTYUNIAN SAYS THE PACE 1677 RESOLUTION IS AN OBJECTIVE ASSESSMENT OF THE SITUATION',\n",
       "  '{\\n  \"entities\": [\\n    {\\n      \"name\": \"D. Harutyunian\",\\n      \"sentiment\": \"positive\",\\n      \"explanation\": \"Head of the NA permanent commission for the state-legal affairs, head of the Armenian delegation to the PACE. Positive sentiment as he believes the 1677 resolution is an objective assessment and expresses his satisfaction with the discussions and proposals adopted.\"\\n    },\\n    {\\n      \"name\": \"1677 resolution\",\\n      \"sentiment\": \"positive\",\\n      \"explanation\": \"Considered an objective assessment of the situation and sets priorities for the state to follow. Positive sentiment as it is welcomed for its recognition of the implemented changes.\"\\n    },\\n    {\\n      \"name\": \"Parliamentary Assembly of the Council of Europe (PACE)\",\\n      \"sentiment\": \"positive\",\\n      \"explanation\": \"The assembly is the body responsible for adopting the resolution. Positive sentiment as it expresses a position on amnesty and encourages dialogue between political forces.\"\\n    }\\n  ]\\n}'),\n",
       " ('PROSPECTS OF DEVELOPMENT OF ARMENIAN-GREEK BUSINESS COOPERATION DISCUSSED',\n",
       "  '[\\n  {\\n    \"name\": \"Armenian-Greek business forum\",\\n    \"sentiment\": \"positive\",\\n    \"explanation\": \"The forum indicates a positive prospect for business cooperation between Armenia and Greece.\"\\n  },\\n  {\\n    \"name\": \"Greek delegation\",\\n    \"sentiment\": \"neutral\",\\n    \"explanation\": \"No specific sentiment is mentioned about the Greek delegation.\"\\n  },\\n  {\\n    \"name\": \"Erasmus Mundus\",\\n    \"sentiment\": \"positive\",\\n    \"explanation\": \"The educational project is seen as a positive development in training Armenian business and middle circle managers in Greek enterprises.\"\\n  },\\n  {\\n    \"name\": \"Armenian Union of Manufacturers and Businessmen\",\\n    \"sentiment\": \"positive\",\\n    \"explanation\": \"The organization\\'s head expressed positive views about the conference and the potential increase in Armenian-Greek commodity circulation.\"\\n  },\\n  {\\n    \"name\": \"OTE company\",\\n    \"sentiment\": \"positive\",\\n    \"explanation\": \"The company is mentioned as having a successful business plan and being involved in competitive activities.\"\\n  },\\n  {\\n    \"name\": \"Orange company\",\\n    \"sentiment\": \"positive\",\\n    \"explanation\": \"The mention of the company launching activity in Armenia suggests a positive market outlook.\"\\n  }\\n]'),\n",
       " ('EBRD AND “ELITE GROUP” COMPANY TO SIGN A CONTRACT ON MEDIUM-TERM LOANS',\n",
       "  '{\"entities\": [\\n  {\"name\": \"European Bank for Reconstruction and Development (EBRD)\", \"sentiment\": \"positive\", \"explanation\": \"Cooperating with Elite Group and providing loan\"},\\n  {\"name\": \"Elite Group\", \"sentiment\": \"positive\", \"explanation\": \"Receiving loan and grant from EBRD\"}\\n]}'),\n",
       " ('ARMENIAN AND ESTONIAN BUSINESSMEN DISCUSS POSSIBLE WAYS OF COOPERATION',\n",
       "  '{\\n  \"entities\": [\\n    {\\n      \"name\": \"Armenian Development Agency\",\\n      \"sentiment\": \"positive\",\\n      \"explanation\": \"The Armenian Development Agency is mentioned as the location of the business meeting, indicating a positive sentiment towards it.\"\\n    },\\n    {\\n      \"name\": \"Estonian Foreign Affairs Minister Urmas Paet\",\\n      \"sentiment\": \"positive\",\\n      \"explanation\": \"Urmas Paet is described as the Estonian Foreign Affairs Minister who visited Armenia and participated in the business meeting. Since the article highlights his visit and the potential for cooperation, the sentiment towards him is positive.\"\\n    },\\n    {\\n      \"name\": \"Estonia\",\\n      \"sentiment\": \"positive\",\\n      \"explanation\": \"Estonia is mentioned multiple times as a country with which Armenia aims to strengthen business relations and establish cooperation. Therefore, the sentiment towards Estonia is positive.\"\\n    },\\n    {\\n      \"name\": \"Armenia\",\\n      \"sentiment\": \"positive\",\\n      \"explanation\": \"Armenia is the country where the business meeting takes place and is expressed as having a great potential for bilateral business relations. The sentiment towards Armenia is positive.\"\\n    },\\n    {\\n      \"name\": \"knowledge-based economy\",\\n      \"sentiment\": \"positive\",\\n      \"explanation\": \"The creation of knowledge-based economy is mentioned as a common goal for both Armenia and Estonia, indicating a positive sentiment towards this concept.\"\\n    }\\n  ]\\n}'),\n",
       " ('NA SPEAKER CONGRATULATES THE NEWLY ELECTED SPEAKER OF ICELAND',\n",
       "  '{\\n  \"entities\": [\\n    {\\n      \"name\": \"Hovik Abrahamyan\",\\n      \"sentiment\": \"positive\",\\n      \"explanation\": \"NA speaker who sent a congratulatory message\"\\n    },\\n    {\\n      \"name\": \"Asta Rugnheidur Yohannesdotir\",\\n      \"sentiment\": \"positive\",\\n      \"explanation\": \"Newly elected speaker of the Icelandic parliament\"\\n    },\\n    {\\n      \"name\": \"Armenian parliament\",\\n      \"sentiment\": \"neutral\",\\n      \"explanation\": \"Represented by Hovik Abrahamyan\"\\n    }\\n  ]\\n}'),\n",
       " ('“ARMENTEL” PRESENTS TWO NEW SERVICES FOR FIXED AND MOBILE SUBSCRIBERS',\n",
       "  '{\\n  \"entities\": [\\n    {\\n      \"name\": \"ArmenTel\",\\n      \"sentiment\": \"positive\",\\n      \"explanation\": \"ArmenTel presents two new services, showing their commitment to improving services for subscribers and expanding their coverage by increasing the number of offices.\"\\n    },\\n    {\\n      \"name\": \"Igor Klimenko\",\\n      \"sentiment\": \"positive\",\\n      \"explanation\": \"Igor Klimenko, the chief director of ArmenTel, is providing information about the new services and addressing rumors about office closures.\"\\n    },\\n    {\\n      \"name\": \"Beeline\",\\n      \"sentiment\": \"neutral\",\\n      \"explanation\": \"Beeline is the fixed and mobile network where subscribers can benefit from the new services offered by ArmenTel.\"\\n    },\\n    {\\n      \"name\": \"Euroset\",\\n      \"sentiment\": \"neutral\",\\n      \"explanation\": \"ArmenTel is considering buying two offices of Euroset, but not all of them meet their requirements.\"\\n    }\\n  ]\\n}'),\n",
       " ('ARMENIAN FOREIGN MINISTER TAKES PART IN THE MEETING OF OSCE FOREIGN MINISTERS',\n",
       "  '{\\n  \"entities\": [\\n    {\\n      \"name\": \"Armenian Foreign Minister Edward Nalbandyan\",\\n      \"sentiment\": \"neutral\",\\n      \"explanation\": \"Neutral sentiment as this entity is the subject of the article and no explicit positive or negative sentiment is mentioned about them\"\\n    },\\n    {\\n      \"name\": \"OSCE Foreign Ministers\",\\n      \"sentiment\": \"neutral\",\\n      \"explanation\": \"Neutral sentiment as this entity represents a group of foreign ministers and no explicit positive or negative sentiment is mentioned about them\"\\n    },\\n    {\\n      \"name\": \"Armenian Foreign Ministry\",\\n      \"sentiment\": \"neutral\",\\n      \"explanation\": \"Neutral sentiment as this entity represents a government department and no explicit positive or negative sentiment is mentioned about them\"\\n    },\\n    {\\n      \"name\": \"CSTO member states\",\\n      \"sentiment\": \"neutral\",\\n      \"explanation\": \"Neutral sentiment as this entity represents a group of states and no explicit positive or negative sentiment is mentioned about them\"\\n    },\\n    {\\n      \"name\": \"CIS\",\\n      \"sentiment\": \"neutral\",\\n      \"explanation\": \"Neutral sentiment as this entity represents an organization and no explicit positive or negative sentiment is mentioned about them\"\\n    },\\n    {\\n      \"name\": \"EU\",\\n      \"sentiment\": \"neutral\",\\n      \"explanation\": \"Neutral sentiment as this entity represents an organization and no explicit positive or negative sentiment is mentioned about them\"\\n    },\\n    {\\n      \"name\": \"NATO\",\\n      \"sentiment\": \"neutral\",\\n      \"explanation\": \"Neutral sentiment as this entity represents an organization and no explicit positive or negative sentiment is mentioned about them\"\\n    },\\n    {\\n      \"name\": \"Greek Foreign Minister\",\\n      \"sentiment\": \"neutral\",\\n      \"explanation\": \"Neutral sentiment as this entity is mentioned to be the organizer of the meeting, and no explicit positive or negative sentiment is mentioned about them\"\\n    },\\n    {\\n      \"name\": \"Danish Foreign Minister Per Stig Muller\",\\n      \"sentiment\": \"neutral\",\\n      \"explanation\": \"Neutral sentiment as this entity is mentioned to have discussed bilateral relations, and no explicit positive or negative sentiment is mentioned about them\"\\n    },\\n    {\\n      \"name\": \"South Caucasus\",\\n      \"sentiment\": \"neutral\",\\n      \"explanation\": \"Neutral sentiment as this entity is mentioned in the context of discussing security, and no explicit positive or negative sentiment is mentioned about it\"\\n    },\\n    {\\n      \"name\": \"USA Deputy Secretary of State James Steinberg\",\\n      \"sentiment\": \"neutral\",\\n      \"explanation\": \"Neutral sentiment as this entity is mentioned to have met with Edward Nalbandyan, and no explicit positive or negative sentiment is mentioned about them\"\\n    },\\n    {\\n      \"name\": \"Assistant to the Secretary of State Phillip Gordon\",\\n      \"sentiment\": \"neutral\",\\n      \"explanation\": \"Neutral sentiment as this entity is mentioned to have been present during a meeting, and no explicit positive or negative sentiment is mentioned about them\"\\n    },\\n    {\\n      \"name\": \"Benita Ferrero-Waldner\",\\n      \"sentiment\": \"neutral\",\\n      \"explanation\": \"Neutral sentiment as this entity is mentioned to have met with Edward Nalbandyan, and no explicit positive or negative sentiment is mentioned about them\"\\n    },\\n    {\\n      \"name\": \"Commissioner for Foreign Relations and European Neighborhood of the European Commission\",\\n      \"sentiment\": \"neutral\",\\n      \"explanation\": \"Neutral sentiment as this entity is mentioned to have met with Edward Nalbandyan, and no explicit positive or negative sentiment is mentioned about them\"\\n    },\\n    {\\n      \"name\": \"Canadian Foreign Minister Lorens Cannon\",\\n      \"sentiment\": \"neutral\",\\n      \"explanation\": \"Neutral sentiment as this entity is mentioned to have discussed bilateral cooperation, and no explicit positive or negative sentiment is mentioned about them\"\\n    },\\n    {\\n      \"name\": \"Irish Foreign Minister Michael Martin\",\\n      \"sentiment\": \"neutral\",\\n      \"explanation\": \"Neutral sentiment as this entity is mentioned to have discussed bilateral relations, and no explicit positive or negative sentiment is mentioned about them\"\\n    }\\n  ]\\n}'),\n",
       " ('ARMENIAN PERMANENT REPRESENTATIVE IN UN CHARLES AZNAVOUR HANDS OVER HIS CREDENTIALS',\n",
       "  '{\\n  \"entities\": [\\n    {\\n      \"name\": \"Charles Aznavour\",\\n      \"sentiment\": \"positive\",\\n      \"explanation\": \"The article mentions that Charles Aznavour is the Armenian Permanent Representative to the UN and that his appointment was highly assessed.\"\\n    },\\n    {\\n      \"name\": \"UN Geneva headquarter\",\\n      \"sentiment\": \"neutral\",\\n      \"explanation\": \"The article mentions that Charles Aznavour handed over his credentials to the head of the UN Geneva headquarters.\"\\n    },\\n    {\\n      \"name\": \"Sergo Orjonikidze\",\\n      \"sentiment\": \"neutral\",\\n      \"explanation\": \"The article mentions that Sergo Orjonikidze is the head of the UN Geneva headquarters and had a conversation with Charles Aznavour.\"\\n    },\\n    {\\n      \"name\": \"President of Armenia\",\\n      \"sentiment\": \"positive\",\\n      \"explanation\": \"The article mentions that the decision of the President of Armenia to entrust the defense of Armenia\\'s interests to Charles Aznavour was highly assessed.\"\\n    },\\n    {\\n      \"name\": \"Foreign Ministry\",\\n      \"sentiment\": \"neutral\",\\n      \"explanation\": \"The article mentions that the Foreign Ministry\\'s press service provided information about the conversation between Charles Aznavour and S. Orjonikidze.\"\\n    }\\n  ]\\n}'),\n",
       " ('NATIONAL SEISMIC DEFENSE SERVICE DENIES THE NEWS ABOUT EXPECTING QUAKES',\n",
       "  '{\\n  \"entities\": [\\n    {\\n      \"name\": \"National Seismic Defense Service\",\\n      \"sentiment\": \"neutral\",\\n      \"explanation\": \"The service denies the news of expecting quakes, indicating no reason for panic.\"\\n    },\\n    {\\n      \"name\": \"Armenian Emergency Situations Ministry\",\\n      \"sentiment\": \"neutral\",\\n      \"explanation\": \"The ministry is responsible for the National Seismic Defense Service.\"\\n    },\\n    {\\n      \"name\": \"Hamlet Bisharian\",\\n      \"sentiment\": \"neutral\",\\n      \"explanation\": \"He is responsible for the media affairs of the National Seismic Defense Service and denies the news of expecting quakes.\"\\n    },\\n    {\\n      \"name\": \"Armenpress\",\\n      \"sentiment\": \"neutral\",\\n      \"explanation\": \"Armenpress is the source of information mentioned in the article.\"\\n    }\\n  ]\\n}'),\n",
       " ('THE 15TH ASSEMBLY OF THE WRITERS’ UNION TO BE HELD JULY 4',\n",
       "  '{\\n  \"entities\": [\\n    {\\n      \"name\": \"15th assembly\",\\n      \"sentiment\": \"neutral\",\\n      \"explanation\": \"The assembly is neither positively nor negatively described.\"\\n    },\\n    {\\n      \"name\": \"Armenian Writers’ Union\",\\n      \"sentiment\": \"neutral\",\\n      \"explanation\": \"The sentiment is neutral as no opinion or judgment is provided about the union.\"\\n    },\\n    {\\n      \"name\": \"Levon Ananyan\",\\n      \"sentiment\": \"neutral\",\\n      \"explanation\": \"No sentiment given about Levon Ananyan.\"\\n    }\\n  ]\\n}')]"
      ]
     },
     "execution_count": 5,
     "metadata": {},
     "output_type": "execute_result"
    }
   ],
   "source": [
    "cur = db.execute(\"select headline, feedback from article where feedback is not null limit 24\")\n",
    "db.commit()\n",
    "\n",
    "(l := list(cur))"
   ]
  },
  {
   "cell_type": "code",
   "execution_count": null,
   "metadata": {},
   "outputs": [],
   "source": [
    "l[]"
   ]
  },
  {
   "cell_type": "code",
   "execution_count": 4,
   "metadata": {},
   "outputs": [
    {
     "name": "stdout",
     "output_type": "stream",
     "text": [
      "(3824,)\n"
     ]
    }
   ],
   "source": [
    "cur = db.execute(\"select count(*) from article where headline = 'None'\")\n",
    "db.commit()\n",
    "for row in cur:\n",
    "    print(row)"
   ]
  },
  {
   "cell_type": "code",
   "execution_count": 5,
   "metadata": {},
   "outputs": [
    {
     "name": "stdout",
     "output_type": "stream",
     "text": [
      "138955 Nothing to store, idling...\r"
     ]
    },
    {
     "ename": "KeyboardInterrupt",
     "evalue": "",
     "output_type": "error",
     "traceback": [
      "\u001b[1;31m---------------------------------------------------------------------------\u001b[0m",
      "\u001b[1;31mKeyboardInterrupt\u001b[0m                         Traceback (most recent call last)",
      "\u001b[1;32mc:\\Projects\\NewsEntityTracking\\Armenpress\\article_storer.ipynb Cell 6\u001b[0m line \u001b[0;36m5\n\u001b[0;32m      <a href='vscode-notebook-cell:/c%3A/Projects/NewsEntityTracking/Armenpress/article_storer.ipynb#W4sZmlsZQ%3D%3D?line=2'>3</a>\u001b[0m \u001b[39mif\u001b[39;00m (data \u001b[39m:=\u001b[39m r\u001b[39m.\u001b[39mrpop(\u001b[39m\"\u001b[39m\u001b[39mto_store\u001b[39m\u001b[39m\"\u001b[39m)) \u001b[39mis\u001b[39;00m \u001b[39mNone\u001b[39;00m:\n\u001b[0;32m      <a href='vscode-notebook-cell:/c%3A/Projects/NewsEntityTracking/Armenpress/article_storer.ipynb#W4sZmlsZQ%3D%3D?line=3'>4</a>\u001b[0m     \u001b[39mprint\u001b[39m(\u001b[39mf\u001b[39m\u001b[39m\"\u001b[39m\u001b[39m{\u001b[39;00mn\u001b[39m}\u001b[39;00m\u001b[39m Nothing to store, idling...\u001b[39m\u001b[39m\"\u001b[39m, end\u001b[39m=\u001b[39m\u001b[39m\"\u001b[39m\u001b[39m\\r\u001b[39;00m\u001b[39m\"\u001b[39m)\n\u001b[1;32m----> <a href='vscode-notebook-cell:/c%3A/Projects/NewsEntityTracking/Armenpress/article_storer.ipynb#W4sZmlsZQ%3D%3D?line=4'>5</a>\u001b[0m     time\u001b[39m.\u001b[39msleep(\u001b[39m3\u001b[39m)\n\u001b[0;32m      <a href='vscode-notebook-cell:/c%3A/Projects/NewsEntityTracking/Armenpress/article_storer.ipynb#W4sZmlsZQ%3D%3D?line=5'>6</a>\u001b[0m \u001b[39melse\u001b[39;00m:\n\u001b[0;32m      <a href='vscode-notebook-cell:/c%3A/Projects/NewsEntityTracking/Armenpress/article_storer.ipynb#W4sZmlsZQ%3D%3D?line=6'>7</a>\u001b[0m     data \u001b[39m=\u001b[39m json\u001b[39m.\u001b[39mloads(data)\n",
      "\u001b[1;31mKeyboardInterrupt\u001b[0m: "
     ]
    }
   ],
   "source": [
    "n = 138955\n",
    "while True:\n",
    "    if (data := r.rpop(\"to_store\")) is None:\n",
    "        print(f\"{n} Nothing to store, idling...\", end=\"\\r\")\n",
    "        time.sleep(3)\n",
    "    else:\n",
    "        data = json.loads(data)\n",
    "        # print(data, end=\"\\r\")\n",
    "        if len(data[\"headline\"]) == 0:\n",
    "            print(\"ERROR, NO HEADLINE\")\n",
    "            continue\n",
    "        if len(data[\"content\"]) == 0:\n",
    "            print(\"ERROR, NO CONTENT\")\n",
    "            continue\n",
    "        n += 1\n",
    "        print(n, end=\"\\r\")\n",
    "        db.execute(f'update article set headline = ?, content = ? where id = ?', (data[\"headline\"], data[\"content\"], int(data[\"id\"])))\n",
    "        db.commit()"
   ]
  },
  {
   "cell_type": "code",
   "execution_count": null,
   "metadata": {},
   "outputs": [],
   "source": []
  },
  {
   "cell_type": "code",
   "execution_count": null,
   "metadata": {},
   "outputs": [],
   "source": []
  }
 ],
 "metadata": {
  "kernelspec": {
   "display_name": "Python 3",
   "language": "python",
   "name": "python3"
  },
  "language_info": {
   "codemirror_mode": {
    "name": "ipython",
    "version": 3
   },
   "file_extension": ".py",
   "mimetype": "text/x-python",
   "name": "python",
   "nbconvert_exporter": "python",
   "pygments_lexer": "ipython3",
   "version": "3.11.3"
  }
 },
 "nbformat": 4,
 "nbformat_minor": 2
}
