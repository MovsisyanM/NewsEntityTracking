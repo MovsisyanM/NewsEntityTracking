{
 "cells": [
  {
   "cell_type": "markdown",
   "metadata": {},
   "source": [
    "# Storing scraped articles"
   ]
  },
  {
   "cell_type": "code",
   "execution_count": 1,
   "metadata": {},
   "outputs": [],
   "source": [
    "import numpy as np\n",
    "import pandas as pd\n",
    "import requests\n",
    "import re\n",
    "import sqlite3\n",
    "import time\n",
    "import json\n",
    "import openai\n",
    "import redis"
   ]
  },
  {
   "cell_type": "code",
   "execution_count": 2,
   "metadata": {},
   "outputs": [],
   "source": [
    "r = redis.Redis(\"localhost\", 5211, decode_responses=True)"
   ]
  },
  {
   "cell_type": "code",
   "execution_count": 3,
   "metadata": {},
   "outputs": [],
   "source": [
    "db = sqlite3.connect(\"scraping.db\") # 144139"
   ]
  },
  {
   "cell_type": "code",
   "execution_count": 4,
   "metadata": {},
   "outputs": [
    {
     "name": "stdout",
     "output_type": "stream",
     "text": [
      "(3824,)\n"
     ]
    }
   ],
   "source": [
    "cur = db.execute(\"select count(*) from article where headline = 'None'\")\n",
    "db.commit()\n",
    "for row in cur:\n",
    "    print(row)"
   ]
  },
  {
   "cell_type": "code",
   "execution_count": 5,
   "metadata": {},
   "outputs": [
    {
     "name": "stdout",
     "output_type": "stream",
     "text": [
      "138955 Nothing to store, idling...\r"
     ]
    },
    {
     "ename": "KeyboardInterrupt",
     "evalue": "",
     "output_type": "error",
     "traceback": [
      "\u001b[1;31m---------------------------------------------------------------------------\u001b[0m",
      "\u001b[1;31mKeyboardInterrupt\u001b[0m                         Traceback (most recent call last)",
      "\u001b[1;32mc:\\Projects\\NewsEntityTracking\\Armenpress\\article_storer.ipynb Cell 6\u001b[0m line \u001b[0;36m5\n\u001b[0;32m      <a href='vscode-notebook-cell:/c%3A/Projects/NewsEntityTracking/Armenpress/article_storer.ipynb#W4sZmlsZQ%3D%3D?line=2'>3</a>\u001b[0m \u001b[39mif\u001b[39;00m (data \u001b[39m:=\u001b[39m r\u001b[39m.\u001b[39mrpop(\u001b[39m\"\u001b[39m\u001b[39mto_store\u001b[39m\u001b[39m\"\u001b[39m)) \u001b[39mis\u001b[39;00m \u001b[39mNone\u001b[39;00m:\n\u001b[0;32m      <a href='vscode-notebook-cell:/c%3A/Projects/NewsEntityTracking/Armenpress/article_storer.ipynb#W4sZmlsZQ%3D%3D?line=3'>4</a>\u001b[0m     \u001b[39mprint\u001b[39m(\u001b[39mf\u001b[39m\u001b[39m\"\u001b[39m\u001b[39m{\u001b[39;00mn\u001b[39m}\u001b[39;00m\u001b[39m Nothing to store, idling...\u001b[39m\u001b[39m\"\u001b[39m, end\u001b[39m=\u001b[39m\u001b[39m\"\u001b[39m\u001b[39m\\r\u001b[39;00m\u001b[39m\"\u001b[39m)\n\u001b[1;32m----> <a href='vscode-notebook-cell:/c%3A/Projects/NewsEntityTracking/Armenpress/article_storer.ipynb#W4sZmlsZQ%3D%3D?line=4'>5</a>\u001b[0m     time\u001b[39m.\u001b[39msleep(\u001b[39m3\u001b[39m)\n\u001b[0;32m      <a href='vscode-notebook-cell:/c%3A/Projects/NewsEntityTracking/Armenpress/article_storer.ipynb#W4sZmlsZQ%3D%3D?line=5'>6</a>\u001b[0m \u001b[39melse\u001b[39;00m:\n\u001b[0;32m      <a href='vscode-notebook-cell:/c%3A/Projects/NewsEntityTracking/Armenpress/article_storer.ipynb#W4sZmlsZQ%3D%3D?line=6'>7</a>\u001b[0m     data \u001b[39m=\u001b[39m json\u001b[39m.\u001b[39mloads(data)\n",
      "\u001b[1;31mKeyboardInterrupt\u001b[0m: "
     ]
    }
   ],
   "source": [
    "n = 138955\n",
    "while True:\n",
    "    if (data := r.rpop(\"to_store\")) is None:\n",
    "        print(f\"{n} Nothing to store, idling...\", end=\"\\r\")\n",
    "        time.sleep(3)\n",
    "    else:\n",
    "        data = json.loads(data)\n",
    "        # print(data, end=\"\\r\")\n",
    "        if len(data[\"headline\"]) == 0:\n",
    "            print(\"ERROR, NO HEADLINE\")\n",
    "            continue\n",
    "        if len(data[\"content\"]) == 0:\n",
    "            print(\"ERROR, NO CONTENT\")\n",
    "            continue\n",
    "        n += 1\n",
    "        print(n, end=\"\\r\")\n",
    "        db.execute(f'update article set headline = ?, content = ? where id = ?', (data[\"headline\"], data[\"content\"], int(data[\"id\"])))\n",
    "        db.commit()"
   ]
  },
  {
   "cell_type": "code",
   "execution_count": null,
   "metadata": {},
   "outputs": [],
   "source": []
  },
  {
   "cell_type": "code",
   "execution_count": null,
   "metadata": {},
   "outputs": [],
   "source": []
  }
 ],
 "metadata": {
  "kernelspec": {
   "display_name": "Python 3",
   "language": "python",
   "name": "python3"
  },
  "language_info": {
   "codemirror_mode": {
    "name": "ipython",
    "version": 3
   },
   "file_extension": ".py",
   "mimetype": "text/x-python",
   "name": "python",
   "nbconvert_exporter": "python",
   "pygments_lexer": "ipython3",
   "version": "3.11.3"
  }
 },
 "nbformat": 4,
 "nbformat_minor": 2
}
