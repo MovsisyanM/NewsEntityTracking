{
 "cells": [
  {
   "cell_type": "markdown",
   "metadata": {},
   "source": [
    "# Getting sentiment from ChatGPT"
   ]
  },
  {
   "cell_type": "code",
   "execution_count": 7,
   "metadata": {},
   "outputs": [],
   "source": [
    "import numpy as np\n",
    "import pandas as pd\n",
    "import requests\n",
    "import re\n",
    "import sqlite3\n",
    "import time\n",
    "import openai\n",
    "import redis\n",
    "import asyncio"
   ]
  },
  {
   "cell_type": "code",
   "execution_count": 2,
   "metadata": {},
   "outputs": [],
   "source": [
    "# r = redis.Redis(\"localhost\", 5211, decode_responses=True)\n",
    "db = sqlite3.connect(\"scraping.db\")"
   ]
  },
  {
   "cell_type": "code",
   "execution_count": 15,
   "metadata": {},
   "outputs": [],
   "source": [
    "cur = db.execute(\"select * from article where headline != 'None' and content != 'None' and content != '' and feedback is null limit 100\")\n",
    "db.commit()"
   ]
  },
  {
   "cell_type": "code",
   "execution_count": 16,
   "metadata": {},
   "outputs": [],
   "source": [
    "messages = [{\n",
    "    \"role\": \"system\", \n",
    "    \"content\": \"Read the article below, list the named entities that are discussed in it, and choose a sentiment between positive, neutral, and negative for each listed entity separately. Provide your answer in a json format with keys 'name', 'sentiment' and 'explanation'.\"\n",
    "}]\n",
    "replies = {}\n",
    "\n",
    "with open(\"../key.txt\", \"r\") as f:\n",
    "    client = openai.AsyncOpenAI(\n",
    "        api_key=f.read(),\n",
    "    )\n",
    "\n",
    "from tqdm import tqdm\n",
    "\n",
    "async def get_sentiment(row):\n",
    "    chat = await client.chat.completions.create( \n",
    "        model=\"gpt-3.5-turbo\", \n",
    "        messages=messages + [{\"role\": \"user\", \"content\": \"Title: \" + row[1] + \"\\nContent: \" + row[3]}] \n",
    "    )\n",
    "    reply = chat.choices[0].message.content\n",
    "\n",
    "    return row[0], reply\n",
    "\n",
    "async def multiple_sentiments(rows):\n",
    "    tasks = [get_sentiment(row) for row in rows]\n",
    "    res = await asyncio.gather(*tasks, return_exceptions=True)\n",
    "    return res\n",
    "\n",
    "res = await multiple_sentiments(list(cur))"
   ]
  },
  {
   "cell_type": "code",
   "execution_count": 24,
   "metadata": {},
   "outputs": [
    {
     "data": {
      "text/plain": [
       "{'entities': [{'name': 'David Hakhverdyan',\n",
       "   'sentiment': 'positive',\n",
       "   'explanation': \"He is advocating for the development of a new strategic concept for the agriculture sphere in Armenia and emphasizes the need for the private sector's involvement.\"},\n",
       "  {'name': 'Corporative Management High School',\n",
       "   'sentiment': 'positive',\n",
       "   'explanation': 'The round table discussion took place at this institution, indicating its commitment to addressing agricultural development issues.'},\n",
       "  {'name': 'Armenian government',\n",
       "   'sentiment': 'neutral',\n",
       "   'explanation': 'Mentioned as a stakeholder that needs to be presented with programs and solutions for agriculture development.'},\n",
       "  {'name': 'Russian Academy of Sciences',\n",
       "   'sentiment': 'positive',\n",
       "   'explanation': 'Academician Abel Aghanbegyan, associated with the Academy, emphasizes the importance of discussions and the creation of development programs for agriculture.'},\n",
       "  {'name': 'Samvel Avetisyan',\n",
       "   'sentiment': 'neutral',\n",
       "   'explanation': 'The Deputy Minister of Agriculture acknowledges the challenges faced in the field of agriculture in Armenia and mentions the need for development of small and medium economies.'}]}"
      ]
     },
     "execution_count": 24,
     "metadata": {},
     "output_type": "execute_result"
    }
   ],
   "source": [
    "import json\n",
    "json.loads(res[1][1])"
   ]
  },
  {
   "cell_type": "code",
   "execution_count": 23,
   "metadata": {},
   "outputs": [],
   "source": [
    "for r in res:\n",
    "    db.execute(f'update article set feedback = ? where id = ?', (r[1], r[0]))\n",
    "db.commit()"
   ]
  },
  {
   "cell_type": "code",
   "execution_count": 28,
   "metadata": {},
   "outputs": [
    {
     "data": {
      "text/plain": [
       "[(25652,)]"
      ]
     },
     "execution_count": 28,
     "metadata": {},
     "output_type": "execute_result"
    }
   ],
   "source": [
    "cur = db.execute(f'select count(*) from article where content like \"%Russia%\"')\n",
    "db.commit()\n",
    "\n",
    "(l := list(cur))"
   ]
  },
  {
   "cell_type": "code",
   "execution_count": 30,
   "metadata": {},
   "outputs": [
    {
     "data": {
      "text/plain": [
       "[(15,)]"
      ]
     },
     "execution_count": 30,
     "metadata": {},
     "output_type": "execute_result"
    }
   ],
   "source": [
    "cur = db.execute(f'select count(*) from article where feedback like \"%Russia%\"')\n",
    "db.commit()\n",
    "\n",
    "(l := list(cur))"
   ]
  },
  {
   "cell_type": "code",
   "execution_count": 31,
   "metadata": {},
   "outputs": [
    {
     "data": {
      "text/plain": [
       "[(6659,)]"
      ]
     },
     "execution_count": 31,
     "metadata": {},
     "output_type": "execute_result"
    }
   ],
   "source": [
    "cur = db.execute(f'select count(*) from article where headline like \"%Russia%\"')\n",
    "db.commit()\n",
    "\n",
    "(l := list(cur))"
   ]
  },
  {
   "cell_type": "code",
   "execution_count": null,
   "metadata": {},
   "outputs": [],
   "source": []
  }
 ],
 "metadata": {
  "kernelspec": {
   "display_name": "Python 3",
   "language": "python",
   "name": "python3"
  },
  "language_info": {
   "codemirror_mode": {
    "name": "ipython",
    "version": 3
   },
   "file_extension": ".py",
   "mimetype": "text/x-python",
   "name": "python",
   "nbconvert_exporter": "python",
   "pygments_lexer": "ipython3",
   "version": "3.11.3"
  }
 },
 "nbformat": 4,
 "nbformat_minor": 2
}
