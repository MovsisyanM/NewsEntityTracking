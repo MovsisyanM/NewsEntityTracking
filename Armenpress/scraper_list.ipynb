{
 "cells": [
  {
   "cell_type": "markdown",
   "metadata": {},
   "source": [
    "# Scraping list of articles and dates"
   ]
  },
  {
   "cell_type": "code",
   "execution_count": 1,
   "metadata": {},
   "outputs": [],
   "source": [
    "import numpy as np\n",
    "import pandas as pd\n",
    "import requests\n",
    "import re\n",
    "import sqlite3\n",
    "import time"
   ]
  },
  {
   "cell_type": "code",
   "execution_count": 2,
   "metadata": {},
   "outputs": [],
   "source": [
    "db = sqlite3.connect(\"scraping.db\")"
   ]
  },
  {
   "cell_type": "code",
   "execution_count": 3,
   "metadata": {},
   "outputs": [],
   "source": [
    "def create_article_table(db):\n",
    "    db.execute(\"drop table if exists article\")\n",
    "\n",
    "    db.commit()\n",
    "    db.execute(\"\"\"\n",
    "    create table if not exists article (id integer primary key, headline varchar(255), time timestamp, content text);\n",
    "    \"\"\");\n",
    "\n",
    "    db.commit()"
   ]
  },
  {
   "cell_type": "code",
   "execution_count": 4,
   "metadata": {},
   "outputs": [],
   "source": [
    "create_article_table(db)"
   ]
  },
  {
   "cell_type": "code",
   "execution_count": 4,
   "metadata": {},
   "outputs": [],
   "source": [
    "def insert_article(id, title=None, timestamp=None, content=None, feedback=None, commit=True):\n",
    "    content = content.replace('\"', \"'\") if content else None\n",
    "    title = title.replace('\"', \"'\") if title else None\n",
    "    try:\n",
    "        db.execute(f'insert into article values ({id}, \"{title}\", \"{timestamp}\", \"{content}\", \"{feedback}\")');\n",
    "    except sqlite3.IntegrityError as e:\n",
    "        print(id, \" was a duplicate\")\n",
    "    db.commit() if commit else None"
   ]
  },
  {
   "cell_type": "code",
   "execution_count": 7,
   "metadata": {},
   "outputs": [
    {
     "name": "stdout",
     "output_type": "stream",
     "text": [
      "(848394, 'None', '2016-05-24 20:36:29', 'None')\n"
     ]
    }
   ],
   "source": [
    "cur = db.execute(\"select * from article\")\n",
    "db.commit()\n",
    "for row in cur:\n",
    "    print(row)\n",
    "    break"
   ]
  },
  {
   "cell_type": "code",
   "execution_count": 21,
   "metadata": {},
   "outputs": [],
   "source": [
    "url = \"https://armenpress.am/eng/ajax/\"\n",
    "method = \"POST\"\n",
    "\n",
    "def get_article_list(id):\n",
    "    form_data = {\n",
    "        \"xdo\": \"news\",\n",
    "        \"lastid\": id\n",
    "    }\n",
    "    \n",
    "    resp = requests.post(url, form_data)\n",
    "    (article_ids := set(re.findall('<a href=\"/eng/news/(\\d+).html\"', resp.text)))\n",
    "    timestamps = [i.replace(\"T\", \" \").split(\"+\")[0] for i in re.findall('itemprop=\"datePublished\"\\s+content=\"(.+)\"', resp.text)]\n",
    "    return [int(i) for i in article_ids], timestamps\n"
   ]
  },
  {
   "cell_type": "code",
   "execution_count": 22,
   "metadata": {},
   "outputs": [
    {
     "name": "stdout",
     "output_type": "stream",
     "text": [
      "514564  was a duplicate\n",
      "3653\r"
     ]
    }
   ],
   "source": [
    "lastid = 3279\n",
    "\n",
    "while True:\n",
    "    article_ids, timestamps = get_article_list(lastid)\n",
    "\n",
    "    if len(article_ids) == 0:\n",
    "        break\n",
    "    lastid += 1\n",
    "\n",
    "    [insert_article(article_ids[i], None, timestamps[i], None, None, False) for i in range(len(article_ids))]\n",
    "    db.commit()\n",
    "    # time.sleep(0.15)\n",
    "    print(lastid, end=\"\\r\")"
   ]
  },
  {
   "cell_type": "code",
   "execution_count": 16,
   "metadata": {},
   "outputs": [
    {
     "name": "stdout",
     "output_type": "stream",
     "text": [
      "(129200,)\n"
     ]
    }
   ],
   "source": [
    "cur = db.execute(\"select count(*) from article\")\n",
    "for row in cur:\n",
    "    print(row)"
   ]
  },
  {
   "cell_type": "code",
   "execution_count": 15,
   "metadata": {},
   "outputs": [],
   "source": [
    "db.commit()"
   ]
  }
 ],
 "metadata": {
  "kernelspec": {
   "display_name": "Python 3",
   "language": "python",
   "name": "python3"
  },
  "language_info": {
   "codemirror_mode": {
    "name": "ipython",
    "version": 3
   },
   "file_extension": ".py",
   "mimetype": "text/x-python",
   "name": "python",
   "nbconvert_exporter": "python",
   "pygments_lexer": "ipython3",
   "version": "3.11.3"
  }
 },
 "nbformat": 4,
 "nbformat_minor": 2
}
