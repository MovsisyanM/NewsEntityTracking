{
 "cells": [
  {
   "cell_type": "markdown",
   "metadata": {},
   "source": [
    "# Scraping article content"
   ]
  },
  {
   "cell_type": "code",
   "execution_count": null,
   "metadata": {},
   "outputs": [],
   "source": [
    "import numpy as np\n",
    "import pandas as pd\n",
    "import requests\n",
    "import re\n",
    "import time\n",
    "import openai\n",
    "import redis\n",
    "import json\n",
    "import sqlite3\n",
    "import scrapy\n",
    "from scrapy.crawler import CrawlerProcess\n",
    "import bs4"
   ]
  },
  {
   "cell_type": "code",
   "execution_count": null,
   "metadata": {},
   "outputs": [],
   "source": [
    "class ArmenpressCrawler(scrapy.Spider):\n",
    "    name = \"MovsisyansNewsCrawler\"\n",
    "\n",
    "    custom_settings=dict(\n",
    "        DOWNLOAD_DELAY = 0.08\n",
    "    )\n",
    "    \n",
    "    def __init__(self, *args, **kwargs):\n",
    "        super().__init__(*args, **kwargs)\n",
    "        self.domain = r\"https://armenpress.am/eng/news/\"\n",
    "        self.r = redis.Redis(\"localhost\", 5211, decode_responses=True)\n",
    "\n",
    "    def start_requests(self):\n",
    "        while True:\n",
    "            to_fetch = self.r.rpop(\"to_fetch\")\n",
    "            if to_fetch is None:\n",
    "                time.sleep(2)\n",
    "            else:\n",
    "                yield scrapy.Request(url=self.domain + str(to_fetch), callback=self.parse_article)\n",
    "\n",
    "    def parse_article(self, response):\n",
    "        resp_text = \" \".join(response.text.split())\n",
    "        if \"Please be informed that the content of this topic is available only for the Subscribers of ARMENPRESS.\" in resp_text:\n",
    "            print(f\"SKIPPING {response.url}\")\n",
    "            return\n",
    "        \n",
    "        print(f\"SCRAPING {response.url}\")\n",
    "        soup = bs4.BeautifulSoup(resp_text)\n",
    "\n",
    "        content = \" \".join(soup.find('span', {\"itemprop\":\"articleBody\"}).findAll(string=True)).replace(\"\\xa0\", \"\")\n",
    "        title = \" \".join(soup.find('h1', {\"class\":\"opennewstitle\"}).findAll(string=True)).replace(\"\\xa0\", \"\")\n",
    "        id = int(re.findall(r\"\\d+\", response.url)[0])\n",
    "\n",
    "        self.r.lpush(\"to_store\", json.dumps({\"id\": id, \"headline\": title, \"content\": content}))\n",
    "        "
   ]
  },
  {
   "cell_type": "code",
   "execution_count": 3,
   "metadata": {},
   "outputs": [
    {
     "name": "stderr",
     "output_type": "stream",
     "text": [
      "2023-11-23 00:48:11 [scrapy.core.engine] DEBUG: Crawled (200) <GET https://armenpress.am/eng/news/517315> (referer: None)\n"
     ]
    },
    {
     "name": "stdout",
     "output_type": "stream",
     "text": [
      "SKIPPING https://armenpress.am/eng/news/516338\n",
      "SKIPPING https://armenpress.am/eng/news/514827\n",
      "SKIPPING https://armenpress.am/eng/news/515318\n"
     ]
    },
    {
     "name": "stderr",
     "output_type": "stream",
     "text": [
      "2023-11-23 00:48:12 [scrapy.core.engine] DEBUG: Crawled (200) <GET https://armenpress.am/eng/news/514981> (referer: None)\n",
      "2023-11-23 00:48:12 [scrapy.core.engine] DEBUG: Crawled (200) <GET https://armenpress.am/eng/news/516341> (referer: None)\n"
     ]
    },
    {
     "name": "stdout",
     "output_type": "stream",
     "text": [
      "SKIPPING https://armenpress.am/eng/news/517315\n",
      "SKIPPING https://armenpress.am/eng/news/514981\n"
     ]
    },
    {
     "name": "stderr",
     "output_type": "stream",
     "text": [
      "2023-11-23 00:48:12 [scrapy.core.engine] DEBUG: Crawled (200) <GET https://armenpress.am/eng/news/515038> (referer: None)\n",
      "2023-11-23 00:48:12 [scrapy.core.engine] DEBUG: Crawled (200) <GET https://armenpress.am/eng/news/517215> (referer: None)\n",
      "2023-11-23 00:48:12 [scrapy.core.engine] DEBUG: Crawled (200) <GET https://armenpress.am/eng/news/517057> (referer: None)\n"
     ]
    },
    {
     "name": "stdout",
     "output_type": "stream",
     "text": [
      "SKIPPING https://armenpress.am/eng/news/516341\n",
      "SKIPPING https://armenpress.am/eng/news/515038\n",
      "SKIPPING https://armenpress.am/eng/news/517215\n"
     ]
    },
    {
     "name": "stderr",
     "output_type": "stream",
     "text": [
      "2023-11-23 00:48:12 [scrapy.core.engine] DEBUG: Crawled (200) <GET https://armenpress.am/eng/news/516624> (referer: None)\n",
      "2023-11-23 00:48:12 [scrapy.core.engine] DEBUG: Crawled (200) <GET https://armenpress.am/eng/news/516143> (referer: None)\n"
     ]
    },
    {
     "name": "stdout",
     "output_type": "stream",
     "text": [
      "SKIPPING https://armenpress.am/eng/news/517057\n",
      "SKIPPING https://armenpress.am/eng/news/516624\n"
     ]
    },
    {
     "name": "stderr",
     "output_type": "stream",
     "text": [
      "2023-11-23 00:48:12 [scrapy.core.engine] DEBUG: Crawled (200) <GET https://armenpress.am/eng/news/515839> (referer: None)\n",
      "2023-11-23 00:48:12 [scrapy.core.engine] DEBUG: Crawled (200) <GET https://armenpress.am/eng/news/517441> (referer: None)\n"
     ]
    },
    {
     "name": "stdout",
     "output_type": "stream",
     "text": [
      "SKIPPING https://armenpress.am/eng/news/516143\n",
      "SKIPPING https://armenpress.am/eng/news/515839\n",
      "SKIPPING https://armenpress.am/eng/news/517441\n"
     ]
    },
    {
     "name": "stderr",
     "output_type": "stream",
     "text": [
      "2023-11-23 00:48:13 [scrapy.core.engine] DEBUG: Crawled (200) <GET https://armenpress.am/eng/news/516431> (referer: None)\n",
      "2023-11-23 00:48:13 [scrapy.core.engine] DEBUG: Crawled (200) <GET https://armenpress.am/eng/news/513716> (referer: None)\n",
      "2023-11-23 00:48:13 [scrapy.core.engine] DEBUG: Crawled (200) <GET https://armenpress.am/eng/news/517252> (referer: None)\n"
     ]
    },
    {
     "name": "stdout",
     "output_type": "stream",
     "text": [
      "SKIPPING https://armenpress.am/eng/news/516431\n",
      "SKIPPING https://armenpress.am/eng/news/513716\n"
     ]
    },
    {
     "name": "stderr",
     "output_type": "stream",
     "text": [
      "2023-11-23 00:48:13 [scrapy.core.engine] DEBUG: Crawled (200) <GET https://armenpress.am/eng/news/515326> (referer: None)\n",
      "2023-11-23 00:48:13 [scrapy.core.engine] DEBUG: Crawled (200) <GET https://armenpress.am/eng/news/517150> (referer: None)\n"
     ]
    },
    {
     "name": "stdout",
     "output_type": "stream",
     "text": [
      "SKIPPING https://armenpress.am/eng/news/517252\n",
      "SKIPPING https://armenpress.am/eng/news/515326\n",
      "SKIPPING https://armenpress.am/eng/news/517150\n"
     ]
    },
    {
     "name": "stderr",
     "output_type": "stream",
     "text": [
      "2023-11-23 00:48:13 [scrapy.core.engine] DEBUG: Crawled (200) <GET https://armenpress.am/eng/news/517135> (referer: None)\n",
      "2023-11-23 00:48:13 [scrapy.core.engine] DEBUG: Crawled (200) <GET https://armenpress.am/eng/news/516114> (referer: None)\n",
      "2023-11-23 00:48:13 [scrapy.core.engine] DEBUG: Crawled (200) <GET https://armenpress.am/eng/news/513848> (referer: None)\n",
      "2023-11-23 00:48:13 [scrapy.core.engine] DEBUG: Crawled (200) <GET https://armenpress.am/eng/news/515790> (referer: None)\n"
     ]
    },
    {
     "name": "stdout",
     "output_type": "stream",
     "text": [
      "SKIPPING https://armenpress.am/eng/news/517135\n",
      "SKIPPING https://armenpress.am/eng/news/516114\n",
      "SKIPPING https://armenpress.am/eng/news/513848\n"
     ]
    },
    {
     "name": "stderr",
     "output_type": "stream",
     "text": [
      "2023-11-23 00:48:14 [scrapy.core.engine] DEBUG: Crawled (200) <GET https://armenpress.am/eng/news/514548> (referer: None)\n",
      "2023-11-23 00:48:14 [scrapy.core.engine] DEBUG: Crawled (200) <GET https://armenpress.am/eng/news/516007> (referer: None)\n"
     ]
    },
    {
     "name": "stdout",
     "output_type": "stream",
     "text": [
      "SKIPPING https://armenpress.am/eng/news/515790\n",
      "SKIPPING https://armenpress.am/eng/news/514548\n"
     ]
    },
    {
     "name": "stderr",
     "output_type": "stream",
     "text": [
      "2023-11-23 00:48:14 [scrapy.core.engine] DEBUG: Crawled (200) <GET https://armenpress.am/eng/news/516816> (referer: None)\n",
      "2023-11-23 00:48:14 [scrapy.core.engine] DEBUG: Crawled (200) <GET https://armenpress.am/eng/news/514498> (referer: None)\n",
      "2023-11-23 00:48:14 [scrapy.core.engine] DEBUG: Crawled (200) <GET https://armenpress.am/eng/news/515840> (referer: None)\n"
     ]
    },
    {
     "name": "stdout",
     "output_type": "stream",
     "text": [
      "SKIPPING https://armenpress.am/eng/news/516007\n",
      "SKIPPING https://armenpress.am/eng/news/516816\n"
     ]
    },
    {
     "name": "stderr",
     "output_type": "stream",
     "text": [
      "2023-11-23 00:48:14 [scrapy.core.engine] DEBUG: Crawled (200) <GET https://armenpress.am/eng/news/517214> (referer: None)\n",
      "2023-11-23 00:48:14 [scrapy.core.engine] DEBUG: Crawled (200) <GET https://armenpress.am/eng/news/515195> (referer: None)\n"
     ]
    },
    {
     "name": "stdout",
     "output_type": "stream",
     "text": [
      "SKIPPING https://armenpress.am/eng/news/514498\n",
      "SKIPPING https://armenpress.am/eng/news/515840\n",
      "SKIPPING https://armenpress.am/eng/news/517214\n"
     ]
    },
    {
     "name": "stderr",
     "output_type": "stream",
     "text": [
      "2023-11-23 00:48:14 [scrapy.core.engine] DEBUG: Crawled (200) <GET https://armenpress.am/eng/news/514000> (referer: None)\n",
      "2023-11-23 00:48:14 [scrapy.core.engine] DEBUG: Crawled (200) <GET https://armenpress.am/eng/news/515206> (referer: None)\n"
     ]
    },
    {
     "name": "stdout",
     "output_type": "stream",
     "text": [
      "SKIPPING https://armenpress.am/eng/news/515195\n",
      "SKIPPING https://armenpress.am/eng/news/514000\n"
     ]
    },
    {
     "name": "stderr",
     "output_type": "stream",
     "text": [
      "2023-11-23 00:48:14 [scrapy.core.engine] DEBUG: Crawled (200) <GET https://armenpress.am/eng/news/516393> (referer: None)\n",
      "2023-11-23 00:48:14 [scrapy.core.engine] DEBUG: Crawled (200) <GET https://armenpress.am/eng/news/513952> (referer: None)\n",
      "2023-11-23 00:48:15 [scrapy.core.engine] DEBUG: Crawled (200) <GET https://armenpress.am/eng/news/516241> (referer: None)\n"
     ]
    },
    {
     "name": "stdout",
     "output_type": "stream",
     "text": [
      "SKIPPING https://armenpress.am/eng/news/515206\n",
      "SKIPPING https://armenpress.am/eng/news/516393\n"
     ]
    },
    {
     "name": "stderr",
     "output_type": "stream",
     "text": [
      "2023-11-23 00:48:15 [scrapy.core.engine] DEBUG: Crawled (200) <GET https://armenpress.am/eng/news/516781> (referer: None)\n",
      "2023-11-23 00:48:15 [scrapy.core.engine] DEBUG: Crawled (200) <GET https://armenpress.am/eng/news/514549> (referer: None)\n"
     ]
    },
    {
     "name": "stdout",
     "output_type": "stream",
     "text": [
      "SKIPPING https://armenpress.am/eng/news/513952\n",
      "SKIPPING https://armenpress.am/eng/news/516241\n",
      "SKIPPING https://armenpress.am/eng/news/516781\n"
     ]
    },
    {
     "name": "stderr",
     "output_type": "stream",
     "text": [
      "2023-11-23 00:48:15 [scrapy.core.engine] DEBUG: Crawled (200) <GET https://armenpress.am/eng/news/516645> (referer: None)\n",
      "2023-11-23 00:48:15 [scrapy.core.engine] DEBUG: Crawled (200) <GET https://armenpress.am/eng/news/514453> (referer: None)\n"
     ]
    },
    {
     "name": "stdout",
     "output_type": "stream",
     "text": [
      "SKIPPING https://armenpress.am/eng/news/514549\n",
      "SKIPPING https://armenpress.am/eng/news/516645\n"
     ]
    },
    {
     "name": "stderr",
     "output_type": "stream",
     "text": [
      "2023-11-23 00:48:15 [scrapy.core.engine] DEBUG: Crawled (200) <GET https://armenpress.am/eng/news/515247> (referer: None)\n",
      "2023-11-23 00:48:15 [scrapy.core.engine] DEBUG: Crawled (200) <GET https://armenpress.am/eng/news/514394> (referer: None)\n",
      "2023-11-23 00:48:15 [scrapy.core.engine] DEBUG: Crawled (200) <GET https://armenpress.am/eng/news/516517> (referer: None)\n"
     ]
    },
    {
     "name": "stdout",
     "output_type": "stream",
     "text": [
      "SKIPPING https://armenpress.am/eng/news/514453\n",
      "SKIPPING https://armenpress.am/eng/news/515247\n",
      "SKIPPING https://armenpress.am/eng/news/514394\n"
     ]
    },
    {
     "name": "stderr",
     "output_type": "stream",
     "text": [
      "2023-11-23 00:48:15 [scrapy.core.engine] DEBUG: Crawled (200) <GET https://armenpress.am/eng/news/513931> (referer: None)\n",
      "2023-11-23 00:48:15 [scrapy.core.engine] DEBUG: Crawled (200) <GET https://armenpress.am/eng/news/516501> (referer: None)\n",
      "2023-11-23 00:48:16 [scrapy.core.engine] DEBUG: Crawled (200) <GET https://armenpress.am/eng/news/515822> (referer: None)\n"
     ]
    },
    {
     "name": "stdout",
     "output_type": "stream",
     "text": [
      "SKIPPING https://armenpress.am/eng/news/516517\n",
      "SKIPPING https://armenpress.am/eng/news/513931\n"
     ]
    },
    {
     "name": "stderr",
     "output_type": "stream",
     "text": [
      "2023-11-23 00:48:16 [scrapy.core.engine] DEBUG: Crawled (200) <GET https://armenpress.am/eng/news/516497> (referer: None)\n",
      "2023-11-23 00:48:16 [scrapy.core.engine] DEBUG: Crawled (200) <GET https://armenpress.am/eng/news/515758> (referer: None)\n"
     ]
    },
    {
     "name": "stdout",
     "output_type": "stream",
     "text": [
      "SKIPPING https://armenpress.am/eng/news/516501\n",
      "SKIPPING https://armenpress.am/eng/news/515822\n"
     ]
    },
    {
     "name": "stderr",
     "output_type": "stream",
     "text": [
      "2023-11-23 00:48:16 [scrapy.core.engine] DEBUG: Crawled (200) <GET https://armenpress.am/eng/news/516865> (referer: None)\n",
      "2023-11-23 00:48:16 [scrapy.core.engine] DEBUG: Crawled (200) <GET https://armenpress.am/eng/news/514819> (referer: None)\n"
     ]
    },
    {
     "name": "stdout",
     "output_type": "stream",
     "text": [
      "SKIPPING https://armenpress.am/eng/news/516497\n",
      "SKIPPING https://armenpress.am/eng/news/515758\n",
      "SKIPPING https://armenpress.am/eng/news/516865\n"
     ]
    },
    {
     "name": "stderr",
     "output_type": "stream",
     "text": [
      "2023-11-23 00:48:16 [scrapy.core.engine] DEBUG: Crawled (200) <GET https://armenpress.am/eng/news/517372> (referer: None)\n",
      "2023-11-23 00:48:16 [scrapy.core.engine] DEBUG: Crawled (200) <GET https://armenpress.am/eng/news/517169> (referer: None)\n",
      "2023-11-23 00:48:16 [scrapy.core.engine] DEBUG: Crawled (200) <GET https://armenpress.am/eng/news/514641> (referer: None)\n"
     ]
    },
    {
     "name": "stdout",
     "output_type": "stream",
     "text": [
      "SKIPPING https://armenpress.am/eng/news/514819\n",
      "SKIPPING https://armenpress.am/eng/news/517372\n",
      "SKIPPING https://armenpress.am/eng/news/517169\n"
     ]
    },
    {
     "name": "stderr",
     "output_type": "stream",
     "text": [
      "2023-11-23 00:48:16 [scrapy.core.engine] DEBUG: Crawled (200) <GET https://armenpress.am/eng/news/514533> (referer: None)\n",
      "2023-11-23 00:48:16 [scrapy.core.engine] DEBUG: Crawled (200) <GET https://armenpress.am/eng/news/516806> (referer: None)\n",
      "2023-11-23 00:48:16 [scrapy.core.engine] DEBUG: Crawled (200) <GET https://armenpress.am/eng/news/516804> (referer: None)\n"
     ]
    },
    {
     "name": "stdout",
     "output_type": "stream",
     "text": [
      "SKIPPING https://armenpress.am/eng/news/514641\n",
      "SKIPPING https://armenpress.am/eng/news/514533\n",
      "SKIPPING https://armenpress.am/eng/news/516806\n"
     ]
    },
    {
     "name": "stderr",
     "output_type": "stream",
     "text": [
      "2023-11-23 00:48:17 [scrapy.core.engine] DEBUG: Crawled (200) <GET https://armenpress.am/eng/news/515340> (referer: None)\n",
      "2023-11-23 00:48:17 [scrapy.core.engine] DEBUG: Crawled (200) <GET https://armenpress.am/eng/news/514228> (referer: None)\n"
     ]
    },
    {
     "name": "stdout",
     "output_type": "stream",
     "text": [
      "SKIPPING https://armenpress.am/eng/news/516804\n",
      "SKIPPING https://armenpress.am/eng/news/515340\n"
     ]
    },
    {
     "name": "stderr",
     "output_type": "stream",
     "text": [
      "2023-11-23 00:48:17 [scrapy.core.engine] DEBUG: Crawled (200) <GET https://armenpress.am/eng/news/516213> (referer: None)\n",
      "2023-11-23 00:48:17 [scrapy.core.engine] DEBUG: Crawled (200) <GET https://armenpress.am/eng/news/513965> (referer: None)\n"
     ]
    },
    {
     "name": "stdout",
     "output_type": "stream",
     "text": [
      "SKIPPING https://armenpress.am/eng/news/514228\n",
      "SKIPPING https://armenpress.am/eng/news/516213\n"
     ]
    },
    {
     "name": "stderr",
     "output_type": "stream",
     "text": [
      "2023-11-23 00:48:17 [scrapy.core.engine] DEBUG: Crawled (200) <GET https://armenpress.am/eng/news/515732> (referer: None)\n",
      "2023-11-23 00:48:17 [scrapy.core.engine] DEBUG: Crawled (200) <GET https://armenpress.am/eng/news/514187> (referer: None)\n",
      "2023-11-23 00:48:17 [scrapy.core.engine] DEBUG: Crawled (200) <GET https://armenpress.am/eng/news/517330> (referer: None)\n"
     ]
    },
    {
     "name": "stdout",
     "output_type": "stream",
     "text": [
      "SKIPPING https://armenpress.am/eng/news/513965\n",
      "SKIPPING https://armenpress.am/eng/news/515732\n",
      "SKIPPING https://armenpress.am/eng/news/514187\n"
     ]
    },
    {
     "name": "stderr",
     "output_type": "stream",
     "text": [
      "2023-11-23 00:48:17 [scrapy.core.engine] DEBUG: Crawled (200) <GET https://armenpress.am/eng/news/515151> (referer: None)\n",
      "2023-11-23 00:48:17 [scrapy.core.engine] DEBUG: Crawled (200) <GET https://armenpress.am/eng/news/516062> (referer: None)\n"
     ]
    },
    {
     "name": "stdout",
     "output_type": "stream",
     "text": [
      "SKIPPING https://armenpress.am/eng/news/517330\n",
      "SKIPPING https://armenpress.am/eng/news/515151\n"
     ]
    },
    {
     "name": "stderr",
     "output_type": "stream",
     "text": [
      "2023-11-23 00:48:18 [scrapy.core.engine] DEBUG: Crawled (200) <GET https://armenpress.am/eng/news/516057> (referer: None)\n",
      "2023-11-23 00:48:18 [scrapy.core.engine] DEBUG: Crawled (200) <GET https://armenpress.am/eng/news/516449> (referer: None)\n"
     ]
    },
    {
     "name": "stdout",
     "output_type": "stream",
     "text": [
      "SKIPPING https://armenpress.am/eng/news/516062\n",
      "SKIPPING https://armenpress.am/eng/news/516057\n"
     ]
    },
    {
     "name": "stderr",
     "output_type": "stream",
     "text": [
      "2023-11-23 00:48:18 [scrapy.core.engine] DEBUG: Crawled (200) <GET https://armenpress.am/eng/news/517133> (referer: None)\n",
      "2023-11-23 00:48:18 [scrapy.core.engine] DEBUG: Crawled (200) <GET https://armenpress.am/eng/news/514664> (referer: None)\n"
     ]
    },
    {
     "name": "stdout",
     "output_type": "stream",
     "text": [
      "SKIPPING https://armenpress.am/eng/news/516449\n",
      "SKIPPING https://armenpress.am/eng/news/517133\n"
     ]
    },
    {
     "name": "stderr",
     "output_type": "stream",
     "text": [
      "2023-11-23 00:48:18 [scrapy.core.engine] DEBUG: Crawled (200) <GET https://armenpress.am/eng/news/517018> (referer: None)\n",
      "2023-11-23 00:48:18 [scrapy.core.engine] DEBUG: Crawled (200) <GET https://armenpress.am/eng/news/514901> (referer: None)\n",
      "2023-11-23 00:48:18 [scrapy.core.engine] DEBUG: Crawled (200) <GET https://armenpress.am/eng/news/516920> (referer: None)\n"
     ]
    },
    {
     "name": "stdout",
     "output_type": "stream",
     "text": [
      "SKIPPING https://armenpress.am/eng/news/514664\n",
      "SKIPPING https://armenpress.am/eng/news/517018\n"
     ]
    },
    {
     "name": "stderr",
     "output_type": "stream",
     "text": [
      "2023-11-23 00:48:18 [scrapy.core.engine] DEBUG: Crawled (200) <GET https://armenpress.am/eng/news/514247> (referer: None)\n"
     ]
    },
    {
     "name": "stdout",
     "output_type": "stream",
     "text": [
      "SKIPPING https://armenpress.am/eng/news/514901\n",
      "SKIPPING https://armenpress.am/eng/news/516920\n"
     ]
    },
    {
     "name": "stderr",
     "output_type": "stream",
     "text": [
      "2023-11-23 00:48:18 [scrapy.core.engine] DEBUG: Crawled (200) <GET https://armenpress.am/eng/news/513849> (referer: None)\n",
      "2023-11-23 00:48:19 [scrapy.core.engine] DEBUG: Crawled (200) <GET https://armenpress.am/eng/news/515868> (referer: None)\n"
     ]
    },
    {
     "name": "stdout",
     "output_type": "stream",
     "text": [
      "SKIPPING https://armenpress.am/eng/news/514247\n",
      "SKIPPING https://armenpress.am/eng/news/513849\n"
     ]
    },
    {
     "name": "stderr",
     "output_type": "stream",
     "text": [
      "2023-11-23 00:48:19 [scrapy.core.engine] DEBUG: Crawled (200) <GET https://armenpress.am/eng/news/517341> (referer: None)\n",
      "2023-11-23 00:48:19 [scrapy.core.engine] DEBUG: Crawled (200) <GET https://armenpress.am/eng/news/516374> (referer: None)\n",
      "2023-11-23 00:48:19 [scrapy.core.engine] DEBUG: Crawled (200) <GET https://armenpress.am/eng/news/516588> (referer: None)\n"
     ]
    },
    {
     "name": "stdout",
     "output_type": "stream",
     "text": [
      "SKIPPING https://armenpress.am/eng/news/515868\n",
      "SKIPPING https://armenpress.am/eng/news/517341\n"
     ]
    },
    {
     "name": "stderr",
     "output_type": "stream",
     "text": [
      "2023-11-23 00:48:19 [scrapy.core.engine] DEBUG: Crawled (200) <GET https://armenpress.am/eng/news/514280> (referer: None)\n"
     ]
    },
    {
     "name": "stdout",
     "output_type": "stream",
     "text": [
      "SKIPPING https://armenpress.am/eng/news/516374\n",
      "SKIPPING https://armenpress.am/eng/news/516588\n"
     ]
    },
    {
     "name": "stderr",
     "output_type": "stream",
     "text": [
      "2023-11-23 00:48:19 [scrapy.core.engine] DEBUG: Crawled (200) <GET https://armenpress.am/eng/news/514188> (referer: None)\n",
      "2023-11-23 00:48:19 [scrapy.core.engine] DEBUG: Crawled (200) <GET https://armenpress.am/eng/news/514637> (referer: None)\n",
      "2023-11-23 00:48:19 [scrapy.core.engine] DEBUG: Crawled (200) <GET https://armenpress.am/eng/news/514563> (referer: None)\n"
     ]
    },
    {
     "name": "stdout",
     "output_type": "stream",
     "text": [
      "SKIPPING https://armenpress.am/eng/news/514280\n",
      "SKIPPING https://armenpress.am/eng/news/514188\n",
      "SKIPPING https://armenpress.am/eng/news/514637\n"
     ]
    },
    {
     "name": "stderr",
     "output_type": "stream",
     "text": [
      "2023-11-23 00:48:19 [scrapy.core.engine] DEBUG: Crawled (200) <GET https://armenpress.am/eng/news/514050> (referer: None)\n",
      "2023-11-23 00:48:19 [scrapy.core.engine] DEBUG: Crawled (200) <GET https://armenpress.am/eng/news/516330> (referer: None)\n",
      "2023-11-23 00:48:19 [scrapy.core.engine] DEBUG: Crawled (200) <GET https://armenpress.am/eng/news/514890> (referer: None)\n"
     ]
    },
    {
     "name": "stdout",
     "output_type": "stream",
     "text": [
      "SKIPPING https://armenpress.am/eng/news/514563\n",
      "SKIPPING https://armenpress.am/eng/news/514050\n",
      "SKIPPING https://armenpress.am/eng/news/516330\n"
     ]
    },
    {
     "name": "stderr",
     "output_type": "stream",
     "text": [
      "2023-11-23 00:48:20 [scrapy.core.engine] DEBUG: Crawled (200) <GET https://armenpress.am/eng/news/513736> (referer: None)\n",
      "2023-11-23 00:48:20 [scrapy.core.engine] DEBUG: Crawled (200) <GET https://armenpress.am/eng/news/514737> (referer: None)\n"
     ]
    },
    {
     "name": "stdout",
     "output_type": "stream",
     "text": [
      "SKIPPING https://armenpress.am/eng/news/514890\n",
      "SKIPPING https://armenpress.am/eng/news/513736\n"
     ]
    },
    {
     "name": "stderr",
     "output_type": "stream",
     "text": [
      "2023-11-23 00:48:20 [scrapy.core.engine] DEBUG: Crawled (200) <GET https://armenpress.am/eng/news/514987> (referer: None)\n",
      "2023-11-23 00:48:20 [scrapy.core.engine] DEBUG: Crawled (200) <GET https://armenpress.am/eng/news/514686> (referer: None)\n"
     ]
    },
    {
     "name": "stdout",
     "output_type": "stream",
     "text": [
      "SKIPPING https://armenpress.am/eng/news/514737\n",
      "SKIPPING https://armenpress.am/eng/news/514987\n"
     ]
    },
    {
     "name": "stderr",
     "output_type": "stream",
     "text": [
      "2023-11-23 00:48:20 [scrapy.core.engine] DEBUG: Crawled (200) <GET https://armenpress.am/eng/news/517099> (referer: None)\n",
      "2023-11-23 00:48:20 [scrapy.core.engine] DEBUG: Crawled (200) <GET https://armenpress.am/eng/news/514830> (referer: None)\n"
     ]
    },
    {
     "name": "stdout",
     "output_type": "stream",
     "text": [
      "SKIPPING https://armenpress.am/eng/news/514686\n",
      "SKIPPING https://armenpress.am/eng/news/517099\n"
     ]
    },
    {
     "name": "stderr",
     "output_type": "stream",
     "text": [
      "2023-11-23 00:48:20 [scrapy.core.engine] DEBUG: Crawled (200) <GET https://armenpress.am/eng/news/514898> (referer: None)\n",
      "2023-11-23 00:48:20 [scrapy.core.engine] DEBUG: Crawled (200) <GET https://armenpress.am/eng/news/516647> (referer: None)\n"
     ]
    },
    {
     "name": "stdout",
     "output_type": "stream",
     "text": [
      "SKIPPING https://armenpress.am/eng/news/514830\n",
      "SKIPPING https://armenpress.am/eng/news/514898\n"
     ]
    },
    {
     "name": "stderr",
     "output_type": "stream",
     "text": [
      "2023-11-23 00:48:20 [scrapy.core.engine] DEBUG: Crawled (200) <GET https://armenpress.am/eng/news/515183> (referer: None)\n",
      "2023-11-23 00:48:21 [scrapy.core.engine] DEBUG: Crawled (200) <GET https://armenpress.am/eng/news/516001> (referer: None)\n",
      "2023-11-23 00:48:21 [scrapy.core.engine] DEBUG: Crawled (200) <GET https://armenpress.am/eng/news/513652> (referer: None)\n"
     ]
    },
    {
     "name": "stdout",
     "output_type": "stream",
     "text": [
      "SKIPPING https://armenpress.am/eng/news/516647\n",
      "SKIPPING https://armenpress.am/eng/news/515183\n"
     ]
    },
    {
     "name": "stderr",
     "output_type": "stream",
     "text": [
      "2023-11-23 00:48:21 [scrapy.core.engine] DEBUG: Crawled (200) <GET https://armenpress.am/eng/news/515197> (referer: None)\n",
      "2023-11-23 00:48:21 [scrapy.core.engine] DEBUG: Crawled (200) <GET https://armenpress.am/eng/news/514790> (referer: None)\n"
     ]
    },
    {
     "name": "stdout",
     "output_type": "stream",
     "text": [
      "SKIPPING https://armenpress.am/eng/news/516001\n",
      "SKIPPING https://armenpress.am/eng/news/513652\n",
      "SKIPPING https://armenpress.am/eng/news/515197\n"
     ]
    },
    {
     "name": "stderr",
     "output_type": "stream",
     "text": [
      "2023-11-23 00:48:21 [scrapy.core.engine] DEBUG: Crawled (200) <GET https://armenpress.am/eng/news/515020> (referer: None)\n",
      "2023-11-23 00:48:21 [scrapy.core.engine] DEBUG: Crawled (200) <GET https://armenpress.am/eng/news/516021> (referer: None)\n"
     ]
    },
    {
     "name": "stdout",
     "output_type": "stream",
     "text": [
      "SKIPPING https://armenpress.am/eng/news/514790\n",
      "SKIPPING https://armenpress.am/eng/news/515020\n"
     ]
    },
    {
     "name": "stderr",
     "output_type": "stream",
     "text": [
      "2023-11-23 00:48:21 [scrapy.core.engine] DEBUG: Crawled (200) <GET https://armenpress.am/eng/news/516018> (referer: None)\n",
      "2023-11-23 00:48:21 [scrapy.core.engine] DEBUG: Crawled (200) <GET https://armenpress.am/eng/news/516492> (referer: None)\n",
      "2023-11-23 00:48:21 [scrapy.core.engine] DEBUG: Crawled (200) <GET https://armenpress.am/eng/news/517047> (referer: None)\n"
     ]
    },
    {
     "name": "stdout",
     "output_type": "stream",
     "text": [
      "SKIPPING https://armenpress.am/eng/news/516021\n",
      "SKIPPING https://armenpress.am/eng/news/516018\n"
     ]
    },
    {
     "name": "stderr",
     "output_type": "stream",
     "text": [
      "2023-11-23 00:48:21 [scrapy.core.engine] DEBUG: Crawled (200) <GET https://armenpress.am/eng/news/516020> (referer: None)\n"
     ]
    },
    {
     "name": "stdout",
     "output_type": "stream",
     "text": [
      "SKIPPING https://armenpress.am/eng/news/516492\n",
      "SKIPPING https://armenpress.am/eng/news/517047\n"
     ]
    },
    {
     "name": "stderr",
     "output_type": "stream",
     "text": [
      "2023-11-23 00:48:22 [scrapy.core.engine] DEBUG: Crawled (200) <GET https://armenpress.am/eng/news/514329> (referer: None)\n",
      "2023-11-23 00:48:22 [scrapy.core.engine] DEBUG: Crawled (200) <GET https://armenpress.am/eng/news/515375> (referer: None)\n"
     ]
    },
    {
     "name": "stdout",
     "output_type": "stream",
     "text": [
      "SKIPPING https://armenpress.am/eng/news/516020\n",
      "SKIPPING https://armenpress.am/eng/news/514329\n"
     ]
    },
    {
     "name": "stderr",
     "output_type": "stream",
     "text": [
      "2023-11-23 00:48:22 [scrapy.core.engine] DEBUG: Crawled (200) <GET https://armenpress.am/eng/news/515341> (referer: None)\n",
      "2023-11-23 00:48:22 [scrapy.core.engine] DEBUG: Crawled (200) <GET https://armenpress.am/eng/news/514692> (referer: None)\n",
      "2023-11-23 00:48:22 [scrapy.core.engine] DEBUG: Crawled (200) <GET https://armenpress.am/eng/news/515285> (referer: None)\n"
     ]
    },
    {
     "name": "stdout",
     "output_type": "stream",
     "text": [
      "SKIPPING https://armenpress.am/eng/news/515375\n",
      "SKIPPING https://armenpress.am/eng/news/515341\n",
      "SKIPPING https://armenpress.am/eng/news/514692\n"
     ]
    },
    {
     "name": "stderr",
     "output_type": "stream",
     "text": [
      "2023-11-23 00:48:22 [scrapy.core.engine] DEBUG: Crawled (200) <GET https://armenpress.am/eng/news/516237> (referer: None)\n",
      "2023-11-23 00:48:22 [scrapy.core.engine] DEBUG: Crawled (200) <GET https://armenpress.am/eng/news/514406> (referer: None)\n",
      "2023-11-23 00:48:22 [scrapy.core.engine] DEBUG: Crawled (200) <GET https://armenpress.am/eng/news/517365> (referer: None)\n"
     ]
    },
    {
     "name": "stdout",
     "output_type": "stream",
     "text": [
      "SKIPPING https://armenpress.am/eng/news/515285\n",
      "SKIPPING https://armenpress.am/eng/news/516237\n"
     ]
    },
    {
     "name": "stderr",
     "output_type": "stream",
     "text": [
      "2023-11-23 00:48:22 [scrapy.core.engine] DEBUG: Crawled (200) <GET https://armenpress.am/eng/news/515931> (referer: None)\n",
      "2023-11-23 00:48:22 [scrapy.core.engine] DEBUG: Crawled (200) <GET https://armenpress.am/eng/news/513630> (referer: None)\n"
     ]
    },
    {
     "name": "stdout",
     "output_type": "stream",
     "text": [
      "SKIPPING https://armenpress.am/eng/news/514406\n",
      "SKIPPING https://armenpress.am/eng/news/517365\n",
      "SKIPPING https://armenpress.am/eng/news/515931\n"
     ]
    },
    {
     "name": "stderr",
     "output_type": "stream",
     "text": [
      "2023-11-23 00:48:23 [scrapy.core.engine] DEBUG: Crawled (200) <GET https://armenpress.am/eng/news/516896> (referer: None)\n",
      "2023-11-23 00:48:23 [scrapy.core.engine] DEBUG: Crawled (200) <GET https://armenpress.am/eng/news/515927> (referer: None)\n",
      "2023-11-23 00:48:23 [scrapy.core.engine] DEBUG: Crawled (200) <GET https://armenpress.am/eng/news/513829> (referer: None)\n"
     ]
    },
    {
     "name": "stdout",
     "output_type": "stream",
     "text": [
      "SKIPPING https://armenpress.am/eng/news/513630\n",
      "SKIPPING https://armenpress.am/eng/news/516896\n"
     ]
    },
    {
     "name": "stderr",
     "output_type": "stream",
     "text": [
      "2023-11-23 00:48:23 [scrapy.core.engine] DEBUG: Crawled (200) <GET https://armenpress.am/eng/news/515552> (referer: None)\n",
      "2023-11-23 00:48:23 [scrapy.core.engine] DEBUG: Crawled (200) <GET https://armenpress.am/eng/news/779702> (referer: None)\n"
     ]
    },
    {
     "name": "stdout",
     "output_type": "stream",
     "text": [
      "SKIPPING https://armenpress.am/eng/news/515927\n",
      "SKIPPING https://armenpress.am/eng/news/513829\n",
      "SKIPPING https://armenpress.am/eng/news/515552\n"
     ]
    },
    {
     "name": "stderr",
     "output_type": "stream",
     "text": [
      "2023-11-23 00:48:23 [scrapy.core.engine] DEBUG: Crawled (200) <GET https://armenpress.am/eng/news/513782> (referer: None)\n",
      "2023-11-23 00:48:23 [scrapy.core.engine] DEBUG: Crawled (200) <GET https://armenpress.am/eng/news/513854> (referer: None)\n",
      "2023-11-23 00:48:23 [scrapy.core.engine] DEBUG: Crawled (200) <GET https://armenpress.am/eng/news/516244> (referer: None)\n"
     ]
    },
    {
     "name": "stdout",
     "output_type": "stream",
     "text": [
      "SKIPPING https://armenpress.am/eng/news/779702\n",
      "SKIPPING https://armenpress.am/eng/news/513782\n",
      "SKIPPING https://armenpress.am/eng/news/513854\n"
     ]
    },
    {
     "name": "stderr",
     "output_type": "stream",
     "text": [
      "2023-11-23 00:48:23 [scrapy.core.engine] DEBUG: Crawled (200) <GET https://armenpress.am/eng/news/514721> (referer: None)\n",
      "2023-11-23 00:48:23 [scrapy.core.engine] DEBUG: Crawled (200) <GET https://armenpress.am/eng/news/517167> (referer: None)\n",
      "2023-11-23 00:48:23 [scrapy.core.engine] DEBUG: Crawled (200) <GET https://armenpress.am/eng/news/514102> (referer: None)\n"
     ]
    },
    {
     "name": "stdout",
     "output_type": "stream",
     "text": [
      "SKIPPING https://armenpress.am/eng/news/516244\n",
      "SKIPPING https://armenpress.am/eng/news/514721\n",
      "SKIPPING https://armenpress.am/eng/news/517167\n"
     ]
    },
    {
     "name": "stderr",
     "output_type": "stream",
     "text": [
      "2023-11-23 00:48:24 [scrapy.core.engine] DEBUG: Crawled (200) <GET https://armenpress.am/eng/news/513743> (referer: None)\n",
      "2023-11-23 00:48:24 [scrapy.core.engine] DEBUG: Crawled (200) <GET https://armenpress.am/eng/news/515690> (referer: None)\n"
     ]
    },
    {
     "name": "stdout",
     "output_type": "stream",
     "text": [
      "SKIPPING https://armenpress.am/eng/news/514102\n",
      "SKIPPING https://armenpress.am/eng/news/513743\n"
     ]
    },
    {
     "name": "stderr",
     "output_type": "stream",
     "text": [
      "2023-11-23 00:48:24 [scrapy.core.engine] DEBUG: Crawled (200) <GET https://armenpress.am/eng/news/517246> (referer: None)\n",
      "2023-11-23 00:48:24 [scrapy.core.engine] DEBUG: Crawled (200) <GET https://armenpress.am/eng/news/515296> (referer: None)\n"
     ]
    },
    {
     "name": "stdout",
     "output_type": "stream",
     "text": [
      "SKIPPING https://armenpress.am/eng/news/515690\n",
      "SKIPPING https://armenpress.am/eng/news/517246\n",
      "SKIPPING https://armenpress.am/eng/news/515296\n"
     ]
    },
    {
     "name": "stderr",
     "output_type": "stream",
     "text": [
      "2023-11-23 00:48:24 [scrapy.core.engine] DEBUG: Crawled (200) <GET https://armenpress.am/eng/news/515328> (referer: None)\n",
      "2023-11-23 00:48:24 [scrapy.core.engine] DEBUG: Crawled (200) <GET https://armenpress.am/eng/news/515700> (referer: None)\n",
      "2023-11-23 00:48:24 [scrapy.core.engine] DEBUG: Crawled (200) <GET https://armenpress.am/eng/news/517473> (referer: None)\n",
      "2023-11-23 00:48:24 [scrapy.core.engine] DEBUG: Crawled (200) <GET https://armenpress.am/eng/news/515273> (referer: None)\n"
     ]
    },
    {
     "name": "stdout",
     "output_type": "stream",
     "text": [
      "SKIPPING https://armenpress.am/eng/news/515328\n",
      "SKIPPING https://armenpress.am/eng/news/515700\n",
      "SKIPPING https://armenpress.am/eng/news/517473\n"
     ]
    },
    {
     "name": "stderr",
     "output_type": "stream",
     "text": [
      "2023-11-23 00:48:24 [scrapy.core.engine] DEBUG: Crawled (200) <GET https://armenpress.am/eng/news/516275> (referer: None)\n",
      "2023-11-23 00:48:25 [scrapy.core.engine] DEBUG: Crawled (200) <GET https://armenpress.am/eng/news/513719> (referer: None)\n"
     ]
    },
    {
     "name": "stdout",
     "output_type": "stream",
     "text": [
      "SKIPPING https://armenpress.am/eng/news/515273\n",
      "SKIPPING https://armenpress.am/eng/news/516275\n"
     ]
    },
    {
     "name": "stderr",
     "output_type": "stream",
     "text": [
      "2023-11-23 00:48:25 [scrapy.core.engine] DEBUG: Crawled (200) <GET https://armenpress.am/eng/news/514709> (referer: None)\n",
      "2023-11-23 00:48:25 [scrapy.core.engine] DEBUG: Crawled (200) <GET https://armenpress.am/eng/news/514436> (referer: None)\n"
     ]
    },
    {
     "name": "stdout",
     "output_type": "stream",
     "text": [
      "SKIPPING https://armenpress.am/eng/news/513719\n",
      "SKIPPING https://armenpress.am/eng/news/514709\n"
     ]
    },
    {
     "name": "stderr",
     "output_type": "stream",
     "text": [
      "2023-11-23 00:48:25 [scrapy.core.engine] DEBUG: Crawled (200) <GET https://armenpress.am/eng/news/516319> (referer: None)\n",
      "2023-11-23 00:48:25 [scrapy.core.engine] DEBUG: Crawled (200) <GET https://armenpress.am/eng/news/514246> (referer: None)\n",
      "2023-11-23 00:48:25 [scrapy.core.engine] DEBUG: Crawled (200) <GET https://armenpress.am/eng/news/517026> (referer: None)\n"
     ]
    },
    {
     "name": "stdout",
     "output_type": "stream",
     "text": [
      "SKIPPING https://armenpress.am/eng/news/514436\n",
      "SKIPPING https://armenpress.am/eng/news/516319\n",
      "SKIPPING https://armenpress.am/eng/news/514246\n"
     ]
    },
    {
     "name": "stderr",
     "output_type": "stream",
     "text": [
      "2023-11-23 00:48:25 [scrapy.core.engine] DEBUG: Crawled (200) <GET https://armenpress.am/eng/news/515260> (referer: None)\n",
      "2023-11-23 00:48:25 [scrapy.core.engine] DEBUG: Crawled (200) <GET https://armenpress.am/eng/news/516658> (referer: None)\n"
     ]
    },
    {
     "name": "stdout",
     "output_type": "stream",
     "text": [
      "SKIPPING https://armenpress.am/eng/news/517026\n",
      "SKIPPING https://armenpress.am/eng/news/515260\n"
     ]
    },
    {
     "name": "stderr",
     "output_type": "stream",
     "text": [
      "2023-11-23 00:48:25 [scrapy.core.engine] DEBUG: Crawled (200) <GET https://armenpress.am/eng/news/517149> (referer: None)\n",
      "2023-11-23 00:48:26 [scrapy.core.engine] DEBUG: Crawled (200) <GET https://armenpress.am/eng/news/515849> (referer: None)\n"
     ]
    },
    {
     "name": "stdout",
     "output_type": "stream",
     "text": [
      "SKIPPING https://armenpress.am/eng/news/516658\n",
      "SKIPPING https://armenpress.am/eng/news/517149\n"
     ]
    },
    {
     "name": "stderr",
     "output_type": "stream",
     "text": [
      "2023-11-23 00:48:26 [scrapy.core.engine] DEBUG: Crawled (200) <GET https://armenpress.am/eng/news/515384> (referer: None)\n",
      "2023-11-23 00:48:26 [scrapy.core.engine] DEBUG: Crawled (200) <GET https://armenpress.am/eng/news/514074> (referer: None)\n"
     ]
    },
    {
     "name": "stdout",
     "output_type": "stream",
     "text": [
      "SKIPPING https://armenpress.am/eng/news/515849\n",
      "SKIPPING https://armenpress.am/eng/news/515384\n"
     ]
    },
    {
     "name": "stderr",
     "output_type": "stream",
     "text": [
      "2023-11-23 00:48:26 [scrapy.core.engine] DEBUG: Crawled (200) <GET https://armenpress.am/eng/news/514681> (referer: None)\n",
      "2023-11-23 00:48:26 [scrapy.core.engine] DEBUG: Crawled (200) <GET https://armenpress.am/eng/news/514324> (referer: None)\n"
     ]
    },
    {
     "name": "stdout",
     "output_type": "stream",
     "text": [
      "SKIPPING https://armenpress.am/eng/news/514074\n",
      "SKIPPING https://armenpress.am/eng/news/514681\n"
     ]
    },
    {
     "name": "stderr",
     "output_type": "stream",
     "text": [
      "2023-11-23 00:48:26 [scrapy.core.engine] DEBUG: Crawled (200) <GET https://armenpress.am/eng/news/516944> (referer: None)\n",
      "2023-11-23 00:48:26 [scrapy.core.engine] DEBUG: Crawled (200) <GET https://armenpress.am/eng/news/516353> (referer: None)\n"
     ]
    },
    {
     "name": "stdout",
     "output_type": "stream",
     "text": [
      "SKIPPING https://armenpress.am/eng/news/514324\n",
      "SKIPPING https://armenpress.am/eng/news/516944\n"
     ]
    },
    {
     "name": "stderr",
     "output_type": "stream",
     "text": [
      "2023-11-23 00:48:26 [scrapy.core.engine] DEBUG: Crawled (200) <GET https://armenpress.am/eng/news/515270> (referer: None)\n",
      "2023-11-23 00:48:26 [scrapy.core.engine] DEBUG: Crawled (200) <GET https://armenpress.am/eng/news/516971> (referer: None)\n"
     ]
    },
    {
     "name": "stdout",
     "output_type": "stream",
     "text": [
      "SKIPPING https://armenpress.am/eng/news/516353\n",
      "SKIPPING https://armenpress.am/eng/news/515270\n"
     ]
    },
    {
     "name": "stderr",
     "output_type": "stream",
     "text": [
      "2023-11-23 00:48:27 [scrapy.core.engine] DEBUG: Crawled (200) <GET https://armenpress.am/eng/news/515109> (referer: None)\n",
      "2023-11-23 00:48:27 [scrapy.core.engine] DEBUG: Crawled (200) <GET https://armenpress.am/eng/news/516219> (referer: None)\n",
      "2023-11-23 00:48:27 [scrapy.core.engine] DEBUG: Crawled (200) <GET https://armenpress.am/eng/news/516976> (referer: None)\n"
     ]
    },
    {
     "name": "stdout",
     "output_type": "stream",
     "text": [
      "SKIPPING https://armenpress.am/eng/news/516971\n",
      "SKIPPING https://armenpress.am/eng/news/515109\n"
     ]
    },
    {
     "name": "stderr",
     "output_type": "stream",
     "text": [
      "2023-11-23 00:48:27 [scrapy.core.engine] DEBUG: Crawled (200) <GET https://armenpress.am/eng/news/516242> (referer: None)\n",
      "2023-11-23 00:48:27 [scrapy.core.engine] DEBUG: Crawled (200) <GET https://armenpress.am/eng/news/516199> (referer: None)\n"
     ]
    },
    {
     "name": "stdout",
     "output_type": "stream",
     "text": [
      "SKIPPING https://armenpress.am/eng/news/516219\n",
      "SKIPPING https://armenpress.am/eng/news/516976\n",
      "SKIPPING https://armenpress.am/eng/news/516242\n"
     ]
    },
    {
     "name": "stderr",
     "output_type": "stream",
     "text": [
      "2023-11-23 00:48:27 [scrapy.core.engine] DEBUG: Crawled (200) <GET https://armenpress.am/eng/news/517318> (referer: None)\n",
      "2023-11-23 00:48:27 [scrapy.core.engine] DEBUG: Crawled (200) <GET https://armenpress.am/eng/news/516047> (referer: None)\n",
      "2023-11-23 00:48:27 [scrapy.core.engine] DEBUG: Crawled (200) <GET https://armenpress.am/eng/news/516039> (referer: None)\n"
     ]
    },
    {
     "name": "stdout",
     "output_type": "stream",
     "text": [
      "SKIPPING https://armenpress.am/eng/news/516199\n",
      "SKIPPING https://armenpress.am/eng/news/517318\n"
     ]
    },
    {
     "name": "stderr",
     "output_type": "stream",
     "text": [
      "2023-11-23 00:48:27 [scrapy.core.engine] DEBUG: Crawled (200) <GET https://armenpress.am/eng/news/516503> (referer: None)\n",
      "2023-11-23 00:48:27 [scrapy.core.engine] DEBUG: Crawled (200) <GET https://armenpress.am/eng/news/514443> (referer: None)\n"
     ]
    },
    {
     "name": "stdout",
     "output_type": "stream",
     "text": [
      "SKIPPING https://armenpress.am/eng/news/516047\n",
      "SKIPPING https://armenpress.am/eng/news/516039\n",
      "SKIPPING https://armenpress.am/eng/news/516503\n"
     ]
    },
    {
     "name": "stderr",
     "output_type": "stream",
     "text": [
      "2023-11-23 00:48:28 [scrapy.core.engine] DEBUG: Crawled (200) <GET https://armenpress.am/eng/news/515888> (referer: None)\n",
      "2023-11-23 00:48:28 [scrapy.core.engine] DEBUG: Crawled (200) <GET https://armenpress.am/eng/news/515265> (referer: None)\n"
     ]
    },
    {
     "name": "stdout",
     "output_type": "stream",
     "text": [
      "SKIPPING https://armenpress.am/eng/news/514443\n",
      "SKIPPING https://armenpress.am/eng/news/515888\n"
     ]
    },
    {
     "name": "stderr",
     "output_type": "stream",
     "text": [
      "2023-11-23 00:48:28 [scrapy.core.engine] DEBUG: Crawled (200) <GET https://armenpress.am/eng/news/514265> (referer: None)\n",
      "2023-11-23 00:48:28 [scrapy.core.engine] DEBUG: Crawled (200) <GET https://armenpress.am/eng/news/514047> (referer: None)\n"
     ]
    },
    {
     "name": "stdout",
     "output_type": "stream",
     "text": [
      "SKIPPING https://armenpress.am/eng/news/515265\n",
      "SKIPPING https://armenpress.am/eng/news/514265\n"
     ]
    },
    {
     "name": "stderr",
     "output_type": "stream",
     "text": [
      "2023-11-23 00:48:28 [scrapy.core.engine] DEBUG: Crawled (200) <GET https://armenpress.am/eng/news/514880> (referer: None)\n",
      "2023-11-23 00:48:28 [scrapy.core.engine] DEBUG: Crawled (200) <GET https://armenpress.am/eng/news/516209> (referer: None)\n"
     ]
    },
    {
     "name": "stdout",
     "output_type": "stream",
     "text": [
      "SKIPPING https://armenpress.am/eng/news/514047\n",
      "SKIPPING https://armenpress.am/eng/news/514880\n",
      "SKIPPING https://armenpress.am/eng/news/516209\n"
     ]
    },
    {
     "name": "stderr",
     "output_type": "stream",
     "text": [
      "2023-11-23 00:48:28 [scrapy.core.engine] DEBUG: Crawled (200) <GET https://armenpress.am/eng/news/515660> (referer: None)\n",
      "2023-11-23 00:48:28 [scrapy.core.engine] DEBUG: Crawled (200) <GET https://armenpress.am/eng/news/517287> (referer: None)\n",
      "2023-11-23 00:48:28 [scrapy.core.engine] DEBUG: Crawled (200) <GET https://armenpress.am/eng/news/513997> (referer: None)\n",
      "2023-11-23 00:48:28 [scrapy.core.engine] DEBUG: Crawled (200) <GET https://armenpress.am/eng/news/514063> (referer: None)\n"
     ]
    },
    {
     "name": "stdout",
     "output_type": "stream",
     "text": [
      "SKIPPING https://armenpress.am/eng/news/515660\n",
      "SKIPPING https://armenpress.am/eng/news/517287\n",
      "SKIPPING https://armenpress.am/eng/news/513997\n"
     ]
    },
    {
     "name": "stderr",
     "output_type": "stream",
     "text": [
      "2023-11-23 00:48:29 [scrapy.core.engine] DEBUG: Crawled (200) <GET https://armenpress.am/eng/news/513880> (referer: None)\n",
      "2023-11-23 00:48:29 [scrapy.core.engine] DEBUG: Crawled (200) <GET https://armenpress.am/eng/news/516734> (referer: None)\n",
      "2023-11-23 00:48:29 [scrapy.core.engine] DEBUG: Crawled (200) <GET https://armenpress.am/eng/news/517061> (referer: None)\n"
     ]
    },
    {
     "name": "stdout",
     "output_type": "stream",
     "text": [
      "SKIPPING https://armenpress.am/eng/news/514063\n",
      "SKIPPING https://armenpress.am/eng/news/513880\n",
      "SKIPPING https://armenpress.am/eng/news/516734\n"
     ]
    },
    {
     "name": "stderr",
     "output_type": "stream",
     "text": [
      "2023-11-23 00:48:29 [scrapy.core.engine] DEBUG: Crawled (200) <GET https://armenpress.am/eng/news/514831> (referer: None)\n",
      "2023-11-23 00:48:29 [scrapy.core.engine] DEBUG: Crawled (200) <GET https://armenpress.am/eng/news/514928> (referer: None)\n"
     ]
    },
    {
     "name": "stdout",
     "output_type": "stream",
     "text": [
      "SKIPPING https://armenpress.am/eng/news/517061\n",
      "SKIPPING https://armenpress.am/eng/news/514831\n"
     ]
    },
    {
     "name": "stderr",
     "output_type": "stream",
     "text": [
      "2023-11-23 00:48:29 [scrapy.core.engine] DEBUG: Crawled (200) <GET https://armenpress.am/eng/news/514301> (referer: None)\n",
      "2023-11-23 00:48:29 [scrapy.core.engine] DEBUG: Crawled (200) <GET https://armenpress.am/eng/news/515620> (referer: None)\n"
     ]
    },
    {
     "name": "stdout",
     "output_type": "stream",
     "text": [
      "SKIPPING https://armenpress.am/eng/news/514928\n",
      "SKIPPING https://armenpress.am/eng/news/514301\n"
     ]
    },
    {
     "name": "stderr",
     "output_type": "stream",
     "text": [
      "2023-11-23 00:48:29 [scrapy.core.engine] DEBUG: Crawled (200) <GET https://armenpress.am/eng/news/514845> (referer: None)\n",
      "2023-11-23 00:48:29 [scrapy.core.engine] DEBUG: Crawled (200) <GET https://armenpress.am/eng/news/514296> (referer: None)\n"
     ]
    },
    {
     "name": "stdout",
     "output_type": "stream",
     "text": [
      "SKIPPING https://armenpress.am/eng/news/515620\n",
      "SKIPPING https://armenpress.am/eng/news/514845\n",
      "SKIPPING https://armenpress.am/eng/news/514296\n"
     ]
    },
    {
     "name": "stderr",
     "output_type": "stream",
     "text": [
      "2023-11-23 00:48:29 [scrapy.core.engine] DEBUG: Crawled (200) <GET https://armenpress.am/eng/news/515736> (referer: None)\n",
      "2023-11-23 00:48:30 [scrapy.core.engine] DEBUG: Crawled (200) <GET https://armenpress.am/eng/news/517389> (referer: None)\n",
      "2023-11-23 00:48:30 [scrapy.core.engine] DEBUG: Crawled (200) <GET https://armenpress.am/eng/news/514482> (referer: None)\n"
     ]
    },
    {
     "name": "stdout",
     "output_type": "stream",
     "text": [
      "SKIPPING https://armenpress.am/eng/news/515736\n",
      "SKIPPING https://armenpress.am/eng/news/517389\n"
     ]
    },
    {
     "name": "stderr",
     "output_type": "stream",
     "text": [
      "2023-11-23 00:48:30 [scrapy.core.engine] DEBUG: Crawled (200) <GET https://armenpress.am/eng/news/514576> (referer: None)\n",
      "2023-11-23 00:48:30 [scrapy.core.engine] DEBUG: Crawled (200) <GET https://armenpress.am/eng/news/517059> (referer: None)\n",
      "2023-11-23 00:48:30 [scrapy.core.engine] DEBUG: Crawled (200) <GET https://armenpress.am/eng/news/513988> (referer: None)\n"
     ]
    },
    {
     "name": "stdout",
     "output_type": "stream",
     "text": [
      "SKIPPING https://armenpress.am/eng/news/514482\n",
      "SKIPPING https://armenpress.am/eng/news/514576\n",
      "SKIPPING https://armenpress.am/eng/news/517059\n"
     ]
    },
    {
     "name": "stderr",
     "output_type": "stream",
     "text": [
      "2023-11-23 00:48:30 [scrapy.core.engine] DEBUG: Crawled (200) <GET https://armenpress.am/eng/news/515141> (referer: None)\n",
      "2023-11-23 00:48:30 [scrapy.core.engine] DEBUG: Crawled (200) <GET https://armenpress.am/eng/news/515393> (referer: None)\n",
      "2023-11-23 00:48:30 [scrapy.core.engine] DEBUG: Crawled (200) <GET https://armenpress.am/eng/news/515383> (referer: None)\n"
     ]
    },
    {
     "name": "stdout",
     "output_type": "stream",
     "text": [
      "SKIPPING https://armenpress.am/eng/news/513988\n",
      "SKIPPING https://armenpress.am/eng/news/515141\n",
      "SKIPPING https://armenpress.am/eng/news/515393\n"
     ]
    },
    {
     "name": "stderr",
     "output_type": "stream",
     "text": [
      "2023-11-23 00:48:30 [scrapy.core.engine] DEBUG: Crawled (200) <GET https://armenpress.am/eng/news/515369> (referer: None)\n",
      "2023-11-23 00:48:30 [scrapy.core.engine] DEBUG: Crawled (200) <GET https://armenpress.am/eng/news/514490> (referer: None)\n",
      "2023-11-23 00:48:31 [scrapy.core.engine] DEBUG: Crawled (200) <GET https://armenpress.am/eng/news/517226> (referer: None)\n"
     ]
    },
    {
     "name": "stdout",
     "output_type": "stream",
     "text": [
      "SKIPPING https://armenpress.am/eng/news/515383\n",
      "SKIPPING https://armenpress.am/eng/news/515369\n",
      "SKIPPING https://armenpress.am/eng/news/514490\n"
     ]
    },
    {
     "name": "stderr",
     "output_type": "stream",
     "text": [
      "2023-11-23 00:48:31 [scrapy.core.engine] DEBUG: Crawled (200) <GET https://armenpress.am/eng/news/516957> (referer: None)\n",
      "2023-11-23 00:48:31 [scrapy.core.engine] DEBUG: Crawled (200) <GET https://armenpress.am/eng/news/515467> (referer: None)\n",
      "2023-11-23 00:48:31 [scrapy.core.engine] DEBUG: Crawled (200) <GET https://armenpress.am/eng/news/516336> (referer: None)\n"
     ]
    },
    {
     "name": "stdout",
     "output_type": "stream",
     "text": [
      "SKIPPING https://armenpress.am/eng/news/517226\n",
      "SKIPPING https://armenpress.am/eng/news/516957\n",
      "SKIPPING https://armenpress.am/eng/news/515467\n"
     ]
    },
    {
     "name": "stderr",
     "output_type": "stream",
     "text": [
      "2023-11-23 00:48:31 [scrapy.core.engine] DEBUG: Crawled (200) <GET https://armenpress.am/eng/news/517343> (referer: None)\n",
      "2023-11-23 00:48:31 [scrapy.core.engine] DEBUG: Crawled (200) <GET https://armenpress.am/eng/news/516823> (referer: None)\n",
      "2023-11-23 00:48:31 [scrapy.extensions.logstats] INFO: Crawled 2328 pages (at 585 pages/min), scraped 0 items (at 0 items/min)\n"
     ]
    },
    {
     "name": "stdout",
     "output_type": "stream",
     "text": [
      "SKIPPING https://armenpress.am/eng/news/516336\n",
      "SKIPPING https://armenpress.am/eng/news/517343\n"
     ]
    },
    {
     "name": "stderr",
     "output_type": "stream",
     "text": [
      "2023-11-23 00:48:31 [scrapy.core.engine] DEBUG: Crawled (200) <GET https://armenpress.am/eng/news/517250> (referer: None)\n",
      "2023-11-23 00:48:31 [scrapy.core.engine] DEBUG: Crawled (200) <GET https://armenpress.am/eng/news/514162> (referer: None)\n"
     ]
    },
    {
     "name": "stdout",
     "output_type": "stream",
     "text": [
      "SKIPPING https://armenpress.am/eng/news/516823\n",
      "SKIPPING https://armenpress.am/eng/news/517250\n"
     ]
    },
    {
     "name": "stderr",
     "output_type": "stream",
     "text": [
      "2023-11-23 00:48:31 [scrapy.core.engine] DEBUG: Crawled (200) <GET https://armenpress.am/eng/news/517369> (referer: None)\n",
      "2023-11-23 00:48:31 [scrapy.core.engine] DEBUG: Crawled (200) <GET https://armenpress.am/eng/news/515994> (referer: None)\n"
     ]
    },
    {
     "name": "stdout",
     "output_type": "stream",
     "text": [
      "SKIPPING https://armenpress.am/eng/news/514162\n",
      "SKIPPING https://armenpress.am/eng/news/517369\n"
     ]
    },
    {
     "name": "stderr",
     "output_type": "stream",
     "text": [
      "2023-11-23 00:48:32 [scrapy.core.engine] DEBUG: Crawled (200) <GET https://armenpress.am/eng/news/515392> (referer: None)\n",
      "2023-11-23 00:48:32 [scrapy.core.engine] DEBUG: Crawled (200) <GET https://armenpress.am/eng/news/766497> (referer: None)\n"
     ]
    },
    {
     "name": "stdout",
     "output_type": "stream",
     "text": [
      "SKIPPING https://armenpress.am/eng/news/515994\n",
      "SKIPPING https://armenpress.am/eng/news/515392\n"
     ]
    },
    {
     "name": "stderr",
     "output_type": "stream",
     "text": [
      "2023-11-23 00:48:32 [scrapy.core.engine] DEBUG: Crawled (200) <GET https://armenpress.am/eng/news/516601> (referer: None)\n",
      "2023-11-23 00:48:32 [scrapy.core.engine] DEBUG: Crawled (200) <GET https://armenpress.am/eng/news/515949> (referer: None)\n"
     ]
    },
    {
     "name": "stdout",
     "output_type": "stream",
     "text": [
      "SKIPPING https://armenpress.am/eng/news/766497\n",
      "SKIPPING https://armenpress.am/eng/news/516601\n",
      "SKIPPING https://armenpress.am/eng/news/515949\n"
     ]
    },
    {
     "name": "stderr",
     "output_type": "stream",
     "text": [
      "2023-11-23 00:48:32 [scrapy.core.engine] DEBUG: Crawled (200) <GET https://armenpress.am/eng/news/515342> (referer: None)\n",
      "2023-11-23 00:48:32 [scrapy.core.engine] DEBUG: Crawled (200) <GET https://armenpress.am/eng/news/513975> (referer: None)\n",
      "2023-11-23 00:48:32 [scrapy.core.engine] DEBUG: Crawled (200) <GET https://armenpress.am/eng/news/515812> (referer: None)\n"
     ]
    },
    {
     "name": "stdout",
     "output_type": "stream",
     "text": [
      "SKIPPING https://armenpress.am/eng/news/515342\n",
      "SKIPPING https://armenpress.am/eng/news/513975\n"
     ]
    },
    {
     "name": "stderr",
     "output_type": "stream",
     "text": [
      "2023-11-23 00:48:32 [scrapy.core.engine] DEBUG: Crawled (200) <GET https://armenpress.am/eng/news/514569> (referer: None)\n",
      "2023-11-23 00:48:32 [scrapy.core.engine] DEBUG: Crawled (200) <GET https://armenpress.am/eng/news/516152> (referer: None)\n",
      "2023-11-23 00:48:33 [scrapy.core.engine] DEBUG: Crawled (200) <GET https://armenpress.am/eng/news/514758> (referer: None)\n"
     ]
    },
    {
     "name": "stdout",
     "output_type": "stream",
     "text": [
      "SKIPPING https://armenpress.am/eng/news/515812\n",
      "SKIPPING https://armenpress.am/eng/news/514569\n"
     ]
    },
    {
     "name": "stderr",
     "output_type": "stream",
     "text": [
      "2023-11-23 00:48:33 [scrapy.core.engine] DEBUG: Crawled (200) <GET https://armenpress.am/eng/news/517079> (referer: None)\n"
     ]
    },
    {
     "name": "stdout",
     "output_type": "stream",
     "text": [
      "SKIPPING https://armenpress.am/eng/news/516152\n",
      "SKIPPING https://armenpress.am/eng/news/514758\n"
     ]
    },
    {
     "name": "stderr",
     "output_type": "stream",
     "text": [
      "2023-11-23 00:48:33 [scrapy.core.engine] DEBUG: Crawled (200) <GET https://armenpress.am/eng/news/516698> (referer: None)\n",
      "2023-11-23 00:48:33 [scrapy.core.engine] DEBUG: Crawled (200) <GET https://armenpress.am/eng/news/514530> (referer: None)\n"
     ]
    },
    {
     "name": "stdout",
     "output_type": "stream",
     "text": [
      "SKIPPING https://armenpress.am/eng/news/517079\n",
      "SKIPPING https://armenpress.am/eng/news/516698\n",
      "SKIPPING https://armenpress.am/eng/news/514530\n"
     ]
    },
    {
     "name": "stderr",
     "output_type": "stream",
     "text": [
      "2023-11-23 00:48:33 [scrapy.core.engine] DEBUG: Crawled (200) <GET https://armenpress.am/eng/news/515835> (referer: None)\n",
      "2023-11-23 00:48:33 [scrapy.core.engine] DEBUG: Crawled (200) <GET https://armenpress.am/eng/news/517195> (referer: None)\n",
      "2023-11-23 00:48:33 [scrapy.core.engine] DEBUG: Crawled (200) <GET https://armenpress.am/eng/news/517400> (referer: None)\n",
      "2023-11-23 00:48:33 [scrapy.core.engine] DEBUG: Crawled (200) <GET https://armenpress.am/eng/news/516768> (referer: None)\n"
     ]
    },
    {
     "name": "stdout",
     "output_type": "stream",
     "text": [
      "SKIPPING https://armenpress.am/eng/news/515835\n",
      "SKIPPING https://armenpress.am/eng/news/517195\n"
     ]
    },
    {
     "name": "stderr",
     "output_type": "stream",
     "text": [
      "2023-11-23 00:48:33 [scrapy.core.engine] DEBUG: Crawled (200) <GET https://armenpress.am/eng/news/515707> (referer: None)\n"
     ]
    },
    {
     "name": "stdout",
     "output_type": "stream",
     "text": [
      "SKIPPING https://armenpress.am/eng/news/517400\n",
      "SKIPPING https://armenpress.am/eng/news/516768\n"
     ]
    },
    {
     "name": "stderr",
     "output_type": "stream",
     "text": [
      "2023-11-23 00:48:34 [scrapy.core.engine] DEBUG: Crawled (200) <GET https://armenpress.am/eng/news/515929> (referer: None)\n",
      "2023-11-23 00:48:34 [scrapy.core.engine] DEBUG: Crawled (200) <GET https://armenpress.am/eng/news/516357> (referer: None)\n"
     ]
    },
    {
     "name": "stdout",
     "output_type": "stream",
     "text": [
      "SKIPPING https://armenpress.am/eng/news/515707\n",
      "SKIPPING https://armenpress.am/eng/news/515929\n",
      "SKIPPING https://armenpress.am/eng/news/516357\n"
     ]
    },
    {
     "name": "stderr",
     "output_type": "stream",
     "text": [
      "2023-11-23 00:48:34 [scrapy.core.engine] DEBUG: Crawled (200) <GET https://armenpress.am/eng/news/516803> (referer: None)\n",
      "2023-11-23 00:48:34 [scrapy.core.engine] DEBUG: Crawled (200) <GET https://armenpress.am/eng/news/514632> (referer: None)\n",
      "2023-11-23 00:48:34 [scrapy.core.engine] DEBUG: Crawled (200) <GET https://armenpress.am/eng/news/517194> (referer: None)\n"
     ]
    },
    {
     "name": "stdout",
     "output_type": "stream",
     "text": [
      "SKIPPING https://armenpress.am/eng/news/516803\n",
      "SKIPPING https://armenpress.am/eng/news/514632\n"
     ]
    },
    {
     "name": "stderr",
     "output_type": "stream",
     "text": [
      "2023-11-23 00:48:34 [scrapy.core.engine] DEBUG: Crawled (200) <GET https://armenpress.am/eng/news/514132> (referer: None)\n",
      "2023-11-23 00:48:34 [scrapy.core.engine] DEBUG: Crawled (200) <GET https://armenpress.am/eng/news/514156> (referer: None)\n",
      "2023-11-23 00:48:34 [scrapy.core.engine] DEBUG: Crawled (200) <GET https://armenpress.am/eng/news/513776> (referer: None)\n"
     ]
    },
    {
     "name": "stdout",
     "output_type": "stream",
     "text": [
      "SKIPPING https://armenpress.am/eng/news/517194\n",
      "SKIPPING https://armenpress.am/eng/news/514132\n"
     ]
    },
    {
     "name": "stderr",
     "output_type": "stream",
     "text": [
      "2023-11-23 00:48:34 [scrapy.core.engine] DEBUG: Crawled (200) <GET https://armenpress.am/eng/news/514724> (referer: None)\n",
      "2023-11-23 00:48:34 [scrapy.core.engine] DEBUG: Crawled (200) <GET https://armenpress.am/eng/news/515950> (referer: None)\n"
     ]
    },
    {
     "name": "stdout",
     "output_type": "stream",
     "text": [
      "SKIPPING https://armenpress.am/eng/news/514156\n",
      "SKIPPING https://armenpress.am/eng/news/513776\n"
     ]
    },
    {
     "name": "stderr",
     "output_type": "stream",
     "text": [
      "2023-11-23 00:48:35 [scrapy.core.engine] DEBUG: Crawled (200) <GET https://armenpress.am/eng/news/515696> (referer: None)\n",
      "2023-11-23 00:48:35 [scrapy.core.engine] DEBUG: Crawled (200) <GET https://armenpress.am/eng/news/516104> (referer: None)\n"
     ]
    },
    {
     "name": "stdout",
     "output_type": "stream",
     "text": [
      "SKIPPING https://armenpress.am/eng/news/514724\n",
      "SKIPPING https://armenpress.am/eng/news/515950\n"
     ]
    },
    {
     "name": "stderr",
     "output_type": "stream",
     "text": [
      "2023-11-23 00:48:35 [scrapy.core.engine] DEBUG: Crawled (200) <GET https://armenpress.am/eng/news/516549> (referer: None)\n",
      "2023-11-23 00:48:35 [scrapy.core.engine] DEBUG: Crawled (200) <GET https://armenpress.am/eng/news/514955> (referer: None)\n"
     ]
    },
    {
     "name": "stdout",
     "output_type": "stream",
     "text": [
      "SKIPPING https://armenpress.am/eng/news/515696\n",
      "SKIPPING https://armenpress.am/eng/news/516104\n",
      "SKIPPING https://armenpress.am/eng/news/516549\n"
     ]
    },
    {
     "name": "stderr",
     "output_type": "stream",
     "text": [
      "2023-11-23 00:48:35 [scrapy.core.engine] DEBUG: Crawled (200) <GET https://armenpress.am/eng/news/513760> (referer: None)\n",
      "2023-11-23 00:48:35 [scrapy.core.engine] DEBUG: Crawled (200) <GET https://armenpress.am/eng/news/515749> (referer: None)\n"
     ]
    },
    {
     "name": "stdout",
     "output_type": "stream",
     "text": [
      "SKIPPING https://armenpress.am/eng/news/514955\n",
      "SKIPPING https://armenpress.am/eng/news/513760\n",
      "SKIPPING https://armenpress.am/eng/news/515749\n"
     ]
    },
    {
     "name": "stderr",
     "output_type": "stream",
     "text": [
      "2023-11-23 00:48:35 [scrapy.core.engine] DEBUG: Crawled (200) <GET https://armenpress.am/eng/news/515641> (referer: None)\n",
      "2023-11-23 00:48:35 [scrapy.core.engine] DEBUG: Crawled (200) <GET https://armenpress.am/eng/news/514800> (referer: None)\n",
      "2023-11-23 00:48:35 [scrapy.core.engine] DEBUG: Crawled (200) <GET https://armenpress.am/eng/news/514936> (referer: None)\n",
      "2023-11-23 00:48:35 [scrapy.core.engine] DEBUG: Crawled (200) <GET https://armenpress.am/eng/news/515490> (referer: None)\n"
     ]
    },
    {
     "name": "stdout",
     "output_type": "stream",
     "text": [
      "SKIPPING https://armenpress.am/eng/news/515641\n",
      "SKIPPING https://armenpress.am/eng/news/514800\n",
      "SKIPPING https://armenpress.am/eng/news/514936\n"
     ]
    },
    {
     "name": "stderr",
     "output_type": "stream",
     "text": [
      "2023-11-23 00:48:35 [scrapy.core.engine] DEBUG: Crawled (200) <GET https://armenpress.am/eng/news/514140> (referer: None)\n",
      "2023-11-23 00:48:36 [scrapy.core.engine] DEBUG: Crawled (200) <GET https://armenpress.am/eng/news/513650> (referer: None)\n",
      "2023-11-23 00:48:36 [scrapy.core.engine] DEBUG: Crawled (200) <GET https://armenpress.am/eng/news/515712> (referer: None)\n"
     ]
    },
    {
     "name": "stdout",
     "output_type": "stream",
     "text": [
      "SKIPPING https://armenpress.am/eng/news/515490\n",
      "SKIPPING https://armenpress.am/eng/news/514140\n"
     ]
    },
    {
     "name": "stderr",
     "output_type": "stream",
     "text": [
      "2023-11-23 00:48:36 [scrapy.core.engine] DEBUG: Crawled (200) <GET https://armenpress.am/eng/news/514373> (referer: None)\n",
      "2023-11-23 00:48:36 [scrapy.core.engine] DEBUG: Crawled (200) <GET https://armenpress.am/eng/news/513765> (referer: None)\n"
     ]
    },
    {
     "name": "stdout",
     "output_type": "stream",
     "text": [
      "SKIPPING https://armenpress.am/eng/news/513650\n",
      "SKIPPING https://armenpress.am/eng/news/515712\n"
     ]
    },
    {
     "name": "stderr",
     "output_type": "stream",
     "text": [
      "2023-11-23 00:48:36 [scrapy.core.engine] DEBUG: Crawled (200) <GET https://armenpress.am/eng/news/516205> (referer: None)\n",
      "2023-11-23 00:48:36 [scrapy.core.engine] DEBUG: Crawled (200) <GET https://armenpress.am/eng/news/514362> (referer: None)\n"
     ]
    },
    {
     "name": "stdout",
     "output_type": "stream",
     "text": [
      "SKIPPING https://armenpress.am/eng/news/514373\n",
      "SKIPPING https://armenpress.am/eng/news/513765\n",
      "SKIPPING https://armenpress.am/eng/news/516205\n"
     ]
    },
    {
     "name": "stderr",
     "output_type": "stream",
     "text": [
      "2023-11-23 00:48:36 [scrapy.core.engine] DEBUG: Crawled (200) <GET https://armenpress.am/eng/news/513846> (referer: None)\n",
      "2023-11-23 00:48:36 [scrapy.core.engine] DEBUG: Crawled (200) <GET https://armenpress.am/eng/news/516027> (referer: None)\n"
     ]
    },
    {
     "name": "stdout",
     "output_type": "stream",
     "text": [
      "SKIPPING https://armenpress.am/eng/news/514362\n",
      "SKIPPING https://armenpress.am/eng/news/513846\n"
     ]
    },
    {
     "name": "stderr",
     "output_type": "stream",
     "text": [
      "2023-11-23 00:48:36 [scrapy.core.engine] DEBUG: Crawled (200) <GET https://armenpress.am/eng/news/516294> (referer: None)\n",
      "2023-11-23 00:48:36 [scrapy.core.engine] DEBUG: Crawled (200) <GET https://armenpress.am/eng/news/516629> (referer: None)\n",
      "2023-11-23 00:48:37 [scrapy.core.engine] DEBUG: Crawled (200) <GET https://armenpress.am/eng/news/514109> (referer: None)\n"
     ]
    },
    {
     "name": "stdout",
     "output_type": "stream",
     "text": [
      "SKIPPING https://armenpress.am/eng/news/516027\n",
      "SKIPPING https://armenpress.am/eng/news/516294\n"
     ]
    },
    {
     "name": "stderr",
     "output_type": "stream",
     "text": [
      "2023-11-23 00:48:37 [scrapy.core.engine] DEBUG: Crawled (200) <GET https://armenpress.am/eng/news/516521> (referer: None)\n"
     ]
    },
    {
     "name": "stdout",
     "output_type": "stream",
     "text": [
      "SKIPPING https://armenpress.am/eng/news/516629\n",
      "SKIPPING https://armenpress.am/eng/news/514109\n"
     ]
    },
    {
     "name": "stderr",
     "output_type": "stream",
     "text": [
      "2023-11-23 00:48:37 [scrapy.core.engine] DEBUG: Crawled (200) <GET https://armenpress.am/eng/news/514093> (referer: None)\n",
      "2023-11-23 00:48:37 [scrapy.core.engine] DEBUG: Crawled (200) <GET https://armenpress.am/eng/news/514309> (referer: None)\n",
      "2023-11-23 00:48:37 [scrapy.core.engine] DEBUG: Crawled (200) <GET https://armenpress.am/eng/news/515566> (referer: None)\n"
     ]
    },
    {
     "name": "stdout",
     "output_type": "stream",
     "text": [
      "SKIPPING https://armenpress.am/eng/news/516521\n",
      "SKIPPING https://armenpress.am/eng/news/514093\n"
     ]
    },
    {
     "name": "stderr",
     "output_type": "stream",
     "text": [
      "2023-11-23 00:48:37 [scrapy.core.engine] DEBUG: Crawled (200) <GET https://armenpress.am/eng/news/516653> (referer: None)\n"
     ]
    },
    {
     "name": "stdout",
     "output_type": "stream",
     "text": [
      "SKIPPING https://armenpress.am/eng/news/514309\n",
      "SKIPPING https://armenpress.am/eng/news/515566\n"
     ]
    },
    {
     "name": "stderr",
     "output_type": "stream",
     "text": [
      "2023-11-23 00:48:37 [scrapy.core.engine] DEBUG: Crawled (200) <GET https://armenpress.am/eng/news/513943> (referer: None)\n",
      "2023-11-23 00:48:37 [scrapy.core.engine] DEBUG: Crawled (200) <GET https://armenpress.am/eng/news/513713> (referer: None)\n"
     ]
    },
    {
     "name": "stdout",
     "output_type": "stream",
     "text": [
      "SKIPPING https://armenpress.am/eng/news/516653\n",
      "SKIPPING https://armenpress.am/eng/news/513943\n"
     ]
    },
    {
     "name": "stderr",
     "output_type": "stream",
     "text": [
      "2023-11-23 00:48:37 [scrapy.core.engine] DEBUG: Crawled (200) <GET https://armenpress.am/eng/news/516485> (referer: None)\n",
      "2023-11-23 00:48:38 [scrapy.core.engine] DEBUG: Crawled (200) <GET https://armenpress.am/eng/news/517362> (referer: None)\n"
     ]
    },
    {
     "name": "stdout",
     "output_type": "stream",
     "text": [
      "SKIPPING https://armenpress.am/eng/news/513713\n",
      "SKIPPING https://armenpress.am/eng/news/516485\n"
     ]
    },
    {
     "name": "stderr",
     "output_type": "stream",
     "text": [
      "2023-11-23 00:48:38 [scrapy.core.engine] DEBUG: Crawled (200) <GET https://armenpress.am/eng/news/517007> (referer: None)\n",
      "2023-11-23 00:48:38 [scrapy.core.engine] DEBUG: Crawled (200) <GET https://armenpress.am/eng/news/515611> (referer: None)\n"
     ]
    },
    {
     "name": "stdout",
     "output_type": "stream",
     "text": [
      "SKIPPING https://armenpress.am/eng/news/517362\n",
      "SKIPPING https://armenpress.am/eng/news/517007\n"
     ]
    },
    {
     "name": "stderr",
     "output_type": "stream",
     "text": [
      "2023-11-23 00:48:38 [scrapy.core.engine] DEBUG: Crawled (200) <GET https://armenpress.am/eng/news/514286> (referer: None)\n",
      "2023-11-23 00:48:38 [scrapy.core.engine] DEBUG: Crawled (200) <GET https://armenpress.am/eng/news/515430> (referer: None)\n"
     ]
    },
    {
     "name": "stdout",
     "output_type": "stream",
     "text": [
      "SKIPPING https://armenpress.am/eng/news/515611\n",
      "SKIPPING https://armenpress.am/eng/news/514286\n"
     ]
    },
    {
     "name": "stderr",
     "output_type": "stream",
     "text": [
      "2023-11-23 00:48:38 [scrapy.core.engine] DEBUG: Crawled (200) <GET https://armenpress.am/eng/news/515139> (referer: None)\n",
      "2023-11-23 00:48:38 [scrapy.core.engine] DEBUG: Crawled (200) <GET https://armenpress.am/eng/news/514526> (referer: None)\n",
      "2023-11-23 00:48:38 [scrapy.core.engine] DEBUG: Crawled (200) <GET https://armenpress.am/eng/news/516139> (referer: None)\n"
     ]
    },
    {
     "name": "stdout",
     "output_type": "stream",
     "text": [
      "SKIPPING https://armenpress.am/eng/news/515430\n",
      "SKIPPING https://armenpress.am/eng/news/515139\n"
     ]
    },
    {
     "name": "stderr",
     "output_type": "stream",
     "text": [
      "2023-11-23 00:48:38 [scrapy.core.engine] DEBUG: Crawled (200) <GET https://armenpress.am/eng/news/517235> (referer: None)\n"
     ]
    },
    {
     "name": "stdout",
     "output_type": "stream",
     "text": [
      "SKIPPING https://armenpress.am/eng/news/514526\n",
      "SKIPPING https://armenpress.am/eng/news/516139\n",
      "SKIPPING https://armenpress.am/eng/news/517235\n"
     ]
    },
    {
     "name": "stderr",
     "output_type": "stream",
     "text": [
      "2023-11-23 00:48:39 [scrapy.core.engine] DEBUG: Crawled (200) <GET https://armenpress.am/eng/news/516875> (referer: None)\n",
      "2023-11-23 00:48:39 [scrapy.core.engine] DEBUG: Crawled (200) <GET https://armenpress.am/eng/news/516831> (referer: None)\n",
      "2023-11-23 00:48:39 [scrapy.core.engine] DEBUG: Crawled (200) <GET https://armenpress.am/eng/news/514905> (referer: None)\n",
      "2023-11-23 00:48:39 [scrapy.core.engine] DEBUG: Crawled (200) <GET https://armenpress.am/eng/news/516445> (referer: None)\n"
     ]
    },
    {
     "name": "stdout",
     "output_type": "stream",
     "text": [
      "SKIPPING https://armenpress.am/eng/news/516875\n",
      "SKIPPING https://armenpress.am/eng/news/516831\n"
     ]
    },
    {
     "name": "stderr",
     "output_type": "stream",
     "text": [
      "2023-11-23 00:48:39 [scrapy.core.engine] DEBUG: Crawled (200) <GET https://armenpress.am/eng/news/514837> (referer: None)\n"
     ]
    },
    {
     "name": "stdout",
     "output_type": "stream",
     "text": [
      "SKIPPING https://armenpress.am/eng/news/514905\n",
      "SKIPPING https://armenpress.am/eng/news/516445\n",
      "SKIPPING https://armenpress.am/eng/news/514837\n"
     ]
    },
    {
     "name": "stderr",
     "output_type": "stream",
     "text": [
      "2023-11-23 00:48:39 [scrapy.core.engine] DEBUG: Crawled (200) <GET https://armenpress.am/eng/news/514673> (referer: None)\n",
      "2023-11-23 00:48:39 [scrapy.core.engine] DEBUG: Crawled (200) <GET https://armenpress.am/eng/news/515483> (referer: None)\n",
      "2023-11-23 00:48:39 [scrapy.core.engine] DEBUG: Crawled (200) <GET https://armenpress.am/eng/news/514198> (referer: None)\n"
     ]
    },
    {
     "name": "stdout",
     "output_type": "stream",
     "text": [
      "SKIPPING https://armenpress.am/eng/news/514673\n",
      "SKIPPING https://armenpress.am/eng/news/515483\n"
     ]
    },
    {
     "name": "stderr",
     "output_type": "stream",
     "text": [
      "2023-11-23 00:48:39 [scrapy.core.engine] DEBUG: Crawled (200) <GET https://armenpress.am/eng/news/516769> (referer: None)\n",
      "2023-11-23 00:48:39 [scrapy.core.engine] DEBUG: Crawled (200) <GET https://armenpress.am/eng/news/517042> (referer: None)\n"
     ]
    },
    {
     "name": "stdout",
     "output_type": "stream",
     "text": [
      "SKIPPING https://armenpress.am/eng/news/514198\n",
      "SKIPPING https://armenpress.am/eng/news/516769\n",
      "SKIPPING https://armenpress.am/eng/news/517042\n"
     ]
    },
    {
     "name": "stderr",
     "output_type": "stream",
     "text": [
      "2023-11-23 00:48:40 [scrapy.core.engine] DEBUG: Crawled (200) <GET https://armenpress.am/eng/news/516358> (referer: None)\n",
      "2023-11-23 00:48:40 [scrapy.core.engine] DEBUG: Crawled (200) <GET https://armenpress.am/eng/news/517382> (referer: None)\n",
      "2023-11-23 00:48:40 [scrapy.core.engine] DEBUG: Crawled (200) <GET https://armenpress.am/eng/news/517085> (referer: None)\n"
     ]
    },
    {
     "name": "stdout",
     "output_type": "stream",
     "text": [
      "SKIPPING https://armenpress.am/eng/news/516358\n",
      "SKIPPING https://armenpress.am/eng/news/517382\n"
     ]
    },
    {
     "name": "stderr",
     "output_type": "stream",
     "text": [
      "2023-11-23 00:48:40 [scrapy.core.engine] DEBUG: Crawled (200) <GET https://armenpress.am/eng/news/514259> (referer: None)\n",
      "2023-11-23 00:48:40 [scrapy.core.engine] DEBUG: Crawled (200) <GET https://armenpress.am/eng/news/516389> (referer: None)\n",
      "2023-11-23 00:48:40 [scrapy.core.engine] DEBUG: Crawled (200) <GET https://armenpress.am/eng/news/515778> (referer: None)\n"
     ]
    },
    {
     "name": "stdout",
     "output_type": "stream",
     "text": [
      "SKIPPING https://armenpress.am/eng/news/517085\n",
      "SKIPPING https://armenpress.am/eng/news/514259\n"
     ]
    },
    {
     "name": "stderr",
     "output_type": "stream",
     "text": [
      "2023-11-23 00:48:40 [scrapy.core.engine] DEBUG: Crawled (200) <GET https://armenpress.am/eng/news/515221> (referer: None)\n"
     ]
    },
    {
     "name": "stdout",
     "output_type": "stream",
     "text": [
      "SKIPPING https://armenpress.am/eng/news/516389\n",
      "SKIPPING https://armenpress.am/eng/news/515778\n"
     ]
    },
    {
     "name": "stderr",
     "output_type": "stream",
     "text": [
      "2023-11-23 00:48:40 [scrapy.core.engine] DEBUG: Crawled (200) <GET https://armenpress.am/eng/news/516918> (referer: None)\n",
      "2023-11-23 00:48:40 [scrapy.core.engine] DEBUG: Crawled (200) <GET https://armenpress.am/eng/news/514523> (referer: None)\n"
     ]
    },
    {
     "name": "stdout",
     "output_type": "stream",
     "text": [
      "SKIPPING https://armenpress.am/eng/news/515221\n",
      "SKIPPING https://armenpress.am/eng/news/516918\n"
     ]
    },
    {
     "name": "stderr",
     "output_type": "stream",
     "text": [
      "2023-11-23 00:48:41 [scrapy.core.engine] DEBUG: Crawled (200) <GET https://armenpress.am/eng/news/516365> (referer: None)\n",
      "2023-11-23 00:48:41 [scrapy.core.engine] DEBUG: Crawled (200) <GET https://armenpress.am/eng/news/517017> (referer: None)\n",
      "2023-11-23 00:48:41 [scrapy.core.engine] DEBUG: Crawled (200) <GET https://armenpress.am/eng/news/516677> (referer: None)\n"
     ]
    },
    {
     "name": "stdout",
     "output_type": "stream",
     "text": [
      "SKIPPING https://armenpress.am/eng/news/514523\n",
      "SKIPPING https://armenpress.am/eng/news/516365\n",
      "SKIPPING https://armenpress.am/eng/news/517017\n"
     ]
    },
    {
     "name": "stderr",
     "output_type": "stream",
     "text": [
      "2023-11-23 00:48:41 [scrapy.core.engine] DEBUG: Crawled (200) <GET https://armenpress.am/eng/news/516498> (referer: None)\n",
      "2023-11-23 00:48:41 [scrapy.core.engine] DEBUG: Crawled (200) <GET https://armenpress.am/eng/news/516548> (referer: None)\n",
      "2023-11-23 00:48:41 [scrapy.core.engine] DEBUG: Crawled (200) <GET https://armenpress.am/eng/news/514367> (referer: None)\n"
     ]
    },
    {
     "name": "stdout",
     "output_type": "stream",
     "text": [
      "SKIPPING https://armenpress.am/eng/news/516677\n",
      "SKIPPING https://armenpress.am/eng/news/516498\n",
      "SKIPPING https://armenpress.am/eng/news/516548\n"
     ]
    },
    {
     "name": "stderr",
     "output_type": "stream",
     "text": [
      "2023-11-23 00:48:41 [scrapy.core.engine] DEBUG: Crawled (200) <GET https://armenpress.am/eng/news/514454> (referer: None)\n",
      "2023-11-23 00:48:41 [scrapy.core.engine] DEBUG: Crawled (200) <GET https://armenpress.am/eng/news/516523> (referer: None)\n"
     ]
    },
    {
     "name": "stdout",
     "output_type": "stream",
     "text": [
      "SKIPPING https://armenpress.am/eng/news/514367\n",
      "SKIPPING https://armenpress.am/eng/news/514454\n"
     ]
    },
    {
     "name": "stderr",
     "output_type": "stream",
     "text": [
      "2023-11-23 00:48:41 [scrapy.core.engine] DEBUG: Crawled (200) <GET https://armenpress.am/eng/news/515627> (referer: None)\n",
      "2023-11-23 00:48:42 [scrapy.core.engine] DEBUG: Crawled (200) <GET https://armenpress.am/eng/news/516004> (referer: None)\n"
     ]
    },
    {
     "name": "stdout",
     "output_type": "stream",
     "text": [
      "SKIPPING https://armenpress.am/eng/news/516523\n",
      "SKIPPING https://armenpress.am/eng/news/515627\n"
     ]
    },
    {
     "name": "stderr",
     "output_type": "stream",
     "text": [
      "2023-11-23 00:48:42 [scrapy.core.engine] DEBUG: Crawled (200) <GET https://armenpress.am/eng/news/513670> (referer: None)\n",
      "2023-11-23 00:48:42 [scrapy.core.engine] DEBUG: Crawled (200) <GET https://armenpress.am/eng/news/517364> (referer: None)\n",
      "2023-11-23 00:48:42 [scrapy.core.engine] DEBUG: Crawled (200) <GET https://armenpress.am/eng/news/515222> (referer: None)\n"
     ]
    },
    {
     "name": "stdout",
     "output_type": "stream",
     "text": [
      "SKIPPING https://armenpress.am/eng/news/516004\n",
      "SKIPPING https://armenpress.am/eng/news/513670\n"
     ]
    },
    {
     "name": "stderr",
     "output_type": "stream",
     "text": [
      "2023-11-23 00:48:42 [scrapy.core.engine] DEBUG: Crawled (200) <GET https://armenpress.am/eng/news/515411> (referer: None)\n"
     ]
    },
    {
     "name": "stdout",
     "output_type": "stream",
     "text": [
      "SKIPPING https://armenpress.am/eng/news/517364\n",
      "SKIPPING https://armenpress.am/eng/news/515222\n"
     ]
    },
    {
     "name": "stderr",
     "output_type": "stream",
     "text": [
      "2023-11-23 00:48:42 [scrapy.core.engine] DEBUG: Crawled (200) <GET https://armenpress.am/eng/news/513778> (referer: None)\n",
      "2023-11-23 00:48:42 [scrapy.core.engine] DEBUG: Crawled (200) <GET https://armenpress.am/eng/news/513657> (referer: None)\n"
     ]
    },
    {
     "name": "stdout",
     "output_type": "stream",
     "text": [
      "SKIPPING https://armenpress.am/eng/news/515411\n",
      "SKIPPING https://armenpress.am/eng/news/513778\n"
     ]
    },
    {
     "name": "stderr",
     "output_type": "stream",
     "text": [
      "2023-11-23 00:48:42 [scrapy.core.engine] DEBUG: Crawled (200) <GET https://armenpress.am/eng/news/516360> (referer: None)\n",
      "2023-11-23 00:48:42 [scrapy.core.engine] DEBUG: Crawled (200) <GET https://armenpress.am/eng/news/514275> (referer: None)\n",
      "2023-11-23 00:48:43 [scrapy.core.engine] DEBUG: Crawled (200) <GET https://armenpress.am/eng/news/515089> (referer: None)\n"
     ]
    },
    {
     "name": "stdout",
     "output_type": "stream",
     "text": [
      "SKIPPING https://armenpress.am/eng/news/513657\n",
      "SKIPPING https://armenpress.am/eng/news/516360\n",
      "SKIPPING https://armenpress.am/eng/news/514275\n"
     ]
    },
    {
     "name": "stderr",
     "output_type": "stream",
     "text": [
      "2023-11-23 00:48:43 [scrapy.core.engine] DEBUG: Crawled (200) <GET https://armenpress.am/eng/news/516469> (referer: None)\n",
      "2023-11-23 00:48:43 [scrapy.core.engine] DEBUG: Crawled (200) <GET https://armenpress.am/eng/news/513780> (referer: None)\n",
      "2023-11-23 00:48:43 [scrapy.core.engine] DEBUG: Crawled (200) <GET https://armenpress.am/eng/news/516557> (referer: None)\n"
     ]
    },
    {
     "name": "stdout",
     "output_type": "stream",
     "text": [
      "SKIPPING https://armenpress.am/eng/news/515089\n",
      "SKIPPING https://armenpress.am/eng/news/516469\n"
     ]
    },
    {
     "name": "stderr",
     "output_type": "stream",
     "text": [
      "2023-11-23 00:48:43 [scrapy.core.engine] DEBUG: Crawled (200) <GET https://armenpress.am/eng/news/513992> (referer: None)\n",
      "2023-11-23 00:48:43 [scrapy.core.engine] DEBUG: Crawled (200) <GET https://armenpress.am/eng/news/516059> (referer: None)\n"
     ]
    },
    {
     "name": "stdout",
     "output_type": "stream",
     "text": [
      "SKIPPING https://armenpress.am/eng/news/513780\n",
      "SKIPPING https://armenpress.am/eng/news/516557\n",
      "SKIPPING https://armenpress.am/eng/news/513992\n"
     ]
    },
    {
     "name": "stderr",
     "output_type": "stream",
     "text": [
      "2023-11-23 00:48:43 [scrapy.core.engine] DEBUG: Crawled (200) <GET https://armenpress.am/eng/news/515108> (referer: None)\n",
      "2023-11-23 00:48:43 [scrapy.core.engine] DEBUG: Crawled (200) <GET https://armenpress.am/eng/news/513985> (referer: None)\n",
      "2023-11-23 00:48:43 [scrapy.core.engine] DEBUG: Crawled (200) <GET https://armenpress.am/eng/news/516520> (referer: None)\n"
     ]
    },
    {
     "name": "stdout",
     "output_type": "stream",
     "text": [
      "SKIPPING https://armenpress.am/eng/news/516059\n",
      "SKIPPING https://armenpress.am/eng/news/515108\n",
      "SKIPPING https://armenpress.am/eng/news/513985\n"
     ]
    },
    {
     "name": "stderr",
     "output_type": "stream",
     "text": [
      "2023-11-23 00:48:44 [scrapy.core.engine] DEBUG: Crawled (200) <GET https://armenpress.am/eng/news/514397> (referer: None)\n",
      "2023-11-23 00:48:44 [scrapy.core.engine] DEBUG: Crawled (200) <GET https://armenpress.am/eng/news/514304> (referer: None)\n"
     ]
    },
    {
     "name": "stdout",
     "output_type": "stream",
     "text": [
      "SKIPPING https://armenpress.am/eng/news/516520\n",
      "SKIPPING https://armenpress.am/eng/news/514397\n"
     ]
    },
    {
     "name": "stderr",
     "output_type": "stream",
     "text": [
      "2023-11-23 00:48:44 [scrapy.core.engine] DEBUG: Crawled (200) <GET https://armenpress.am/eng/news/516295> (referer: None)\n",
      "2023-11-23 00:48:44 [scrapy.core.engine] DEBUG: Crawled (200) <GET https://armenpress.am/eng/news/515626> (referer: None)\n"
     ]
    },
    {
     "name": "stdout",
     "output_type": "stream",
     "text": [
      "SKIPPING https://armenpress.am/eng/news/514304\n",
      "SKIPPING https://armenpress.am/eng/news/516295\n"
     ]
    },
    {
     "name": "stderr",
     "output_type": "stream",
     "text": [
      "2023-11-23 00:48:44 [scrapy.core.engine] DEBUG: Crawled (200) <GET https://armenpress.am/eng/news/516975> (referer: None)\n",
      "2023-11-23 00:48:44 [scrapy.core.engine] DEBUG: Crawled (200) <GET https://armenpress.am/eng/news/513662> (referer: None)\n"
     ]
    },
    {
     "name": "stdout",
     "output_type": "stream",
     "text": [
      "SKIPPING https://armenpress.am/eng/news/515626\n",
      "SKIPPING https://armenpress.am/eng/news/516975\n"
     ]
    },
    {
     "name": "stderr",
     "output_type": "stream",
     "text": [
      "2023-11-23 00:48:44 [scrapy.core.engine] DEBUG: Crawled (200) <GET https://armenpress.am/eng/news/515156> (referer: None)\n",
      "2023-11-23 00:48:44 [scrapy.core.engine] DEBUG: Crawled (200) <GET https://armenpress.am/eng/news/780551> (referer: None)\n",
      "2023-11-23 00:48:44 [scrapy.core.engine] DEBUG: Crawled (200) <GET https://armenpress.am/eng/news/514687> (referer: None)\n"
     ]
    },
    {
     "name": "stdout",
     "output_type": "stream",
     "text": [
      "SKIPPING https://armenpress.am/eng/news/513662\n",
      "SKIPPING https://armenpress.am/eng/news/515156\n",
      "SKIPPING https://armenpress.am/eng/news/780551\n"
     ]
    },
    {
     "name": "stderr",
     "output_type": "stream",
     "text": [
      "2023-11-23 00:48:44 [scrapy.core.engine] DEBUG: Crawled (200) <GET https://armenpress.am/eng/news/514853> (referer: None)\n",
      "2023-11-23 00:48:45 [scrapy.core.engine] DEBUG: Crawled (200) <GET https://armenpress.am/eng/news/515131> (referer: None)\n"
     ]
    },
    {
     "name": "stdout",
     "output_type": "stream",
     "text": [
      "SKIPPING https://armenpress.am/eng/news/514687\n",
      "SKIPPING https://armenpress.am/eng/news/514853\n"
     ]
    },
    {
     "name": "stderr",
     "output_type": "stream",
     "text": [
      "2023-11-23 00:48:45 [scrapy.core.engine] DEBUG: Crawled (200) <GET https://armenpress.am/eng/news/516553> (referer: None)\n",
      "2023-11-23 00:48:45 [scrapy.core.engine] DEBUG: Crawled (200) <GET https://armenpress.am/eng/news/514133> (referer: None)\n",
      "2023-11-23 00:48:45 [scrapy.core.engine] DEBUG: Crawled (200) <GET https://armenpress.am/eng/news/513897> (referer: None)\n"
     ]
    },
    {
     "name": "stdout",
     "output_type": "stream",
     "text": [
      "SKIPPING https://armenpress.am/eng/news/515131\n",
      "SKIPPING https://armenpress.am/eng/news/516553\n",
      "SKIPPING https://armenpress.am/eng/news/514133\n"
     ]
    },
    {
     "name": "stderr",
     "output_type": "stream",
     "text": [
      "2023-11-23 00:48:45 [scrapy.core.engine] DEBUG: Crawled (200) <GET https://armenpress.am/eng/news/515945> (referer: None)\n",
      "2023-11-23 00:48:45 [scrapy.core.engine] DEBUG: Crawled (200) <GET https://armenpress.am/eng/news/516093> (referer: None)\n"
     ]
    },
    {
     "name": "stdout",
     "output_type": "stream",
     "text": [
      "SKIPPING https://armenpress.am/eng/news/513897\n",
      "SKIPPING https://armenpress.am/eng/news/515945\n"
     ]
    },
    {
     "name": "stderr",
     "output_type": "stream",
     "text": [
      "2023-11-23 00:48:45 [scrapy.core.engine] DEBUG: Crawled (200) <GET https://armenpress.am/eng/news/517066> (referer: None)\n",
      "2023-11-23 00:48:45 [scrapy.core.engine] DEBUG: Crawled (200) <GET https://armenpress.am/eng/news/513920> (referer: None)\n",
      "2023-11-23 00:48:45 [scrapy.core.engine] DEBUG: Crawled (200) <GET https://armenpress.am/eng/news/516499> (referer: None)\n"
     ]
    },
    {
     "name": "stdout",
     "output_type": "stream",
     "text": [
      "SKIPPING https://armenpress.am/eng/news/516093\n",
      "SKIPPING https://armenpress.am/eng/news/517066\n",
      "SKIPPING https://armenpress.am/eng/news/513920\n"
     ]
    },
    {
     "name": "stderr",
     "output_type": "stream",
     "text": [
      "2023-11-23 00:48:45 [scrapy.core.engine] DEBUG: Crawled (200) <GET https://armenpress.am/eng/news/516694> (referer: None)\n",
      "2023-11-23 00:48:46 [scrapy.core.engine] DEBUG: Crawled (200) <GET https://armenpress.am/eng/news/513991> (referer: None)\n"
     ]
    },
    {
     "name": "stdout",
     "output_type": "stream",
     "text": [
      "SKIPPING https://armenpress.am/eng/news/516499\n",
      "SKIPPING https://armenpress.am/eng/news/516694\n",
      "SKIPPING https://armenpress.am/eng/news/513991\n"
     ]
    },
    {
     "name": "stderr",
     "output_type": "stream",
     "text": [
      "2023-11-23 00:48:46 [scrapy.core.engine] DEBUG: Crawled (200) <GET https://armenpress.am/eng/news/516821> (referer: None)\n",
      "2023-11-23 00:48:46 [scrapy.core.engine] DEBUG: Crawled (200) <GET https://armenpress.am/eng/news/514871> (referer: None)\n",
      "2023-11-23 00:48:46 [scrapy.core.engine] DEBUG: Crawled (200) <GET https://armenpress.am/eng/news/517424> (referer: None)\n"
     ]
    },
    {
     "name": "stdout",
     "output_type": "stream",
     "text": [
      "SKIPPING https://armenpress.am/eng/news/516821\n",
      "SKIPPING https://armenpress.am/eng/news/514871\n",
      "SKIPPING https://armenpress.am/eng/news/517424\n"
     ]
    },
    {
     "name": "stderr",
     "output_type": "stream",
     "text": [
      "2023-11-23 00:48:46 [scrapy.core.engine] DEBUG: Crawled (200) <GET https://armenpress.am/eng/news/514957> (referer: None)\n",
      "2023-11-23 00:48:46 [scrapy.core.engine] DEBUG: Crawled (200) <GET https://armenpress.am/eng/news/514268> (referer: None)\n",
      "2023-11-23 00:48:46 [scrapy.core.engine] DEBUG: Crawled (200) <GET https://armenpress.am/eng/news/516232> (referer: None)\n",
      "2023-11-23 00:48:46 [scrapy.core.engine] DEBUG: Crawled (200) <GET https://armenpress.am/eng/news/514671> (referer: None)\n"
     ]
    },
    {
     "name": "stdout",
     "output_type": "stream",
     "text": [
      "SKIPPING https://armenpress.am/eng/news/514957\n",
      "SKIPPING https://armenpress.am/eng/news/514268\n",
      "SKIPPING https://armenpress.am/eng/news/516232\n"
     ]
    },
    {
     "name": "stderr",
     "output_type": "stream",
     "text": [
      "2023-11-23 00:48:46 [scrapy.core.engine] DEBUG: Crawled (200) <GET https://armenpress.am/eng/news/515163> (referer: None)\n",
      "2023-11-23 00:48:46 [scrapy.core.engine] DEBUG: Crawled (200) <GET https://armenpress.am/eng/news/515259> (referer: None)\n",
      "2023-11-23 00:48:47 [scrapy.core.engine] DEBUG: Crawled (200) <GET https://armenpress.am/eng/news/517121> (referer: None)\n"
     ]
    },
    {
     "name": "stdout",
     "output_type": "stream",
     "text": [
      "SKIPPING https://armenpress.am/eng/news/514671\n",
      "SKIPPING https://armenpress.am/eng/news/515163\n",
      "SKIPPING https://armenpress.am/eng/news/515259\n"
     ]
    },
    {
     "name": "stderr",
     "output_type": "stream",
     "text": [
      "2023-11-23 00:48:47 [scrapy.core.engine] DEBUG: Crawled (200) <GET https://armenpress.am/eng/news/514786> (referer: None)\n",
      "2023-11-23 00:48:47 [scrapy.core.engine] DEBUG: Crawled (200) <GET https://armenpress.am/eng/news/516951> (referer: None)\n"
     ]
    },
    {
     "name": "stdout",
     "output_type": "stream",
     "text": [
      "SKIPPING https://armenpress.am/eng/news/517121\n",
      "SKIPPING https://armenpress.am/eng/news/514786\n",
      "SKIPPING https://armenpress.am/eng/news/516951\n"
     ]
    },
    {
     "name": "stderr",
     "output_type": "stream",
     "text": [
      "2023-11-23 00:48:47 [scrapy.core.engine] DEBUG: Crawled (200) <GET https://armenpress.am/eng/news/517262> (referer: None)\n",
      "2023-11-23 00:48:47 [scrapy.core.engine] DEBUG: Crawled (200) <GET https://armenpress.am/eng/news/516594> (referer: None)\n",
      "2023-11-23 00:48:47 [scrapy.core.engine] DEBUG: Crawled (200) <GET https://armenpress.am/eng/news/515838> (referer: None)\n"
     ]
    },
    {
     "name": "stdout",
     "output_type": "stream",
     "text": [
      "SKIPPING https://armenpress.am/eng/news/517262\n",
      "SKIPPING https://armenpress.am/eng/news/516594\n"
     ]
    },
    {
     "name": "stderr",
     "output_type": "stream",
     "text": [
      "2023-11-23 00:48:47 [scrapy.core.engine] DEBUG: Crawled (200) <GET https://armenpress.am/eng/news/517062> (referer: None)\n",
      "2023-11-23 00:48:47 [scrapy.core.engine] DEBUG: Crawled (200) <GET https://armenpress.am/eng/news/516345> (referer: None)\n",
      "2023-11-23 00:48:47 [scrapy.core.engine] DEBUG: Crawled (200) <GET https://armenpress.am/eng/news/515500> (referer: None)\n"
     ]
    },
    {
     "name": "stdout",
     "output_type": "stream",
     "text": [
      "SKIPPING https://armenpress.am/eng/news/515838\n",
      "SKIPPING https://armenpress.am/eng/news/517062\n",
      "SKIPPING https://armenpress.am/eng/news/516345\n"
     ]
    },
    {
     "name": "stderr",
     "output_type": "stream",
     "text": [
      "2023-11-23 00:48:47 [scrapy.core.engine] DEBUG: Crawled (200) <GET https://armenpress.am/eng/news/516074> (referer: None)\n",
      "2023-11-23 00:48:48 [scrapy.core.engine] DEBUG: Crawled (200) <GET https://armenpress.am/eng/news/516120> (referer: None)\n",
      "2023-11-23 00:48:48 [scrapy.core.engine] DEBUG: Crawled (200) <GET https://armenpress.am/eng/news/514094> (referer: None)\n"
     ]
    },
    {
     "name": "stdout",
     "output_type": "stream",
     "text": [
      "SKIPPING https://armenpress.am/eng/news/515500\n",
      "SKIPPING https://armenpress.am/eng/news/516074\n",
      "SKIPPING https://armenpress.am/eng/news/516120\n"
     ]
    },
    {
     "name": "stderr",
     "output_type": "stream",
     "text": [
      "2023-11-23 00:48:48 [scrapy.core.engine] DEBUG: Crawled (200) <GET https://armenpress.am/eng/news/516035> (referer: None)\n",
      "2023-11-23 00:48:48 [scrapy.core.engine] DEBUG: Crawled (200) <GET https://armenpress.am/eng/news/513673> (referer: None)\n"
     ]
    },
    {
     "name": "stdout",
     "output_type": "stream",
     "text": [
      "SKIPPING https://armenpress.am/eng/news/514094\n",
      "SKIPPING https://armenpress.am/eng/news/516035\n"
     ]
    },
    {
     "name": "stderr",
     "output_type": "stream",
     "text": [
      "2023-11-23 00:48:48 [scrapy.core.engine] DEBUG: Crawled (200) <GET https://armenpress.am/eng/news/517025> (referer: None)\n",
      "2023-11-23 00:48:48 [scrapy.core.engine] DEBUG: Crawled (200) <GET https://armenpress.am/eng/news/514494> (referer: None)\n"
     ]
    },
    {
     "name": "stdout",
     "output_type": "stream",
     "text": [
      "SKIPPING https://armenpress.am/eng/news/513673\n",
      "SKIPPING https://armenpress.am/eng/news/517025\n"
     ]
    },
    {
     "name": "stderr",
     "output_type": "stream",
     "text": [
      "2023-11-23 00:48:48 [scrapy.core.engine] DEBUG: Crawled (200) <GET https://armenpress.am/eng/news/516864> (referer: None)\n",
      "2023-11-23 00:48:48 [scrapy.core.engine] DEBUG: Crawled (200) <GET https://armenpress.am/eng/news/516835> (referer: None)\n",
      "2023-11-23 00:48:48 [scrapy.core.engine] DEBUG: Crawled (200) <GET https://armenpress.am/eng/news/514077> (referer: None)\n"
     ]
    },
    {
     "name": "stdout",
     "output_type": "stream",
     "text": [
      "SKIPPING https://armenpress.am/eng/news/514494\n",
      "SKIPPING https://armenpress.am/eng/news/516864\n"
     ]
    },
    {
     "name": "stderr",
     "output_type": "stream",
     "text": [
      "2023-11-23 00:48:48 [scrapy.core.engine] DEBUG: Crawled (200) <GET https://armenpress.am/eng/news/516858> (referer: None)\n"
     ]
    },
    {
     "name": "stdout",
     "output_type": "stream",
     "text": [
      "SKIPPING https://armenpress.am/eng/news/516835\n",
      "SKIPPING https://armenpress.am/eng/news/514077\n"
     ]
    },
    {
     "name": "stderr",
     "output_type": "stream",
     "text": [
      "2023-11-23 00:48:49 [scrapy.core.engine] DEBUG: Crawled (200) <GET https://armenpress.am/eng/news/514262> (referer: None)\n",
      "2023-11-23 00:48:49 [scrapy.core.engine] DEBUG: Crawled (200) <GET https://armenpress.am/eng/news/516392> (referer: None)\n"
     ]
    },
    {
     "name": "stdout",
     "output_type": "stream",
     "text": [
      "SKIPPING https://armenpress.am/eng/news/516858\n",
      "SKIPPING https://armenpress.am/eng/news/514262\n"
     ]
    },
    {
     "name": "stderr",
     "output_type": "stream",
     "text": [
      "2023-11-23 00:48:49 [scrapy.core.engine] DEBUG: Crawled (200) <GET https://armenpress.am/eng/news/516088> (referer: None)\n",
      "2023-11-23 00:48:49 [scrapy.core.engine] DEBUG: Crawled (200) <GET https://armenpress.am/eng/news/516691> (referer: None)\n"
     ]
    },
    {
     "name": "stdout",
     "output_type": "stream",
     "text": [
      "SKIPPING https://armenpress.am/eng/news/516392\n",
      "SKIPPING https://armenpress.am/eng/news/516088\n"
     ]
    },
    {
     "name": "stderr",
     "output_type": "stream",
     "text": [
      "2023-11-23 00:48:49 [scrapy.core.engine] DEBUG: Crawled (200) <GET https://armenpress.am/eng/news/517161> (referer: None)\n",
      "2023-11-23 00:48:49 [scrapy.core.engine] DEBUG: Crawled (200) <GET https://armenpress.am/eng/news/515614> (referer: None)\n"
     ]
    },
    {
     "name": "stdout",
     "output_type": "stream",
     "text": [
      "SKIPPING https://armenpress.am/eng/news/516691\n",
      "SKIPPING https://armenpress.am/eng/news/517161\n"
     ]
    },
    {
     "name": "stderr",
     "output_type": "stream",
     "text": [
      "2023-11-23 00:48:49 [scrapy.core.engine] DEBUG: Crawled (200) <GET https://armenpress.am/eng/news/516535> (referer: None)\n",
      "2023-11-23 00:48:49 [scrapy.core.engine] DEBUG: Crawled (200) <GET https://armenpress.am/eng/news/514605> (referer: None)\n",
      "2023-11-23 00:48:49 [scrapy.core.engine] DEBUG: Crawled (200) <GET https://armenpress.am/eng/news/515837> (referer: None)\n"
     ]
    },
    {
     "name": "stdout",
     "output_type": "stream",
     "text": [
      "SKIPPING https://armenpress.am/eng/news/515614\n",
      "SKIPPING https://armenpress.am/eng/news/516535\n",
      "SKIPPING https://armenpress.am/eng/news/514605\n"
     ]
    },
    {
     "name": "stderr",
     "output_type": "stream",
     "text": [
      "2023-11-23 00:48:50 [scrapy.core.engine] DEBUG: Crawled (200) <GET https://armenpress.am/eng/news/514134> (referer: None)\n",
      "2023-11-23 00:48:50 [scrapy.core.engine] DEBUG: Crawled (200) <GET https://armenpress.am/eng/news/516364> (referer: None)\n"
     ]
    },
    {
     "name": "stdout",
     "output_type": "stream",
     "text": [
      "SKIPPING https://armenpress.am/eng/news/515837\n",
      "SKIPPING https://armenpress.am/eng/news/514134\n",
      "SKIPPING https://armenpress.am/eng/news/516364\n"
     ]
    },
    {
     "name": "stderr",
     "output_type": "stream",
     "text": [
      "2023-11-23 00:48:50 [scrapy.crawler] INFO: Received SIGINT, shutting down gracefully. Send again to force \n",
      "2023-11-23 00:48:50 [scrapy.core.engine] INFO: Closing spider (shutdown)\n",
      "2023-11-23 00:48:50 [scrapy.core.engine] DEBUG: Crawled (200) <GET https://armenpress.am/eng/news/517453> (referer: None)\n",
      "2023-11-23 00:48:50 [scrapy.core.engine] DEBUG: Crawled (200) <GET https://armenpress.am/eng/news/517148> (referer: None)\n",
      "2023-11-23 00:48:50 [scrapy.core.engine] DEBUG: Crawled (200) <GET https://armenpress.am/eng/news/514325> (referer: None)\n",
      "2023-11-23 00:48:50 [scrapy.core.engine] DEBUG: Crawled (200) <GET https://armenpress.am/eng/news/517104> (referer: None)\n"
     ]
    },
    {
     "name": "stdout",
     "output_type": "stream",
     "text": [
      "SKIPPING https://armenpress.am/eng/news/517453\n",
      "SKIPPING https://armenpress.am/eng/news/517148\n"
     ]
    },
    {
     "name": "stderr",
     "output_type": "stream",
     "text": [
      "2023-11-23 00:48:50 [scrapy.core.engine] DEBUG: Crawled (200) <GET https://armenpress.am/eng/news/515045> (referer: None)\n",
      "2023-11-23 00:48:50 [scrapy.core.engine] DEBUG: Crawled (200) <GET https://armenpress.am/eng/news/514197> (referer: None)\n"
     ]
    },
    {
     "name": "stdout",
     "output_type": "stream",
     "text": [
      "SKIPPING https://armenpress.am/eng/news/514325\n",
      "SKIPPING https://armenpress.am/eng/news/517104\n",
      "SKIPPING https://armenpress.am/eng/news/515045\n"
     ]
    },
    {
     "name": "stderr",
     "output_type": "stream",
     "text": [
      "2023-11-23 00:48:50 [scrapy.core.engine] DEBUG: Crawled (200) <GET https://armenpress.am/eng/news/516763> (referer: None)\n",
      "2023-11-23 00:48:50 [scrapy.core.engine] DEBUG: Crawled (200) <GET https://armenpress.am/eng/news/514527> (referer: None)\n"
     ]
    },
    {
     "name": "stdout",
     "output_type": "stream",
     "text": [
      "SKIPPING https://armenpress.am/eng/news/514197\n",
      "SKIPPING https://armenpress.am/eng/news/516763\n"
     ]
    },
    {
     "name": "stderr",
     "output_type": "stream",
     "text": [
      "2023-11-23 00:48:50 [scrapy.core.engine] DEBUG: Crawled (200) <GET https://armenpress.am/eng/news/516788> (referer: None)\n",
      "2023-11-23 00:48:51 [scrapy.core.engine] DEBUG: Crawled (200) <GET https://armenpress.am/eng/news/516790> (referer: None)\n"
     ]
    },
    {
     "name": "stdout",
     "output_type": "stream",
     "text": [
      "SKIPPING https://armenpress.am/eng/news/514527\n",
      "SKIPPING https://armenpress.am/eng/news/516788\n"
     ]
    },
    {
     "name": "stderr",
     "output_type": "stream",
     "text": [
      "2023-11-23 00:48:51 [scrapy.core.engine] DEBUG: Crawled (200) <GET https://armenpress.am/eng/news/517340> (referer: None)\n",
      "2023-11-23 00:48:51 [scrapy.core.engine] DEBUG: Crawled (200) <GET https://armenpress.am/eng/news/516220> (referer: None)\n",
      "2023-11-23 00:48:51 [scrapy.core.engine] DEBUG: Crawled (200) <GET https://armenpress.am/eng/news/515165> (referer: None)\n"
     ]
    },
    {
     "name": "stdout",
     "output_type": "stream",
     "text": [
      "SKIPPING https://armenpress.am/eng/news/516790\n",
      "SKIPPING https://armenpress.am/eng/news/517340\n"
     ]
    },
    {
     "name": "stderr",
     "output_type": "stream",
     "text": [
      "2023-11-23 00:48:51 [scrapy.core.engine] DEBUG: Crawled (200) <GET https://armenpress.am/eng/news/516566> (referer: None)\n",
      "2023-11-23 00:48:51 [scrapy.core.engine] DEBUG: Crawled (200) <GET https://armenpress.am/eng/news/516583> (referer: None)\n"
     ]
    },
    {
     "name": "stdout",
     "output_type": "stream",
     "text": [
      "SKIPPING https://armenpress.am/eng/news/516220\n",
      "SKIPPING https://armenpress.am/eng/news/515165\n",
      "SKIPPING https://armenpress.am/eng/news/516566\n"
     ]
    },
    {
     "name": "stderr",
     "output_type": "stream",
     "text": [
      "2023-11-23 00:48:51 [scrapy.core.engine] DEBUG: Crawled (200) <GET https://armenpress.am/eng/news/513761> (referer: None)\n",
      "2023-11-23 00:48:51 [scrapy.statscollectors] INFO: Dumping Scrapy stats:\n",
      "{'downloader/request_bytes': 635177,\n",
      " 'downloader/request_count': 2522,\n",
      " 'downloader/request_method_count/GET': 2522,\n",
      " 'downloader/response_bytes': 27130588,\n",
      " 'downloader/response_count': 2522,\n",
      " 'downloader/response_status_count/200': 2522,\n",
      " 'dupefilter/filtered': 1543,\n",
      " 'elapsed_time_seconds': 260.214439,\n",
      " 'finish_reason': 'shutdown',\n",
      " 'finish_time': datetime.datetime(2023, 11, 22, 20, 48, 51, 792298, tzinfo=datetime.timezone.utc),\n",
      " 'httpcompression/response_bytes': 88872852,\n",
      " 'httpcompression/response_count': 2522,\n",
      " 'log_count/DEBUG': 2524,\n",
      " 'log_count/ERROR': 3,\n",
      " 'log_count/INFO': 15,\n",
      " 'log_count/WARNING': 1,\n",
      " 'response_received_count': 2522,\n",
      " 'scheduler/dequeued': 2522,\n",
      " 'scheduler/dequeued/memory': 2522,\n",
      " 'scheduler/enqueued': 2522,\n",
      " 'scheduler/enqueued/memory': 2522,\n",
      " 'spider_exceptions/AttributeError': 3,\n",
      " 'start_time': datetime.datetime(2023, 11, 22, 20, 44, 31, 577859, tzinfo=datetime.timezone.utc)}\n",
      "2023-11-23 00:48:51 [scrapy.core.engine] INFO: Spider closed (shutdown)\n"
     ]
    },
    {
     "name": "stdout",
     "output_type": "stream",
     "text": [
      "SKIPPING https://armenpress.am/eng/news/516583\n",
      "SKIPPING https://armenpress.am/eng/news/513761\n"
     ]
    }
   ],
   "source": [
    "proc = CrawlerProcess()\n",
    "proc.crawl(ArmenpressCrawler)\n",
    "proc.start()"
   ]
  },
  {
   "cell_type": "code",
   "execution_count": null,
   "metadata": {},
   "outputs": [],
   "source": [
    "response = requests.get(\"https://armenpress.am/eng/news/514567\")\n",
    "resp_text = \" \".join(response.text.split())\n",
    "soup = bs4.BeautifulSoup(resp_text)\n",
    "\n",
    "content = \" \".join(soup.find('span', {\"itemprop\":\"articleBody\"}).findAll(string=True)).replace(\"\\xa0\", \"\")\n",
    "title = \" \".join(soup.find('h1', {\"class\":\"opennewstitle\"}).findAll(string=True)).replace(\"\\xa0\", \"\")\n",
    "# if (t := re.findall('<h1 class=\"opennewstitle\" itemprop=\"name\">(.+)</h1>', resp_text)) is None:\n",
    "#     (t := re.findall('<p class=\"newsbycattitle\" style=\"font-weight:bold; margin-top:10px;\">(.+)</p>', resp_text))\n",
    "#     (c := re.findall('<p class=\"newsbycattext\">(.+)</p>', resp_text))\n",
    "#     t[0] = t[0].split(\"</p>\")[0]\n",
    "#     c[0] = c[0].split(\"/span>\")[1].replace(\"<br>\", \" \").strip()\n",
    "# else:\n",
    "#     (c := re.findall('itemprop=\"articleBody\"><?p?>?(.+)<?/?p?>?</span>', resp_text))\n",
    "#     c[0] = c[0].split(\"</p>\")[0]\n",
    "#     # temp_c = \"\"\n",
    "#     print(\"WWW\")\n",
    "    # gt = True\n",
    "    # tag = False\n",
    "    # for char in c[0]:\n",
    "    #     if char == \">\":\n",
    "    #         gt = True\n",
    "    #         tag = False\n",
    "    #     elif char == \"<\":\n",
    "    #         gt = False\n",
    "    #     c += char if gt else \"\"\n",
    "\n",
    "\"Please be informed that the content of this topic is available only for the Subscribers of ARMENPRESS.\"\n",
    "title = t[0]\n",
    "content = c[0]\n",
    "title, content"
   ]
  },
  {
   "cell_type": "code",
   "execution_count": null,
   "metadata": {},
   "outputs": [],
   "source": [
    "\"Please be informed that the content of this topic is available only for the Subscribers of ARMENPRESS.\" in resp_text"
   ]
  },
  {
   "cell_type": "code",
   "execution_count": null,
   "metadata": {},
   "outputs": [],
   "source": [
    "response.css('span[itemprop=\"articleBody\"].last-child')"
   ]
  },
  {
   "cell_type": "code",
   "execution_count": null,
   "metadata": {},
   "outputs": [],
   "source": []
  }
 ],
 "metadata": {
  "kernelspec": {
   "display_name": "Python 3",
   "language": "python",
   "name": "python3"
  },
  "language_info": {
   "codemirror_mode": {
    "name": "ipython",
    "version": 3
   },
   "file_extension": ".py",
   "mimetype": "text/x-python",
   "name": "python",
   "nbconvert_exporter": "python",
   "pygments_lexer": "ipython3",
   "version": "3.11.3"
  }
 },
 "nbformat": 4,
 "nbformat_minor": 2
}
