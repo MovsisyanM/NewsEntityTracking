{
 "cells": [
  {
   "cell_type": "markdown",
   "metadata": {},
   "source": [
    "# Scraping article content"
   ]
  },
  {
   "cell_type": "code",
   "execution_count": 1,
   "metadata": {},
   "outputs": [],
   "source": [
    "import numpy as np\n",
    "import pandas as pd\n",
    "import requests\n",
    "import re\n",
    "import time\n",
    "import openai\n",
    "import redis\n",
    "import json\n",
    "import sqlite3\n",
    "import scrapy\n",
    "from scrapy.crawler import CrawlerProcess"
   ]
  },
  {
   "cell_type": "code",
   "execution_count": 2,
   "metadata": {},
   "outputs": [],
   "source": [
    "class ArmenpressCrawler(scrapy.Spider):\n",
    "    name = \"MovsisyansNewsCrawler\"\n",
    "\n",
    "    custom_settings=dict(\n",
    "        DOWNLOAD_DELAY = 0.08\n",
    "    )\n",
    "    \n",
    "    def __init__(self, *args, **kwargs):\n",
    "        super().__init__(*args, **kwargs)\n",
    "        self.domain = r\"https://armenpress.am/eng/news/\"\n",
    "        self.r = redis.Redis(\"localhost\", 5211, decode_responses=True)\n",
    "\n",
    "    def start_requests(self):\n",
    "        while True:\n",
    "            to_fetch = self.r.rpop(\"to_fetch\")\n",
    "            if to_fetch is None:\n",
    "                time.sleep(2)\n",
    "            else:\n",
    "                yield scrapy.Request(url=self.domain + str(to_fetch), callback=self.parse_article)\n",
    "\n",
    "    def parse_article(self, response):\n",
    "        print(f\"SCRAPING {response.url}\")\n",
    "        resp_text = \" \".join(response.text.split())\n",
    "        (title := \" \".join(re.findall('<h1 class=\"opennewstitle\" itemprop=\"name\">(.+)</h1>', resp_text)[0].split()))\n",
    "        print((content := \" \".join(response.css('span[itemprop=\"articleBody\"]::text').extract_first().split())))\n",
    "        id = int(re.findall(r\"\\d+\", response.url)[0])\n",
    "\n",
    "        self.r.lpush(\"to_store\", json.dumps({\"id\": id, \"title\": title, \"content\": content}))\n",
    "        "
   ]
  },
  {
   "cell_type": "code",
   "execution_count": 3,
   "metadata": {},
   "outputs": [
    {
     "name": "stderr",
     "output_type": "stream",
     "text": [
      "2023-11-19 23:36:51 [scrapy.utils.log] INFO: Scrapy 2.11.0 started (bot: scrapybot)\n",
      "2023-11-19 23:36:51 [scrapy.utils.log] INFO: Versions: lxml 4.9.3.0, libxml2 2.10.3, cssselect 1.2.0, parsel 1.8.1, w3lib 2.1.2, Twisted 22.10.0, Python 3.11.3 (tags/v3.11.3:f3909b8, Apr  4 2023, 23:49:59) [MSC v.1934 64 bit (AMD64)], pyOpenSSL 23.3.0 (OpenSSL 3.1.4 24 Oct 2023), cryptography 41.0.5, Platform Windows-10-10.0.22621-SP0\n",
      "2023-11-19 23:36:51 [scrapy.addons] INFO: Enabled addons:\n",
      "[]\n",
      "2023-11-19 23:36:51 [py.warnings] WARNING: c:\\Projects\\NewsEntityTracking\\.venv\\Lib\\site-packages\\scrapy\\utils\\request.py:254: ScrapyDeprecationWarning: '2.6' is a deprecated value for the 'REQUEST_FINGERPRINTER_IMPLEMENTATION' setting.\n",
      "\n",
      "It is also the default value. In other words, it is normal to get this warning if you have not defined a value for the 'REQUEST_FINGERPRINTER_IMPLEMENTATION' setting. This is so for backward compatibility reasons, but it will change in a future version of Scrapy.\n",
      "\n",
      "See the documentation of the 'REQUEST_FINGERPRINTER_IMPLEMENTATION' setting for information on how to handle this deprecation.\n",
      "  return cls(crawler)\n",
      "\n",
      "2023-11-19 23:36:51 [scrapy.utils.log] DEBUG: Using reactor: twisted.internet.selectreactor.SelectReactor\n",
      "2023-11-19 23:36:51 [scrapy.extensions.telnet] INFO: Telnet Password: fc49246e5f57ba9f\n"
     ]
    },
    {
     "name": "stderr",
     "output_type": "stream",
     "text": [
      "2023-11-19 23:36:51 [scrapy.middleware] INFO: Enabled extensions:\n",
      "['scrapy.extensions.corestats.CoreStats',\n",
      " 'scrapy.extensions.telnet.TelnetConsole',\n",
      " 'scrapy.extensions.logstats.LogStats']\n",
      "2023-11-19 23:36:51 [scrapy.crawler] INFO: Overridden settings:\n",
      "{'DOWNLOAD_DELAY': 0.08}\n",
      "2023-11-19 23:36:51 [scrapy.middleware] INFO: Enabled downloader middlewares:\n",
      "['scrapy.downloadermiddlewares.httpauth.HttpAuthMiddleware',\n",
      " 'scrapy.downloadermiddlewares.downloadtimeout.DownloadTimeoutMiddleware',\n",
      " 'scrapy.downloadermiddlewares.defaultheaders.DefaultHeadersMiddleware',\n",
      " 'scrapy.downloadermiddlewares.useragent.UserAgentMiddleware',\n",
      " 'scrapy.downloadermiddlewares.retry.RetryMiddleware',\n",
      " 'scrapy.downloadermiddlewares.redirect.MetaRefreshMiddleware',\n",
      " 'scrapy.downloadermiddlewares.httpcompression.HttpCompressionMiddleware',\n",
      " 'scrapy.downloadermiddlewares.redirect.RedirectMiddleware',\n",
      " 'scrapy.downloadermiddlewares.cookies.CookiesMiddleware',\n",
      " 'scrapy.downloadermiddlewares.httpproxy.HttpProxyMiddleware',\n",
      " 'scrapy.downloadermiddlewares.stats.DownloaderStats']\n",
      "2023-11-19 23:36:51 [scrapy.middleware] INFO: Enabled spider middlewares:\n",
      "['scrapy.spidermiddlewares.httperror.HttpErrorMiddleware',\n",
      " 'scrapy.spidermiddlewares.offsite.OffsiteMiddleware',\n",
      " 'scrapy.spidermiddlewares.referer.RefererMiddleware',\n",
      " 'scrapy.spidermiddlewares.urllength.UrlLengthMiddleware',\n",
      " 'scrapy.spidermiddlewares.depth.DepthMiddleware']\n",
      "2023-11-19 23:36:51 [scrapy.middleware] INFO: Enabled item pipelines:\n",
      "[]\n",
      "2023-11-19 23:36:51 [scrapy.core.engine] INFO: Spider opened\n",
      "2023-11-19 23:36:51 [scrapy.extensions.logstats] INFO: Crawled 0 pages (at 0 pages/min), scraped 0 items (at 0 items/min)\n",
      "2023-11-19 23:36:51 [scrapy.extensions.telnet] INFO: Telnet console listening on 127.0.0.1:6023\n",
      "2023-11-19 23:37:33 [scrapy.dupefilters] DEBUG: Filtered duplicate request: <GET https://armenpress.am/eng/news/218011> - no more duplicates will be shown (see DUPEFILTER_DEBUG to show all duplicates)\n",
      "2023-11-19 23:37:57 [scrapy.crawler] INFO: Received SIGINT, shutting down gracefully. Send again to force \n"
     ]
    }
   ],
   "source": [
    "proc = CrawlerProcess()\n",
    "proc.crawl(ArmenpressCrawler)\n",
    "proc.start()"
   ]
  },
  {
   "cell_type": "code",
   "execution_count": null,
   "metadata": {},
   "outputs": [],
   "source": [
    "# response = requests.get(\"https://armenpress.am/eng/news/218020\")\n",
    "# resp_text = \" \".join(response.text.split())\n",
    "# (title := re.findall('<h1 class=\"opennewstitle\" itemprop=\"name\">(.+)</h1>', resp_text)[0])\n",
    "# (content := re.findall('itemprop=\"articleBody\"><?p?>?(.+)<?/?p?>?</span>', resp_text)[0])\n",
    "\n",
    "# id = int(re.findall(r\"\\d+\", response.url)[0])"
   ]
  },
  {
   "cell_type": "code",
   "execution_count": null,
   "metadata": {},
   "outputs": [],
   "source": [
    "response.css('span[itemprop=\"articleBody\"].last-child')"
   ]
  },
  {
   "cell_type": "code",
   "execution_count": null,
   "metadata": {},
   "outputs": [],
   "source": []
  }
 ],
 "metadata": {
  "kernelspec": {
   "display_name": "Python 3",
   "language": "python",
   "name": "python3"
  },
  "language_info": {
   "codemirror_mode": {
    "name": "ipython",
    "version": 3
   },
   "file_extension": ".py",
   "mimetype": "text/x-python",
   "name": "python",
   "nbconvert_exporter": "python",
   "pygments_lexer": "ipython3",
   "version": "3.11.3"
  }
 },
 "nbformat": 4,
 "nbformat_minor": 2
}
