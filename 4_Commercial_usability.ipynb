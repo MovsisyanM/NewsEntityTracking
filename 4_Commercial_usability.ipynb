{
 "cells": [
  {
   "cell_type": "markdown",
   "metadata": {},
   "source": [
    "### Can we use this data for PR research?"
   ]
  },
  {
   "cell_type": "code",
   "execution_count": 1,
   "metadata": {},
   "outputs": [],
   "source": [
    "import pickle\n",
    "import numpy as np\n",
    "import networkx as nx\n",
    "from pathlib import Path\n",
    "import matplotlib.pyplot as plt\n",
    "\n",
    "possible_sents = [\"positive\", \"negative\", \"neutral\"]\n",
    "\n",
    "with open(Path(\"cache\") / \"entties.dict.pkl\", \"rb\") as f:\n",
    "    entities = pickle.load(f)"
   ]
  },
  {
   "cell_type": "code",
   "execution_count": 2,
   "metadata": {},
   "outputs": [],
   "source": [
    "def sentiment_of_terms(terms, entities=entities):\n",
    "    \"\"\"Counts the number of times an entity containing any of the terms\n",
    "    is given positive, negative, or neutral sentiment.\n",
    "\n",
    "    Args:\n",
    "        terms (list): terms to look for\n",
    "        entities (dict, optional): the entities and their sentiment data.\n",
    "        Defaults to entities.\n",
    "\n",
    "    Returns:\n",
    "        tuple[int, int, int]: positive, negative, neutral sentiment count\n",
    "    \"\"\"\n",
    "    pos, neg, neut = 0, 0, 0\n",
    "    for key, value in entities.items():\n",
    "        if any([i.lower() in key.lower() for i in terms]):\n",
    "            pos += value[\"positive\"]\n",
    "            neg += value[\"negative\"]\n",
    "            neut += value[\"neutral\"]\n",
    "\n",
    "    return pos, neg, neut"
   ]
  },
  {
   "cell_type": "code",
   "execution_count": 3,
   "metadata": {},
   "outputs": [
    {
     "data": {
      "text/plain": [
       "(4, 0, 2)"
      ]
     },
     "execution_count": 3,
     "metadata": {},
     "output_type": "execute_result"
    }
   ],
   "source": [
    "sentiment_of_terms([\"aua\", \"american universiy of armenia\"])"
   ]
  },
  {
   "cell_type": "code",
   "execution_count": 4,
   "metadata": {},
   "outputs": [
    {
     "data": {
      "text/plain": [
       "(23, 0, 3)"
      ]
     },
     "execution_count": 4,
     "metadata": {},
     "output_type": "execute_result"
    }
   ],
   "source": [
    "sentiment_of_terms([\"ucom\"])"
   ]
  },
  {
   "cell_type": "code",
   "execution_count": 5,
   "metadata": {},
   "outputs": [
    {
     "data": {
      "text/plain": [
       "(1346, 297, 1107)"
      ]
     },
     "execution_count": 5,
     "metadata": {},
     "output_type": "execute_result"
    }
   ],
   "source": [
    "sentiment_of_terms([\"usa\", \"united states of america\", \"america\"])"
   ]
  },
  {
   "cell_type": "code",
   "execution_count": 6,
   "metadata": {},
   "outputs": [
    {
     "data": {
      "text/plain": [
       "(6903, 5060, 13479)"
      ]
     },
     "execution_count": 6,
     "metadata": {},
     "output_type": "execute_result"
    }
   ],
   "source": [
    "sentiment_of_terms([\"russia\"])"
   ]
  },
  {
   "cell_type": "code",
   "execution_count": 7,
   "metadata": {},
   "outputs": [
    {
     "data": {
      "text/plain": [
       "(4, 11, 19)"
      ]
     },
     "execution_count": 7,
     "metadata": {},
     "output_type": "execute_result"
    }
   ],
   "source": [
    "sentiment_of_terms([\"nigeria\"]) "
   ]
  },
  {
   "cell_type": "code",
   "execution_count": 26,
   "metadata": {},
   "outputs": [
    {
     "name": "stdout",
     "output_type": "stream",
     "text": [
      "deputy chairman of the board of directors and the chairman of the management committee of the gazprom ojsc alexey miller {'positive': 0, 'negative': 0, 'neutral': 1, 'connections': [{'galust sahakyan': 1}, {}, {'armrusgasprom': 1, 'armenia': 1, 'russian federation': 1, 'russia': 1, 'republic of armenia': 1, 'gazprom': 1, 'minister of energy and natural resources of armenia armen movsisyan': 1}]}\n",
      "ojsc 'russian railways' {'positive': 0, 'negative': 0, 'neutral': 1, 'connections': [{}, {}, {'serzh sargsyan': 1, \"cjsc 'south caucasus railways'\": 1, 'vladimir yakunin': 1}]}\n",
      "federal passenger company ojsc {'positive': 0, 'negative': 0, 'neutral': 1, 'connections': [{\"russia's finance ministry\": 1}, {\"moody's investors service\": 1, 'gazprom': 1, 'rosneft': 1, 'lukoil': 1, 'novatek': 1, 'norilsk nikel': 1, 'uralkali': 1, 'megafon': 1, 'mts': 1, 'russian helicopters jsc': 1, 'russia': 1, 'ukraine': 1}, {'russian railways': 1, 'severstal oao': 1, 'new york-based bond credit rating agency': 1, 'mobile telesystems ojsc': 1}]}\n",
      "mobile telesystems ojsc {'positive': 0, 'negative': 0, 'neutral': 1, 'connections': [{\"russia's finance ministry\": 1}, {\"moody's investors service\": 1, 'gazprom': 1, 'rosneft': 1, 'lukoil': 1, 'novatek': 1, 'norilsk nikel': 1, 'uralkali': 1, 'megafon': 1, 'mts': 1, 'russian helicopters jsc': 1, 'russia': 1, 'ukraine': 1}, {'russian railways': 1, 'severstal oao': 1, 'new york-based bond credit rating agency': 1, 'federal passenger company ojsc': 1}]}\n",
      "nasdaq omx armenia ojsc {'positive': 0, 'negative': 0, 'neutral': 4, 'connections': [{'us dollar': 1, 'russian ruble': 2, 'euro': 1}, {'us dollar': 1, 'russian ruble': 2, 'euro': 2}, {'central bank of the republic of armenia': 3, 'armenpress': 2, 'armenia': 1, 'us dollar': 2, 'euro': 1, 'central bank': 1}]}\n",
      "russian railways ojsc {'positive': 3, 'negative': 0, 'neutral': 2, 'connections': [{'karen karapetyan': 1, 'south caucasus railway cjsc': 2, 'armenia': 2, 'alexander misharin': 1, 'alexei overchuk': 1, 'oleg belozyorov': 1}, {}, {'andrei starkov': 1, 'sergey valko': 2, 'armenpress': 2, 'government of armenia': 1, 'karen karapetyan': 1, 'nikol pashinyan': 1, 'oleg belozerov': 1, 'mher grigoryan': 1, 'sergei kopyrkin': 1, 'armenia-russia-azerbaijan deputy prime ministerial working group': 1, 'vladimir yakunin': 1, 'ra president serzh sargsyan': 1, 'prime minister tigran sargsyan': 1}]}\n",
      "zarubezh expo ojsc {'positive': 1, 'negative': 0, 'neutral': 0, 'connections': [{'armenia-russia trade turnover': 1, 'anna donchenko': 1, 'construction sector': 1, 'unions of constructors of armenia and russia': 1, 'anatoly nikolaev': 1}, {}, {}]}\n",
      "sukhoi ojsc {'positive': 0, 'negative': 0, 'neutral': 1, 'connections': [{'sukhoi superjet-100': 1, 'zvartnots airport': 1}, {}, {'armenia': 1, 'armavia airline': 1, 'mikhail bagdasarov': 1, 'igor levitin': 1}]}\n",
      "rusatom service ojsc {'positive': 0, 'negative': 0, 'neutral': 1, 'connections': [{'armenia': 1, 'russian federation': 1, 'armenian nuclear power plant (anpp)': 1, 'suren papikyan': 1, 'sergey kopirkin': 1}, {}, {}]}\n",
      "agency for housing mortgage lending ojsc {'positive': 0, 'negative': 1, 'neutral': 0, 'connections': [{}, {\"moody's investors service\": 1, 'bank vtb jsc': 1, 'gazprombank': 1, 'russian agricultural bank': 1, 'vnesheconombank': 1, \"russia's government debt rating\": 1}, {'sberbank': 1, 'alfa-bank': 1}]}\n"
     ]
    }
   ],
   "source": [
    "for key, value in entities.items():\n",
    "    if any([i in key for i in [\"ojsc\"]]):\n",
    "        print(key, value)"
   ]
  },
  {
   "cell_type": "markdown",
   "metadata": {},
   "source": [
    "The numbers above show that this data is not suitable for researching small, medium, or even large organizations which are less popular than countries, cities and politicians. Thus providing a commercial API that helps companies in the analysis of their PR campaigns."
   ]
  }
 ],
 "metadata": {
  "kernelspec": {
   "display_name": ".venv",
   "language": "python",
   "name": "python3"
  },
  "language_info": {
   "codemirror_mode": {
    "name": "ipython",
    "version": 3
   },
   "file_extension": ".py",
   "mimetype": "text/x-python",
   "name": "python",
   "nbconvert_exporter": "python",
   "pygments_lexer": "ipython3",
   "version": "3.11.3"
  }
 },
 "nbformat": 4,
 "nbformat_minor": 2
}
