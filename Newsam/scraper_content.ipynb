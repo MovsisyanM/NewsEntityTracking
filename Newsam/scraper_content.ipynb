{
 "cells": [
  {
   "cell_type": "markdown",
   "metadata": {},
   "source": [
    "# Scraping article content"
   ]
  },
  {
   "cell_type": "code",
   "execution_count": null,
   "metadata": {},
   "outputs": [],
   "source": [
    "import numpy as np\n",
    "import pandas as pd\n",
    "import requests\n",
    "import re\n",
    "import time\n",
    "import openai\n",
    "import redis\n",
    "import json\n",
    "import sqlite3\n",
    "import scrapy\n",
    "from scrapy.crawler import CrawlerProcess\n",
    "import bs4"
   ]
  },
  {
   "cell_type": "code",
   "execution_count": null,
   "metadata": {},
   "outputs": [],
   "source": [
    "class NewsamCrawler(scrapy.Spider):\n",
    "    name = \"MovsisyansNewsCrawler\"\n",
    "\n",
    "    custom_settings=dict(\n",
    "        DOWNLOAD_DELAY = 0.08\n",
    "    )\n",
    "    \n",
    "    def __init__(self, *args, **kwargs):\n",
    "        super().__init__(*args, **kwargs)\n",
    "        self.domain = r\"https://armenpress.am/eng/news/\"\n",
    "        self.r = redis.Redis(\"localhost\", 5211, decode_responses=True)\n",
    "\n",
    "    def start_requests(self):\n",
    "        while True:\n",
    "            to_fetch = self.r.rpop(\"to_fetch\")\n",
    "            if to_fetch is None:\n",
    "                time.sleep(2)\n",
    "            else:\n",
    "                yield scrapy.Request(url=self.domain + str(to_fetch), callback=self.parse_article)\n",
    "\n",
    "    def parse_article(self, response):\n",
    "        resp_text = \" \".join(response.text.split())\n",
    "        if \"Please be informed that the content of this topic is available only for the Subscribers of ARMENPRESS.\" in resp_text:\n",
    "            print(f\"SKIPPING {response.url}\")\n",
    "            return\n",
    "        \n",
    "        print(f\"SCRAPING {response.url}\")\n",
    "        soup = bs4.BeautifulSoup(resp_text)\n",
    "\n",
    "        content = \" \".join(soup.find('span', {\"itemprop\":\"articleBody\"}).findAll(string=True)).replace(\"\\xa0\", \"\")\n",
    "        title = \" \".join(soup.find('h1', {\"class\":\"opennewstitle\"}).findAll(string=True)).replace(\"\\xa0\", \"\")\n",
    "        id = int(re.findall(r\"\\d+\", response.url)[0])\n",
    "\n",
    "        self.r.lpush(\"to_store\", json.dumps({\"id\": id, \"headline\": title, \"content\": content}))\n",
    "        "
   ]
  },
  {
   "cell_type": "code",
   "execution_count": null,
   "metadata": {},
   "outputs": [],
   "source": [
    "proc = CrawlerProcess()\n",
    "proc.crawl(ArmenpressCrawler)\n",
    "proc.start()"
   ]
  },
  {
   "cell_type": "code",
   "execution_count": null,
   "metadata": {},
   "outputs": [],
   "source": [
    "response = requests.get(\"https://news.am/eng/news/2023/11/2023/11/21/\")\n",
    "resp_text = \" \".join(response.text.split())\n",
    "soup = bs4.BeautifulSoup(resp_text)\n",
    "\n",
    "content = \" \".join(soup.find('span', {\"itemprop\":\"articleBody\"}).findAll(string=True)).replace(\"\\xa0\", \"\")\n",
    "title = \" \".join(soup.find('h1', {\"class\":\"opennewstitle\"}).findAll(string=True)).replace(\"\\xa0\", \"\")\n",
    "# if (t := re.findall('<h1 class=\"opennewstitle\" itemprop=\"name\">(.+)</h1>', resp_text)) is None:\n",
    "#     (t := re.findall('<p class=\"newsbycattitle\" style=\"font-weight:bold; margin-top:10px;\">(.+)</p>', resp_text))\n",
    "#     (c := re.findall('<p class=\"newsbycattext\">(.+)</p>', resp_text))\n",
    "#     t[0] = t[0].split(\"</p>\")[0]\n",
    "#     c[0] = c[0].split(\"/span>\")[1].replace(\"<br>\", \" \").strip()\n",
    "# else:\n",
    "#     (c := re.findall('itemprop=\"articleBody\"><?p?>?(.+)<?/?p?>?</span>', resp_text))\n",
    "#     c[0] = c[0].split(\"</p>\")[0]\n",
    "#     # temp_c = \"\"\n",
    "#     print(\"WWW\")\n",
    "    # gt = True\n",
    "    # tag = False\n",
    "    # for char in c[0]:\n",
    "    #     if char == \">\":\n",
    "    #         gt = True\n",
    "    #         tag = False\n",
    "    #     elif char == \"<\":\n",
    "    #         gt = False\n",
    "    #     c += char if gt else \"\"\n",
    "\n",
    "\"Please be informed that the content of this topic is available only for the Subscribers of ARMENPRESS.\"\n",
    "title = t[0]\n",
    "content = c[0]\n",
    "title, content"
   ]
  },
  {
   "cell_type": "code",
   "execution_count": null,
   "metadata": {},
   "outputs": [],
   "source": [
    "\"Please be informed that the content of this topic is available only for the Subscribers of ARMENPRESS.\" in resp_text"
   ]
  },
  {
   "cell_type": "code",
   "execution_count": null,
   "metadata": {},
   "outputs": [],
   "source": [
    "response.css('span[itemprop=\"articleBody\"].last-child')"
   ]
  },
  {
   "cell_type": "code",
   "execution_count": null,
   "metadata": {},
   "outputs": [],
   "source": []
  }
 ],
 "metadata": {
  "kernelspec": {
   "display_name": "Python 3",
   "language": "python",
   "name": "python3"
  },
  "language_info": {
   "codemirror_mode": {
    "name": "ipython",
    "version": 3
   },
   "file_extension": ".py",
   "mimetype": "text/x-python",
   "name": "python",
   "nbconvert_exporter": "python",
   "pygments_lexer": "ipython3",
   "version": "3.11.3"
  }
 },
 "nbformat": 4,
 "nbformat_minor": 2
}
